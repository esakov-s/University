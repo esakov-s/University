{
 "cells": [
  {
   "cell_type": "code",
   "execution_count": 8,
   "metadata": {},
   "outputs": [
    {
     "name": "stdout",
     "output_type": "stream",
     "text": [
      "111.47116953262787\n"
     ]
    }
   ],
   "source": [
    "import math\n",
    "\n",
    "def per(met, j):\n",
    "    if j == 9:\n",
    "        return 1\n",
    "    co = 0\n",
    "    if 6 in met and 3 not in met or 9 in met and (3 not in met or 6 not in met):\n",
    "        return 0\n",
    "    for i in range(1, 10):\n",
    "        \n",
    "        if i not in met:\n",
    "            met = met + [i]\n",
    "            co += per(met, j + 1)\n",
    "            met = met[:len(met) - 2]\n",
    "    return(co)\n",
    "\n",
    "print(per([], 0) / math.factorial(9))"
   ]
  },
  {
   "cell_type": "code",
   "execution_count": 9,
   "metadata": {},
   "outputs": [
    {
     "name": "stdout",
     "output_type": "stream",
     "text": [
      "0.19306 0.17644\n"
     ]
    }
   ],
   "source": [
    "import numpy as np\n",
    "import random as r\n",
    "\n",
    "a = 0\n",
    "b = 0\n",
    "k = 100000\n",
    "for _ in range (0, k):\n",
    "    x = np.array([r.randint(1, 365) for _ in range(0, 13)])\n",
    "    a += (len(x) > len(np.unique(x)))\n",
    "    b += (len(x) == len(np.unique(x)) + 1)\n",
    "    \n",
    "print(a / k, b / k)"
   ]
  },
  {
   "cell_type": "code",
   "execution_count": null,
   "metadata": {},
   "outputs": [],
   "source": []
  }
 ],
 "metadata": {
  "kernelspec": {
   "display_name": "Python 3",
   "language": "python",
   "name": "python3"
  },
  "language_info": {
   "codemirror_mode": {
    "name": "ipython",
    "version": 3
   },
   "file_extension": ".py",
   "mimetype": "text/x-python",
   "name": "python",
   "nbconvert_exporter": "python",
   "pygments_lexer": "ipython3",
   "version": "3.8.3"
  }
 },
 "nbformat": 4,
 "nbformat_minor": 4
}
