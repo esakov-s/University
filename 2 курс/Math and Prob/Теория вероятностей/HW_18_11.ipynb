{
 "cells": [
  {
   "cell_type": "code",
   "execution_count": 61,
   "metadata": {},
   "outputs": [
    {
     "data": {
      "image/png": "[encoded data removed]",
      "text/plain": [
       "<Figure size 432x288 with 1 Axes>"
      ]
     },
     "metadata": {
      "needs_background": "light"
     },
     "output_type": "display_data"
    },
    {
     "name": "stdout",
     "output_type": "stream",
     "text": [
      "0.079134\n"
     ]
    }
   ],
   "source": [
    "#4.7\n",
    "\n",
    "import random as ra\n",
    "import numpy as np\n",
    "import matplotlib.pyplot as plt\n",
    "import math as ma\n",
    "\n",
    "res = 0\n",
    "N = 1000000\n",
    "res_y = []\n",
    "for v in range(N):\n",
    "    x = ra.random()\n",
    "    y = ra.random()\n",
    "\n",
    "\n",
    "    x, y = [min(x, y), max(x, y)]\n",
    "\n",
    "    parts = [x, y - x, 1 - y]\n",
    "\n",
    "    parts = sorted(parts)\n",
    "\n",
    "    #print(parts)\n",
    "\n",
    "    flag = True\n",
    "\n",
    "    for i in range(3):\n",
    "        if parts[i] < parts[i - 1] + parts[i - 2]:\n",
    "            continue\n",
    "        else:\n",
    "            flag = False\n",
    "\n",
    "    if parts[2] ** 2 >= parts[1] ** 2 + parts[0] ** 2:\n",
    "        flag = False\n",
    "    if flag == True:\n",
    "        res += 1\n",
    "    res_y.append(res / (v + 1))\n",
    "        \n",
    "plt.plot([i for i in range(0, N)], res_y)\n",
    "plt.show()\n",
    "print (res / N)"
   ]
  },
  {
   "cell_type": "code",
   "execution_count": 58,
   "metadata": {
    "scrolled": false
   },
   "outputs": [
    {
     "name": "stdout",
     "output_type": "stream",
     "text": [
      "0.58695\n"
     ]
    },
    {
     "data": {
      "image/png": "[encoded data removed]",
      "text/plain": [
       "<Figure size 432x288 with 1 Axes>"
      ]
     },
     "metadata": {
      "needs_background": "light"
     },
     "output_type": "display_data"
    }
   ],
   "source": [
    "#4.8\n",
    "res = 0\n",
    "N = 100000\n",
    "res_y = []\n",
    "for i in range (N):\n",
    "    x, y = [1, 1]\n",
    "    while x ** 2 + y ** 2 > 1:\n",
    "        x = ra.uniform(-1, 1)\n",
    "        y = ra.uniform(-1, 1)\n",
    "        \n",
    "    x1, y1 = [1, 1]\n",
    "    while x1 ** 2 + y1 ** 2 > 1:\n",
    "        x1 = ra.uniform(-1, 1)\n",
    "        y1 = ra.uniform(-1, 1)\n",
    "    \n",
    "    r = ma.sqrt((x1 - x) ** 2 + (y1 - y) ** 2)\n",
    "    #print(x, y, r)\n",
    "    if r < 1:\n",
    "        res += 1\n",
    "    res_y.append(res / (i + 1))\n",
    "\n",
    "print(res / N)\n",
    "    \n",
    "        \n",
    "plt.plot([i for i in range(0, N)], res_y)\n",
    "plt.show()"
   ]
  },
  {
   "cell_type": "code",
   "execution_count": 50,
   "metadata": {},
   "outputs": [
    {
     "name": "stdout",
     "output_type": "stream",
     "text": [
      "0.362921\n"
     ]
    }
   ],
   "source": [
    "#4.8_2\n",
    "N = 1000000\n",
    "res = 0\n",
    "for i in range (N):\n",
    "    x = ra.uniform(-1, 1)\n",
    "    y = ma.sqrt(1 - x ** 2) * ra.sample([-1, 1], 1)[0]\n",
    "        \n",
    "    x1 = ra.uniform(-1, 1)\n",
    "    y1 = ma.sqrt(1 - x1 ** 2) *  ra.sample([-1, 1], 1)[0]\n",
    "    \n",
    "    #print(x, y, '-', x1, y1)\n",
    "    r = ma.sqrt((x1 - x) ** 2 + (y1 - y) ** 2)\n",
    "    #print(x, y, r)\n",
    "    if r < 1:\n",
    "        res += 1\n",
    "\n",
    "print(res / N)\n",
    "    "
   ]
  },
  {
   "cell_type": "code",
   "execution_count": 25,
   "metadata": {},
   "outputs": [
    {
     "name": "stdout",
     "output_type": "stream",
     "text": [
      "[0.219, 0.2004, 0.20239, 0.200598, 0.2000933]\n"
     ]
    },
    {
     "data": {
      "image/png": "[encoded data removed]",
      "text/plain": [
       "<Figure size 432x288 with 1 Axes>"
      ]
     },
     "metadata": {
      "needs_background": "light"
     },
     "output_type": "display_data"
    }
   ],
   "source": [
    "# 4.12\n",
    "\n",
    "\n",
    "\n",
    "\n",
    "Ns = [1000, 10000, 100000, 1000000, 10000000]\n",
    "res_y = []\n",
    "for N in Ns:\n",
    "    res = 0\n",
    "    for i in range(N):\n",
    "        cur = np.random.uniform(0, 1)\n",
    "        a = ra.sample([i for i in range(1, 16)], 3)\n",
    "        for j in a:\n",
    "            if (j - 1) / 15.0 <= cur and cur < j / 15.0:\n",
    "                res += 1\n",
    "                break\n",
    "    res_y.append(res / N)\n",
    "        \n",
    "plt.plot([i for i in range(3, 8)], res_y)\n",
    "print (res_y)\n",
    "        "
   ]
  },
  {
   "cell_type": "code",
   "execution_count": 39,
   "metadata": {},
   "outputs": [
    {
     "name": "stdout",
     "output_type": "stream",
     "text": [
      "-0.536864502306784\n"
     ]
    }
   ],
   "source": [
    "print(ra.uniform(-1, 1))"
   ]
  },
  {
   "cell_type": "code",
   "execution_count": null,
   "metadata": {},
   "outputs": [],
   "source": []
  },
  {
   "cell_type": "code",
   "execution_count": null,
   "metadata": {},
   "outputs": [],
   "source": []
  }
 ],
 "metadata": {
  "kernelspec": {
   "display_name": "Python 3",
   "language": "python",
   "name": "python3"
  },
  "language_info": {
   "codemirror_mode": {
    "name": "ipython",
    "version": 3
   },
   "file_extension": ".py",
   "mimetype": "text/x-python",
   "name": "python",
   "nbconvert_exporter": "python",
   "pygments_lexer": "ipython3",
   "version": "3.8.3"
  }
 },
 "nbformat": 4,
 "nbformat_minor": 4
}
