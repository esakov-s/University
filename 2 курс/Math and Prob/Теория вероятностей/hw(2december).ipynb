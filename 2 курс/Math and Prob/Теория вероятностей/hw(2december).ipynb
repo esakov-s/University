{
 "cells": [
  {
   "cell_type": "code",
   "execution_count": 4,
   "metadata": {},
   "outputs": [
    {
     "name": "stdout",
     "output_type": "stream",
     "text": [
      "0.04273504273504273\n"
     ]
    }
   ],
   "source": [
    "#6.4(2)\n",
    "\n",
    "def xx (y):\n",
    "    return (y - 1) * 1/13\n",
    "    \n",
    "def yy (z):\n",
    "    ans = 0\n",
    "    for i in range(2, z):\n",
    "        ans += 1/9 * xx(i)\n",
    "    return(ans)\n",
    "    \n",
    "ans = 0\n",
    "for i in range(3, 8):\n",
    "    ans += 1/7 * yy(i)\n",
    "    \n",
    "print(ans)"
   ]
  },
  {
   "cell_type": "code",
   "execution_count": 1,
   "metadata": {},
   "outputs": [
    {
     "name": "stdout",
     "output_type": "stream",
     "text": [
      "0.114468\n"
     ]
    },
    {
     "data": {
      "image/png": "[encoded data removed]",
      "text/plain": [
       "<Figure size 432x288 with 1 Axes>"
      ]
     },
     "metadata": {
      "needs_background": "light"
     },
     "output_type": "display_data"
    }
   ],
   "source": [
    "#6.5\n",
    "import random as ra\n",
    "import matplotlib.pyplot as plt\n",
    "\n",
    "def xx():\n",
    "    return ra.randint(1, 7)\n",
    "    \n",
    "def yy():\n",
    "    return ra.randint(1, 14)\n",
    "\n",
    "def zz():\n",
    "    a = ra.random()\n",
    "    if a <= 3 / 5:\n",
    "        a = 7\n",
    "    else:\n",
    "        a = 14\n",
    "    return a\n",
    "    \n",
    "ans = 0\n",
    "n = 1000000\n",
    "x = [i for i in range(n)]\n",
    "y = []\n",
    "\n",
    "for i in range(1, n + 1):\n",
    "    if xx() + yy() + zz() >= 29:\n",
    "        ans += 1\n",
    "    y.append(ans / i)\n",
    "    \n",
    "print(ans / n)\n",
    "plt.plot(x, y)\n",
    "plt.show()"
   ]
  },
  {
   "cell_type": "code",
   "execution_count": 30,
   "metadata": {},
   "outputs": [
    {
     "name": "stdout",
     "output_type": "stream",
     "text": [
      "математическое ожидание -  12.500000000000004\n",
      "Дисперсия -  16.083333333333286\n",
      "Среднее значение -  12.49663\n"
     ]
    },
    {
     "data": {
      "image/png": "[encoded data removed]",
      "text/plain": [
       "<Figure size 432x288 with 1 Axes>"
      ]
     },
     "metadata": {
      "needs_background": "light"
     },
     "output_type": "display_data"
    }
   ],
   "source": [
    "#7.6\n",
    "\n",
    "\n",
    "p = [0] * 23\n",
    "pc = 1 / 4 / 6 / 12\n",
    "\n",
    "for i in range(1, 5):\n",
    "    for j in range (1, 7):\n",
    "        for k in range(1, 13):\n",
    "            co = i + j + k\n",
    "            p[co] += pc\n",
    "            \n",
    "e_s = 0\n",
    "e_s2 = 0\n",
    "for i in range(len(p)):\n",
    "    e_s += p[i] * i\n",
    "    e_s2 += p[i] * i * i\n",
    "print(\"математическое ожидание - \", e_s)\n",
    "print(\"Дисперсия - \", e_s2 - e_s * e_s)\n",
    "\n",
    "n = 100000\n",
    "x = [i for i in range(n)]\n",
    "y = []\n",
    "\n",
    "sum1 = 0\n",
    "for i in range(1, n + 1):\n",
    "    a, b, c = [ra.randint(1, i) for i in [4, 6, 12]]\n",
    "    s = a + b + c\n",
    "    sum1 += s\n",
    "    y.append(sum1 / i)\n",
    "    \n",
    "print(\"Среднее значение - \", y[n - 1])\n",
    "plt.plot(x, y)\n",
    "plt.show()"
   ]
  },
  {
   "cell_type": "code",
   "execution_count": 15,
   "metadata": {},
   "outputs": [
    {
     "name": "stdout",
     "output_type": "stream",
     "text": [
      "математическое ожидание -  1.7554012345679013\n",
      "Дисперсия -  0.9100788513565004\n",
      "Среднее значение -  1.75849\n"
     ]
    },
    {
     "data": {
      "image/png": "[encoded data removed]",
      "text/plain": [
       "<Figure size 432x288 with 1 Axes>"
      ]
     },
     "metadata": {
      "needs_background": "light"
     },
     "output_type": "display_data"
    }
   ],
   "source": [
    "#7.7\n",
    "p = [0] * 6\n",
    "\n",
    "for i in range(1, 7):\n",
    "    p[i - 1] = ((6 - i + 1) / 6) ** 4\n",
    "    p[i - 1] -= ((6 - i) / 6) ** 4\n",
    "#print(sum(p), p)\n",
    "\n",
    "e_s = 0\n",
    "e_s2 = 0\n",
    "for i in range(6):\n",
    "    e_s += (i + 1) * p[i]\n",
    "    e_s2 += (i + 1) ** 2 * p[i]\n",
    "    \n",
    "print(\"математическое ожидание - \", e_s)\n",
    "print(\"Дисперсия - \", e_s2 - e_s * e_s)\n",
    "\n",
    "\n",
    "n = 100000\n",
    "x = [i for i in range(n)]\n",
    "y = []\n",
    "\n",
    "sum1 = 0\n",
    "for i in range(1, n + 1):\n",
    "    cur = [ra.randint(1, 6) for i in range(4)]\n",
    "    it = min(cur)\n",
    "    sum1 += it\n",
    "    y.append(sum1 / i)\n",
    "    \n",
    "print(\"Среднее значение - \", y[n - 1])\n",
    "plt.plot(x, y)\n",
    "plt.show()"
   ]
  },
  {
   "cell_type": "code",
   "execution_count": null,
   "metadata": {},
   "outputs": [],
   "source": []
  },
  {
   "cell_type": "code",
   "execution_count": 42,
   "metadata": {},
   "outputs": [
    {
     "name": "stdout",
     "output_type": "stream",
     "text": [
      "1.0 [0.018504229538180206, 0.09252114769090075, 0.2220507544581619, 0.3330761316872428, 0.3330761316872428, 0.0007716049382716048]\n",
      "3.8720136031092824\n"
     ]
    }
   ],
   "source": [
    "res = 0\n",
    "p = [0] * 6\n",
    "p[5] = (1 / 6) ** 4\n",
    "for i in range(4, -1, -1):\n",
    "    p[i] = (6 - i) * (1 - sum(p)) / 6\n",
    "print(sum(p), p)\n",
    "\n",
    "e_s = 0\n",
    "for i in range(len(p)):\n",
    "    e_s += (i + 1) * p[i]\n",
    "\n",
    "print(e_s)"
   ]
  },
  {
   "cell_type": "code",
   "execution_count": null,
   "metadata": {},
   "outputs": [],
   "source": []
  }
 ],
 "metadata": {
  "kernelspec": {
   "display_name": "Python 3",
   "language": "python",
   "name": "python3"
  },
  "language_info": {
   "codemirror_mode": {
    "name": "ipython",
    "version": 3
   },
   "file_extension": ".py",
   "mimetype": "text/x-python",
   "name": "python",
   "nbconvert_exporter": "python",
   "pygments_lexer": "ipython3",
   "version": "3.8.3"
  }
 },
 "nbformat": 4,
 "nbformat_minor": 4
}
