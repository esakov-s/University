{
 "cells": [
  {
   "cell_type": "code",
   "execution_count": 36,
   "metadata": {},
   "outputs": [],
   "source": [
    "#загружаем необходимые библиотеки\n",
    "import numpy as np\n",
    "import pandas as pd\n",
    "import statistics as st\n",
    "import scipy.stats as stats\n",
    "import matplotlib.pyplot as plt\n",
    "from scipy.stats import norm\n",
    "import csv\n",
    "from math import *"
   ]
  },
  {
   "cell_type": "code",
   "execution_count": 37,
   "metadata": {},
   "outputs": [],
   "source": [
    "#предварительный анализ данных"
   ]
  },
  {
   "cell_type": "code",
   "execution_count": 41,
   "metadata": {},
   "outputs": [
    {
     "data": {
      "text/html": [
       "<div>\n",
       "<style scoped>\n",
       "    .dataframe tbody tr th:only-of-type {\n",
       "        vertical-align: middle;\n",
       "    }\n",
       "\n",
       "    .dataframe tbody tr th {\n",
       "        vertical-align: top;\n",
       "    }\n",
       "\n",
       "    .dataframe thead th {\n",
       "        text-align: right;\n",
       "    }\n",
       "</style>\n",
       "<table border=\"1\" class=\"dataframe\">\n",
       "  <thead>\n",
       "    <tr style=\"text-align: right;\">\n",
       "      <th></th>\n",
       "      <th>Ticker</th>\n",
       "      <th>2015</th>\n",
       "      <th>2016</th>\n",
       "      <th>2017</th>\n",
       "      <th>2018</th>\n",
       "      <th>2019</th>\n",
       "      <th>2020</th>\n",
       "    </tr>\n",
       "  </thead>\n",
       "  <tbody>\n",
       "    <tr>\n",
       "      <th>0</th>\n",
       "      <td>AGRO</td>\n",
       "      <td>229</td>\n",
       "      <td>252</td>\n",
       "      <td>252</td>\n",
       "      <td>254</td>\n",
       "      <td>252</td>\n",
       "      <td>250</td>\n",
       "    </tr>\n",
       "    <tr>\n",
       "      <th>1</th>\n",
       "      <td>PJPq</td>\n",
       "      <td>0</td>\n",
       "      <td>0</td>\n",
       "      <td>0</td>\n",
       "      <td>234</td>\n",
       "      <td>252</td>\n",
       "      <td>250</td>\n",
       "    </tr>\n",
       "    <tr>\n",
       "      <th>2</th>\n",
       "      <td>AQUA</td>\n",
       "      <td>151</td>\n",
       "      <td>231</td>\n",
       "      <td>228</td>\n",
       "      <td>223</td>\n",
       "      <td>251</td>\n",
       "      <td>250</td>\n",
       "    </tr>\n",
       "    <tr>\n",
       "      <th>3</th>\n",
       "      <td>DSKY</td>\n",
       "      <td>0</td>\n",
       "      <td>0</td>\n",
       "      <td>224</td>\n",
       "      <td>254</td>\n",
       "      <td>252</td>\n",
       "      <td>250</td>\n",
       "    </tr>\n",
       "    <tr>\n",
       "      <th>4</th>\n",
       "      <td>MGNT</td>\n",
       "      <td>250</td>\n",
       "      <td>252</td>\n",
       "      <td>252</td>\n",
       "      <td>254</td>\n",
       "      <td>252</td>\n",
       "      <td>250</td>\n",
       "    </tr>\n",
       "    <tr>\n",
       "      <th>5</th>\n",
       "      <td>LNTAq</td>\n",
       "      <td>250</td>\n",
       "      <td>252</td>\n",
       "      <td>252</td>\n",
       "      <td>254</td>\n",
       "      <td>252</td>\n",
       "      <td>250</td>\n",
       "    </tr>\n",
       "    <tr>\n",
       "      <th>6</th>\n",
       "      <td>MDMGDR</td>\n",
       "      <td>0</td>\n",
       "      <td>0</td>\n",
       "      <td>0</td>\n",
       "      <td>0</td>\n",
       "      <td>0</td>\n",
       "      <td>38</td>\n",
       "    </tr>\n",
       "    <tr>\n",
       "      <th>7</th>\n",
       "      <td>MVID</td>\n",
       "      <td>250</td>\n",
       "      <td>252</td>\n",
       "      <td>252</td>\n",
       "      <td>254</td>\n",
       "      <td>252</td>\n",
       "      <td>250</td>\n",
       "    </tr>\n",
       "    <tr>\n",
       "      <th>8</th>\n",
       "      <td>BELU</td>\n",
       "      <td>0</td>\n",
       "      <td>0</td>\n",
       "      <td>104</td>\n",
       "      <td>222</td>\n",
       "      <td>252</td>\n",
       "      <td>250</td>\n",
       "    </tr>\n",
       "    <tr>\n",
       "      <th>9</th>\n",
       "      <td>APTK</td>\n",
       "      <td>250</td>\n",
       "      <td>252</td>\n",
       "      <td>252</td>\n",
       "      <td>254</td>\n",
       "      <td>252</td>\n",
       "      <td>250</td>\n",
       "    </tr>\n",
       "    <tr>\n",
       "      <th>10</th>\n",
       "      <td>SVAV</td>\n",
       "      <td>250</td>\n",
       "      <td>252</td>\n",
       "      <td>252</td>\n",
       "      <td>254</td>\n",
       "      <td>252</td>\n",
       "      <td>250</td>\n",
       "    </tr>\n",
       "    <tr>\n",
       "      <th>11</th>\n",
       "      <td>ORUP</td>\n",
       "      <td>0</td>\n",
       "      <td>0</td>\n",
       "      <td>50</td>\n",
       "      <td>252</td>\n",
       "      <td>252</td>\n",
       "      <td>250</td>\n",
       "    </tr>\n",
       "  </tbody>\n",
       "</table>\n",
       "</div>"
      ],
      "text/plain": [
       "    Ticker  2015  2016  2017  2018  2019  2020\n",
       "0     AGRO   229   252   252   254   252   250\n",
       "1     PJPq     0     0     0   234   252   250\n",
       "2     AQUA   151   231   228   223   251   250\n",
       "3     DSKY     0     0   224   254   252   250\n",
       "4     MGNT   250   252   252   254   252   250\n",
       "5    LNTAq   250   252   252   254   252   250\n",
       "6   MDMGDR     0     0     0     0     0    38\n",
       "7     MVID   250   252   252   254   252   250\n",
       "8     BELU     0     0   104   222   252   250\n",
       "9     APTK   250   252   252   254   252   250\n",
       "10    SVAV   250   252   252   254   252   250\n",
       "11    ORUP     0     0    50   252   252   250"
      ]
     },
     "execution_count": 41,
     "metadata": {},
     "output_type": "execute_result"
    }
   ],
   "source": [
    "#посчитаем количество торговых дней для всех компаний \n",
    "tickers=['AGRO','PJPq', 'AQUA', 'DSKY', 'MGNT', 'LNTAq', 'MDMGDR', 'MVID', 'BELU', 'APTK', 'SVAV', 'ORUP'] \n",
    "kolvo_dney_vse=pd.DataFrame() \n",
    "kolvo_dney_vse['Ticker'] = tickers\n",
    "years=range(2015,2021)\n",
    "for i in years:\n",
    "    kolvo_year=[]\n",
    "    for j in range(len(tickers)):\n",
    "        file=pd.read_csv(tickers[j]+'.csv',sep=';')\n",
    "        diap=(file['<DATE>']>=i*10000)&(file['<DATE>']<(i+1)*10000)\n",
    "        kolvo=len(file[diap])\n",
    "        kolvo_year.append(kolvo)\n",
    "    kolvo_dney_vse[str(i)]=kolvo_year\n",
    "kolvo_dney_vse.to_csv('Количество торговых дней всех компаний по годам.csv',sep=';')\n",
    "kolvo_dney_vse"
   ]
  },
  {
   "cell_type": "code",
   "execution_count": 42,
   "metadata": {},
   "outputs": [
    {
     "data": {
      "text/html": [
       "<div>\n",
       "<style scoped>\n",
       "    .dataframe tbody tr th:only-of-type {\n",
       "        vertical-align: middle;\n",
       "    }\n",
       "\n",
       "    .dataframe tbody tr th {\n",
       "        vertical-align: top;\n",
       "    }\n",
       "\n",
       "    .dataframe thead th {\n",
       "        text-align: right;\n",
       "    }\n",
       "</style>\n",
       "<table border=\"1\" class=\"dataframe\">\n",
       "  <thead>\n",
       "    <tr style=\"text-align: right;\">\n",
       "      <th></th>\n",
       "      <th>Ticker</th>\n",
       "      <th>2015</th>\n",
       "      <th>2016</th>\n",
       "      <th>2017</th>\n",
       "      <th>2018</th>\n",
       "      <th>2019</th>\n",
       "      <th>2020</th>\n",
       "    </tr>\n",
       "  </thead>\n",
       "  <tbody>\n",
       "    <tr>\n",
       "      <th>0</th>\n",
       "      <td>AGRO</td>\n",
       "      <td>229</td>\n",
       "      <td>252</td>\n",
       "      <td>252</td>\n",
       "      <td>254</td>\n",
       "      <td>252</td>\n",
       "      <td>250</td>\n",
       "    </tr>\n",
       "    <tr>\n",
       "      <th>1</th>\n",
       "      <td>MGNT</td>\n",
       "      <td>250</td>\n",
       "      <td>252</td>\n",
       "      <td>252</td>\n",
       "      <td>254</td>\n",
       "      <td>252</td>\n",
       "      <td>250</td>\n",
       "    </tr>\n",
       "    <tr>\n",
       "      <th>2</th>\n",
       "      <td>LNTAq</td>\n",
       "      <td>250</td>\n",
       "      <td>252</td>\n",
       "      <td>252</td>\n",
       "      <td>254</td>\n",
       "      <td>252</td>\n",
       "      <td>250</td>\n",
       "    </tr>\n",
       "    <tr>\n",
       "      <th>3</th>\n",
       "      <td>MVID</td>\n",
       "      <td>250</td>\n",
       "      <td>252</td>\n",
       "      <td>252</td>\n",
       "      <td>254</td>\n",
       "      <td>252</td>\n",
       "      <td>250</td>\n",
       "    </tr>\n",
       "    <tr>\n",
       "      <th>4</th>\n",
       "      <td>APTK</td>\n",
       "      <td>250</td>\n",
       "      <td>252</td>\n",
       "      <td>252</td>\n",
       "      <td>254</td>\n",
       "      <td>252</td>\n",
       "      <td>250</td>\n",
       "    </tr>\n",
       "    <tr>\n",
       "      <th>5</th>\n",
       "      <td>SVAV</td>\n",
       "      <td>250</td>\n",
       "      <td>252</td>\n",
       "      <td>252</td>\n",
       "      <td>254</td>\n",
       "      <td>252</td>\n",
       "      <td>250</td>\n",
       "    </tr>\n",
       "  </tbody>\n",
       "</table>\n",
       "</div>"
      ],
      "text/plain": [
       "  Ticker  2015  2016  2017  2018  2019  2020\n",
       "0   AGRO   229   252   252   254   252   250\n",
       "1   MGNT   250   252   252   254   252   250\n",
       "2  LNTAq   250   252   252   254   252   250\n",
       "3   MVID   250   252   252   254   252   250\n",
       "4   APTK   250   252   252   254   252   250\n",
       "5   SVAV   250   252   252   254   252   250"
      ]
     },
     "execution_count": 42,
     "metadata": {},
     "output_type": "execute_result"
    }
   ],
   "source": [
    "#посчитаем количество торговых дней компаний для скорректированной таблицы\n",
    "tickers=['AGRO', 'MGNT', 'LNTAq', 'MVID', 'APTK', 'SVAV'] \n",
    "kolvo_dney_kor=pd.DataFrame() \n",
    "kolvo_dney_kor['Ticker'] = tickers\n",
    "years=range(2015,2021)\n",
    "for i in years:\n",
    "    kolvo_year=[]\n",
    "    for j in range(len(tickers)):\n",
    "        file=pd.read_csv(tickers[j]+'.csv',sep=';')\n",
    "        diap=(file['<DATE>']>=i*10000)&(file['<DATE>']<(i+1)*10000)\n",
    "        kolvo=len(file[diap])\n",
    "        kolvo_year.append(kolvo)\n",
    "    kolvo_dney_kor[str(i)]=kolvo_year\n",
    "kolvo_dney_kor.to_csv('Количество торговых дней компаний для скорректированной таблицы.csv',sep=';')\n",
    "kolvo_dney_kor"
   ]
  },
  {
   "cell_type": "code",
   "execution_count": 43,
   "metadata": {},
   "outputs": [
    {
     "data": {
      "text/html": [
       "<div>\n",
       "<style scoped>\n",
       "    .dataframe tbody tr th:only-of-type {\n",
       "        vertical-align: middle;\n",
       "    }\n",
       "\n",
       "    .dataframe tbody tr th {\n",
       "        vertical-align: top;\n",
       "    }\n",
       "\n",
       "    .dataframe thead th {\n",
       "        text-align: right;\n",
       "    }\n",
       "</style>\n",
       "<table border=\"1\" class=\"dataframe\">\n",
       "  <thead>\n",
       "    <tr style=\"text-align: right;\">\n",
       "      <th></th>\n",
       "      <th>Ticker</th>\n",
       "      <th>2015</th>\n",
       "      <th>2016</th>\n",
       "      <th>2017</th>\n",
       "      <th>2018</th>\n",
       "      <th>2019</th>\n",
       "      <th>2020</th>\n",
       "    </tr>\n",
       "  </thead>\n",
       "  <tbody>\n",
       "    <tr>\n",
       "      <th>0</th>\n",
       "      <td>AGRO</td>\n",
       "      <td>-0.112</td>\n",
       "      <td>-0.051</td>\n",
       "      <td>-0.047</td>\n",
       "      <td>-0.055</td>\n",
       "      <td>-0.032</td>\n",
       "      <td>-0.066</td>\n",
       "    </tr>\n",
       "    <tr>\n",
       "      <th>1</th>\n",
       "      <td>MGNT</td>\n",
       "      <td>-0.095</td>\n",
       "      <td>-0.073</td>\n",
       "      <td>-0.112</td>\n",
       "      <td>-0.102</td>\n",
       "      <td>-0.035</td>\n",
       "      <td>-0.136</td>\n",
       "    </tr>\n",
       "    <tr>\n",
       "      <th>2</th>\n",
       "      <td>LNTAq</td>\n",
       "      <td>-0.075</td>\n",
       "      <td>-0.055</td>\n",
       "      <td>-0.043</td>\n",
       "      <td>-0.077</td>\n",
       "      <td>-0.035</td>\n",
       "      <td>-0.134</td>\n",
       "    </tr>\n",
       "    <tr>\n",
       "      <th>3</th>\n",
       "      <td>MVID</td>\n",
       "      <td>-0.118</td>\n",
       "      <td>-0.077</td>\n",
       "      <td>-0.057</td>\n",
       "      <td>-0.055</td>\n",
       "      <td>-0.069</td>\n",
       "      <td>-0.064</td>\n",
       "    </tr>\n",
       "    <tr>\n",
       "      <th>4</th>\n",
       "      <td>APTK</td>\n",
       "      <td>-0.193</td>\n",
       "      <td>-0.104</td>\n",
       "      <td>-0.088</td>\n",
       "      <td>-0.065</td>\n",
       "      <td>-0.071</td>\n",
       "      <td>-0.109</td>\n",
       "    </tr>\n",
       "    <tr>\n",
       "      <th>5</th>\n",
       "      <td>SVAV</td>\n",
       "      <td>-0.064</td>\n",
       "      <td>-0.059</td>\n",
       "      <td>-0.056</td>\n",
       "      <td>-0.064</td>\n",
       "      <td>-0.047</td>\n",
       "      <td>-0.074</td>\n",
       "    </tr>\n",
       "  </tbody>\n",
       "</table>\n",
       "</div>"
      ],
      "text/plain": [
       "  Ticker   2015   2016   2017   2018   2019   2020\n",
       "0   AGRO -0.112 -0.051 -0.047 -0.055 -0.032 -0.066\n",
       "1   MGNT -0.095 -0.073 -0.112 -0.102 -0.035 -0.136\n",
       "2  LNTAq -0.075 -0.055 -0.043 -0.077 -0.035 -0.134\n",
       "3   MVID -0.118 -0.077 -0.057 -0.055 -0.069 -0.064\n",
       "4   APTK -0.193 -0.104 -0.088 -0.065 -0.071 -0.109\n",
       "5   SVAV -0.064 -0.059 -0.056 -0.064 -0.047 -0.074"
      ]
     },
     "execution_count": 43,
     "metadata": {},
     "output_type": "execute_result"
    }
   ],
   "source": [
    "#посчитаем относительные скачки цен вниз\n",
    "tickers=['AGRO', 'MGNT', 'LNTAq', 'MVID', 'APTK', 'SVAV']  \n",
    "down=pd.DataFrame() \n",
    "down['Ticker'] = tickers\n",
    "years=range(2015,2021)\n",
    "for i in years:\n",
    "    down_znach=[]\n",
    "    for j in range(len(tickers)):\n",
    "        file=pd.read_csv(tickers[j]+'.csv',sep=';')\n",
    "        file['<LEAP>'] = file['<CLOSE>'].pct_change().round(3)\n",
    "        diap=(file['<DATE>']>=i*10000)&(file['<DATE>']<(i+1)*10000)\n",
    "        znach_year=file[diap]['<LEAP>'].min()\n",
    "        down_znach.append(znach_year)\n",
    "    down[str(i)]=down_znach\n",
    "down.to_csv('Относительные изменения цен вниз.csv',sep=';', decimal=',')\n",
    "down"
   ]
  },
  {
   "cell_type": "code",
   "execution_count": 44,
   "metadata": {},
   "outputs": [
    {
     "data": {
      "text/html": [
       "<div>\n",
       "<style scoped>\n",
       "    .dataframe tbody tr th:only-of-type {\n",
       "        vertical-align: middle;\n",
       "    }\n",
       "\n",
       "    .dataframe tbody tr th {\n",
       "        vertical-align: top;\n",
       "    }\n",
       "\n",
       "    .dataframe thead th {\n",
       "        text-align: right;\n",
       "    }\n",
       "</style>\n",
       "<table border=\"1\" class=\"dataframe\">\n",
       "  <thead>\n",
       "    <tr style=\"text-align: right;\">\n",
       "      <th></th>\n",
       "      <th>Ticker</th>\n",
       "      <th>2015</th>\n",
       "      <th>2016</th>\n",
       "      <th>2017</th>\n",
       "      <th>2018</th>\n",
       "      <th>2019</th>\n",
       "      <th>2020</th>\n",
       "    </tr>\n",
       "  </thead>\n",
       "  <tbody>\n",
       "    <tr>\n",
       "      <th>0</th>\n",
       "      <td>AGRO</td>\n",
       "      <td>0.209</td>\n",
       "      <td>0.055</td>\n",
       "      <td>0.051</td>\n",
       "      <td>0.058</td>\n",
       "      <td>0.043</td>\n",
       "      <td>0.104</td>\n",
       "    </tr>\n",
       "    <tr>\n",
       "      <th>1</th>\n",
       "      <td>MGNT</td>\n",
       "      <td>0.082</td>\n",
       "      <td>0.078</td>\n",
       "      <td>0.059</td>\n",
       "      <td>0.079</td>\n",
       "      <td>0.047</td>\n",
       "      <td>0.070</td>\n",
       "    </tr>\n",
       "    <tr>\n",
       "      <th>2</th>\n",
       "      <td>LNTAq</td>\n",
       "      <td>0.100</td>\n",
       "      <td>0.042</td>\n",
       "      <td>0.051</td>\n",
       "      <td>0.081</td>\n",
       "      <td>0.043</td>\n",
       "      <td>0.088</td>\n",
       "    </tr>\n",
       "    <tr>\n",
       "      <th>3</th>\n",
       "      <td>MVID</td>\n",
       "      <td>0.095</td>\n",
       "      <td>0.077</td>\n",
       "      <td>0.111</td>\n",
       "      <td>0.054</td>\n",
       "      <td>0.065</td>\n",
       "      <td>0.122</td>\n",
       "    </tr>\n",
       "    <tr>\n",
       "      <th>4</th>\n",
       "      <td>APTK</td>\n",
       "      <td>0.556</td>\n",
       "      <td>0.189</td>\n",
       "      <td>0.129</td>\n",
       "      <td>0.124</td>\n",
       "      <td>0.455</td>\n",
       "      <td>0.162</td>\n",
       "    </tr>\n",
       "    <tr>\n",
       "      <th>5</th>\n",
       "      <td>SVAV</td>\n",
       "      <td>0.167</td>\n",
       "      <td>0.124</td>\n",
       "      <td>0.077</td>\n",
       "      <td>0.049</td>\n",
       "      <td>0.040</td>\n",
       "      <td>0.092</td>\n",
       "    </tr>\n",
       "  </tbody>\n",
       "</table>\n",
       "</div>"
      ],
      "text/plain": [
       "  Ticker   2015   2016   2017   2018   2019   2020\n",
       "0   AGRO  0.209  0.055  0.051  0.058  0.043  0.104\n",
       "1   MGNT  0.082  0.078  0.059  0.079  0.047  0.070\n",
       "2  LNTAq  0.100  0.042  0.051  0.081  0.043  0.088\n",
       "3   MVID  0.095  0.077  0.111  0.054  0.065  0.122\n",
       "4   APTK  0.556  0.189  0.129  0.124  0.455  0.162\n",
       "5   SVAV  0.167  0.124  0.077  0.049  0.040  0.092"
      ]
     },
     "execution_count": 44,
     "metadata": {},
     "output_type": "execute_result"
    }
   ],
   "source": [
    "#посчитаем относительные скачки цен вверх\n",
    "tickers=['AGRO', 'MGNT', 'LNTAq', 'MVID', 'APTK', 'SVAV']  \n",
    "up=pd.DataFrame() \n",
    "up['Ticker'] = tickers\n",
    "years=range(2015,2021)\n",
    "for i in years:\n",
    "    up_znach=[]\n",
    "    for j in range(len(tickers)):\n",
    "        file=pd.read_csv(tickers[j]+'.csv',sep=';')\n",
    "        file['<LEAP>'] = file['<CLOSE>'].pct_change().round(3)\n",
    "        diap=(file['<DATE>']>=i*10000)&(file['<DATE>']<(i+1)*10000)\n",
    "        znach_year=file[diap]['<LEAP>'].max()\n",
    "        up_znach.append(znach_year)\n",
    "    up[str(i)]=up_znach\n",
    "up.to_csv('Относительные изменения цен вверх.csv',sep=';', decimal=',')\n",
    "up"
   ]
  },
  {
   "cell_type": "code",
   "execution_count": 10,
   "metadata": {},
   "outputs": [],
   "source": [
    "#проверка гипотезы на модельных данных"
   ]
  },
  {
   "cell_type": "code",
   "execution_count": 73,
   "metadata": {},
   "outputs": [],
   "source": [
    "#объем выборки\n",
    "n=252 \n",
    "#зададим функцию для вычисления статистики Шапиро-Уилка, для это используем функцию встроенную в Python\n",
    "def Shapiro(n): \n",
    "    viborka_252 = np.random.normal(loc=0, scale=1, size=n) \n",
    "    znach_statistiki=stats.shapiro(viborka_252)[0]\n",
    "    return znach_statistiki"
   ]
  },
  {
   "cell_type": "code",
   "execution_count": 74,
   "metadata": {},
   "outputs": [],
   "source": [
    "#вычисляем 1000 значений статистики Шапиро-Уилка\n",
    "Shapir1 = [Shapiro(n) for m in range(1000)] \n",
    "Shapir2 = [Shapiro(n) for m in range(1000)]"
   ]
  },
  {
   "cell_type": "code",
   "execution_count": 75,
   "metadata": {},
   "outputs": [
    {
     "data": {
      "text/html": [
       "<div>\n",
       "<style scoped>\n",
       "    .dataframe tbody tr th:only-of-type {\n",
       "        vertical-align: middle;\n",
       "    }\n",
       "\n",
       "    .dataframe tbody tr th {\n",
       "        vertical-align: top;\n",
       "    }\n",
       "\n",
       "    .dataframe thead th {\n",
       "        text-align: right;\n",
       "    }\n",
       "</style>\n",
       "<table border=\"1\" class=\"dataframe\">\n",
       "  <thead>\n",
       "    <tr style=\"text-align: right;\">\n",
       "      <th></th>\n",
       "      <th>Квантиль</th>\n",
       "      <th>Значение</th>\n",
       "    </tr>\n",
       "  </thead>\n",
       "  <tbody>\n",
       "    <tr>\n",
       "      <th>0</th>\n",
       "      <td>0.1</td>\n",
       "      <td>0.990611</td>\n",
       "    </tr>\n",
       "    <tr>\n",
       "      <th>1</th>\n",
       "      <td>0.2</td>\n",
       "      <td>0.992280</td>\n",
       "    </tr>\n",
       "    <tr>\n",
       "      <th>2</th>\n",
       "      <td>0.3</td>\n",
       "      <td>0.993178</td>\n",
       "    </tr>\n",
       "    <tr>\n",
       "      <th>3</th>\n",
       "      <td>0.4</td>\n",
       "      <td>0.993970</td>\n",
       "    </tr>\n",
       "    <tr>\n",
       "      <th>4</th>\n",
       "      <td>0.5</td>\n",
       "      <td>0.994617</td>\n",
       "    </tr>\n",
       "    <tr>\n",
       "      <th>5</th>\n",
       "      <td>0.6</td>\n",
       "      <td>0.995097</td>\n",
       "    </tr>\n",
       "    <tr>\n",
       "      <th>6</th>\n",
       "      <td>0.7</td>\n",
       "      <td>0.995538</td>\n",
       "    </tr>\n",
       "    <tr>\n",
       "      <th>7</th>\n",
       "      <td>0.8</td>\n",
       "      <td>0.996147</td>\n",
       "    </tr>\n",
       "    <tr>\n",
       "      <th>8</th>\n",
       "      <td>0.9</td>\n",
       "      <td>0.996780</td>\n",
       "    </tr>\n",
       "  </tbody>\n",
       "</table>\n",
       "</div>"
      ],
      "text/plain": [
       "   Квантиль  Значение\n",
       "0       0.1  0.990611\n",
       "1       0.2  0.992280\n",
       "2       0.3  0.993178\n",
       "3       0.4  0.993970\n",
       "4       0.5  0.994617\n",
       "5       0.6  0.995097\n",
       "6       0.7  0.995538\n",
       "7       0.8  0.996147\n",
       "8       0.9  0.996780"
      ]
     },
     "execution_count": 75,
     "metadata": {},
     "output_type": "execute_result"
    }
   ],
   "source": [
    "kvanlil_1 = [kv for kv in np.arange(0.1,1,0.1)]\n",
    "znach_1=[]\n",
    "for i in kvanlil_1:\n",
    "    znach_1.append(np.quantile(Shapir1,i))\n",
    "df_1 = pd.DataFrame({'Квантиль':kvanlil_1, 'Значение':znach_1})\n",
    "df_1.to_csv('Первые 9 квантилей статистики Шапиро-Уилка1.csv',sep=';')\n",
    "df_1"
   ]
  },
  {
   "cell_type": "code",
   "execution_count": 76,
   "metadata": {},
   "outputs": [
    {
     "data": {
      "text/html": [
       "<div>\n",
       "<style scoped>\n",
       "    .dataframe tbody tr th:only-of-type {\n",
       "        vertical-align: middle;\n",
       "    }\n",
       "\n",
       "    .dataframe tbody tr th {\n",
       "        vertical-align: top;\n",
       "    }\n",
       "\n",
       "    .dataframe thead th {\n",
       "        text-align: right;\n",
       "    }\n",
       "</style>\n",
       "<table border=\"1\" class=\"dataframe\">\n",
       "  <thead>\n",
       "    <tr style=\"text-align: right;\">\n",
       "      <th></th>\n",
       "      <th>Квантиль</th>\n",
       "      <th>Значение</th>\n",
       "    </tr>\n",
       "  </thead>\n",
       "  <tbody>\n",
       "    <tr>\n",
       "      <th>0</th>\n",
       "      <td>0.1</td>\n",
       "      <td>0.990610</td>\n",
       "    </tr>\n",
       "    <tr>\n",
       "      <th>1</th>\n",
       "      <td>0.2</td>\n",
       "      <td>0.992154</td>\n",
       "    </tr>\n",
       "    <tr>\n",
       "      <th>2</th>\n",
       "      <td>0.3</td>\n",
       "      <td>0.993213</td>\n",
       "    </tr>\n",
       "    <tr>\n",
       "      <th>3</th>\n",
       "      <td>0.4</td>\n",
       "      <td>0.993830</td>\n",
       "    </tr>\n",
       "    <tr>\n",
       "      <th>4</th>\n",
       "      <td>0.5</td>\n",
       "      <td>0.994509</td>\n",
       "    </tr>\n",
       "    <tr>\n",
       "      <th>5</th>\n",
       "      <td>0.6</td>\n",
       "      <td>0.995066</td>\n",
       "    </tr>\n",
       "    <tr>\n",
       "      <th>6</th>\n",
       "      <td>0.7</td>\n",
       "      <td>0.995613</td>\n",
       "    </tr>\n",
       "    <tr>\n",
       "      <th>7</th>\n",
       "      <td>0.8</td>\n",
       "      <td>0.996134</td>\n",
       "    </tr>\n",
       "    <tr>\n",
       "      <th>8</th>\n",
       "      <td>0.9</td>\n",
       "      <td>0.996803</td>\n",
       "    </tr>\n",
       "  </tbody>\n",
       "</table>\n",
       "</div>"
      ],
      "text/plain": [
       "   Квантиль  Значение\n",
       "0       0.1  0.990610\n",
       "1       0.2  0.992154\n",
       "2       0.3  0.993213\n",
       "3       0.4  0.993830\n",
       "4       0.5  0.994509\n",
       "5       0.6  0.995066\n",
       "6       0.7  0.995613\n",
       "7       0.8  0.996134\n",
       "8       0.9  0.996803"
      ]
     },
     "execution_count": 76,
     "metadata": {},
     "output_type": "execute_result"
    }
   ],
   "source": [
    "kvanlil_2 = [kv for kv in np.arange(0.1,1,0.1)]\n",
    "znach_2=[]\n",
    "for i in kvanlil_2:\n",
    "    znach_2.append(np.quantile(Shapir2,i))\n",
    "df_2 = pd.DataFrame({'Квантиль':kvanlil_2, 'Значение':znach_2})\n",
    "df_2.to_csv('Первые 9 квантилей статистики Шапиро-Уилка2.csv',sep=';')\n",
    "df_2"
   ]
  },
  {
   "cell_type": "code",
   "execution_count": 86,
   "metadata": {},
   "outputs": [
    {
     "name": "stdout",
     "output_type": "stream",
     "text": [
      "KstestResult(statistic=0.8365078713162102, pvalue=0.0)\n"
     ]
    },
    {
     "data": {
      "text/html": [
       "<div>\n",
       "<style scoped>\n",
       "    .dataframe tbody tr th:only-of-type {\n",
       "        vertical-align: middle;\n",
       "    }\n",
       "\n",
       "    .dataframe tbody tr th {\n",
       "        vertical-align: top;\n",
       "    }\n",
       "\n",
       "    .dataframe thead th {\n",
       "        text-align: right;\n",
       "    }\n",
       "</style>\n",
       "<table border=\"1\" class=\"dataframe\">\n",
       "  <thead>\n",
       "    <tr style=\"text-align: right;\">\n",
       "      <th></th>\n",
       "      <th>Квантиль</th>\n",
       "      <th>Значение</th>\n",
       "    </tr>\n",
       "  </thead>\n",
       "  <tbody>\n",
       "    <tr>\n",
       "      <th>0</th>\n",
       "      <td>0.001</td>\n",
       "      <td>0.983210</td>\n",
       "    </tr>\n",
       "    <tr>\n",
       "      <th>1</th>\n",
       "      <td>0.002</td>\n",
       "      <td>0.983733</td>\n",
       "    </tr>\n",
       "    <tr>\n",
       "      <th>2</th>\n",
       "      <td>0.003</td>\n",
       "      <td>0.983964</td>\n",
       "    </tr>\n",
       "    <tr>\n",
       "      <th>3</th>\n",
       "      <td>0.004</td>\n",
       "      <td>0.984461</td>\n",
       "    </tr>\n",
       "    <tr>\n",
       "      <th>4</th>\n",
       "      <td>0.005</td>\n",
       "      <td>0.984505</td>\n",
       "    </tr>\n",
       "    <tr>\n",
       "      <th>...</th>\n",
       "      <td>...</td>\n",
       "      <td>...</td>\n",
       "    </tr>\n",
       "    <tr>\n",
       "      <th>994</th>\n",
       "      <td>0.995</td>\n",
       "      <td>0.998064</td>\n",
       "    </tr>\n",
       "    <tr>\n",
       "      <th>995</th>\n",
       "      <td>0.996</td>\n",
       "      <td>0.998082</td>\n",
       "    </tr>\n",
       "    <tr>\n",
       "      <th>996</th>\n",
       "      <td>0.997</td>\n",
       "      <td>0.998300</td>\n",
       "    </tr>\n",
       "    <tr>\n",
       "      <th>997</th>\n",
       "      <td>0.998</td>\n",
       "      <td>0.998343</td>\n",
       "    </tr>\n",
       "    <tr>\n",
       "      <th>998</th>\n",
       "      <td>0.999</td>\n",
       "      <td>0.998415</td>\n",
       "    </tr>\n",
       "  </tbody>\n",
       "</table>\n",
       "<p>999 rows × 2 columns</p>\n",
       "</div>"
      ],
      "text/plain": [
       "     Квантиль  Значение\n",
       "0       0.001  0.983210\n",
       "1       0.002  0.983733\n",
       "2       0.003  0.983964\n",
       "3       0.004  0.984461\n",
       "4       0.005  0.984505\n",
       "..        ...       ...\n",
       "994     0.995  0.998064\n",
       "995     0.996  0.998082\n",
       "996     0.997  0.998300\n",
       "997     0.998  0.998343\n",
       "998     0.999  0.998415\n",
       "\n",
       "[999 rows x 2 columns]"
      ]
     },
     "execution_count": 86,
     "metadata": {},
     "output_type": "execute_result"
    }
   ],
   "source": [
    "from scipy.stats import kstest\n",
    "kvanlil_9991 = [kv for kv in np.arange(0.001,1,0.001)]\n",
    "znach_9991 = []\n",
    "for i in kvanlil_9991:\n",
    "    znach_9991.append(np.quantile(Shapir1,i))\n",
    "print(kstest(znach_9992,'norm'))\n",
    "df_9991 = pd.DataFrame({'Квантиль':kvanlil_9991, 'Значение':znach_9991})\n",
    "df_9991.to_csv('999 квантилей статистики Шапиро-Уилка1.csv')\n",
    "df_9991"
   ]
  },
  {
   "cell_type": "code",
   "execution_count": 78,
   "metadata": {},
   "outputs": [
    {
     "data": {
      "image/png": "[encoded data removed]",
      "text/plain": [
       "<Figure size 432x288 with 1 Axes>"
      ]
     },
     "metadata": {
      "needs_background": "light"
     },
     "output_type": "display_data"
    }
   ],
   "source": [
    "pvalues=[]\n",
    "for i in range(1000):\n",
    "    x=np.random.normal(loc=0, scale=1, size=252)\n",
    "    pvalues.append(stats.shapiro(x)[1])\n",
    "plt.hist(pvalues,rwidth=0.9)\n",
    "plt.title('Гистограмма Р-значений модельных данных')\n",
    "plt.show()"
   ]
  },
  {
   "cell_type": "code",
   "execution_count": 85,
   "metadata": {},
   "outputs": [
    {
     "name": "stdout",
     "output_type": "stream",
     "text": [
      "KstestResult(statistic=0.8365078713162102, pvalue=0.0)\n"
     ]
    },
    {
     "data": {
      "text/html": [
       "<div>\n",
       "<style scoped>\n",
       "    .dataframe tbody tr th:only-of-type {\n",
       "        vertical-align: middle;\n",
       "    }\n",
       "\n",
       "    .dataframe tbody tr th {\n",
       "        vertical-align: top;\n",
       "    }\n",
       "\n",
       "    .dataframe thead th {\n",
       "        text-align: right;\n",
       "    }\n",
       "</style>\n",
       "<table border=\"1\" class=\"dataframe\">\n",
       "  <thead>\n",
       "    <tr style=\"text-align: right;\">\n",
       "      <th></th>\n",
       "      <th>Квантиль</th>\n",
       "      <th>Значение</th>\n",
       "    </tr>\n",
       "  </thead>\n",
       "  <tbody>\n",
       "    <tr>\n",
       "      <th>0</th>\n",
       "      <td>0.001</td>\n",
       "      <td>0.980206</td>\n",
       "    </tr>\n",
       "    <tr>\n",
       "      <th>1</th>\n",
       "      <td>0.002</td>\n",
       "      <td>0.982303</td>\n",
       "    </tr>\n",
       "    <tr>\n",
       "      <th>2</th>\n",
       "      <td>0.003</td>\n",
       "      <td>0.982599</td>\n",
       "    </tr>\n",
       "    <tr>\n",
       "      <th>3</th>\n",
       "      <td>0.004</td>\n",
       "      <td>0.983131</td>\n",
       "    </tr>\n",
       "    <tr>\n",
       "      <th>4</th>\n",
       "      <td>0.005</td>\n",
       "      <td>0.983299</td>\n",
       "    </tr>\n",
       "    <tr>\n",
       "      <th>...</th>\n",
       "      <td>...</td>\n",
       "      <td>...</td>\n",
       "    </tr>\n",
       "    <tr>\n",
       "      <th>994</th>\n",
       "      <td>0.995</td>\n",
       "      <td>0.997974</td>\n",
       "    </tr>\n",
       "    <tr>\n",
       "      <th>995</th>\n",
       "      <td>0.996</td>\n",
       "      <td>0.997979</td>\n",
       "    </tr>\n",
       "    <tr>\n",
       "      <th>996</th>\n",
       "      <td>0.997</td>\n",
       "      <td>0.998062</td>\n",
       "    </tr>\n",
       "    <tr>\n",
       "      <th>997</th>\n",
       "      <td>0.998</td>\n",
       "      <td>0.998181</td>\n",
       "    </tr>\n",
       "    <tr>\n",
       "      <th>998</th>\n",
       "      <td>0.999</td>\n",
       "      <td>0.998431</td>\n",
       "    </tr>\n",
       "  </tbody>\n",
       "</table>\n",
       "<p>999 rows × 2 columns</p>\n",
       "</div>"
      ],
      "text/plain": [
       "     Квантиль  Значение\n",
       "0       0.001  0.980206\n",
       "1       0.002  0.982303\n",
       "2       0.003  0.982599\n",
       "3       0.004  0.983131\n",
       "4       0.005  0.983299\n",
       "..        ...       ...\n",
       "994     0.995  0.997974\n",
       "995     0.996  0.997979\n",
       "996     0.997  0.998062\n",
       "997     0.998  0.998181\n",
       "998     0.999  0.998431\n",
       "\n",
       "[999 rows x 2 columns]"
      ]
     },
     "execution_count": 85,
     "metadata": {},
     "output_type": "execute_result"
    }
   ],
   "source": [
    "from scipy.stats import kstest\n",
    "kvanlil_9992 = [kv for kv in np.arange(0.001,1,0.001)]\n",
    "znach_9992 = []\n",
    "for i in kvanlil_9992:\n",
    "    znach_9992.append(np.quantile(Shapir2,i))\n",
    "print(kstest(znach_9992,'norm'))\n",
    "df_9992 = pd.DataFrame({'Квантиль':kvanlil_9992, 'Значение':znach_9992})\n",
    "df_9992.to_csv('999 квантилей статистики Шапиро-Уилка2.csv')\n",
    "df_9992"
   ]
  },
  {
   "cell_type": "code",
   "execution_count": 89,
   "metadata": {},
   "outputs": [
    {
     "name": "stdout",
     "output_type": "stream",
     "text": [
      "KstestResult(statistic=0.5000606474208829, pvalue=9.269881003515995e-232)\n"
     ]
    },
    {
     "data": {
      "image/png": "[encoded data removed]",
      "text/plain": [
       "<Figure size 432x288 with 1 Axes>"
      ]
     },
     "metadata": {
      "needs_background": "light"
     },
     "output_type": "display_data"
    }
   ],
   "source": [
    "\n",
    "pvalues1=[]\n",
    "for i in range(1000):\n",
    "    x=np.random.normal(loc=0, scale=1, size=252)\n",
    "    pvalues1.append(stats.shapiro(x)[1])\n",
    "plt.hist(pvalues1,rwidth=0.9)\n",
    "plt.title('Гистограмма Р-значений модельных данных')\n",
    "plt.show()"
   ]
  },
  {
   "cell_type": "code",
   "execution_count": 93,
   "metadata": {},
   "outputs": [],
   "source": [
    "#выполним проверку с помощью критерия Колмогорова\n",
    "def p_kolm(n):\n",
    "    viborka=np.random.normal(loc=0, scale=1, size=n) \n",
    "    p=stats.kstest(viborka,'norm')\n",
    "    return round(p[1],3)"
   ]
  },
  {
   "cell_type": "code",
   "execution_count": 98,
   "metadata": {},
   "outputs": [
    {
     "name": "stdout",
     "output_type": "stream",
     "text": [
      "KstestResult(statistic=0.500398942213911, pvalue=4.283284184555304e-232)\n"
     ]
    },
    {
     "data": {
      "image/png": "[encoded data removed]",
      "text/plain": [
       "<Figure size 432x288 with 1 Axes>"
      ]
     },
     "metadata": {
      "needs_background": "light"
     },
     "output_type": "display_data"
    }
   ],
   "source": [
    "#построение гистограммы Р-значений, вычисленных с помощью критерия Колмогорова\n",
    "\n",
    "from scipy.stats import kstest\n",
    "pvalues_kolm1=[]\n",
    "for i in range(1000):\n",
    "    pvalues_kolm1.append(p_kolm(n))\n",
    "print(kstest(pvalues_kolm1,'norm'))\n",
    "plt.hist(pvalues_kolm1,rwidth=0.9)\n",
    "plt.title('Гистограмма Р-значений модельных данных 1, вычисленных с помощью критерия Колмогорова')\n",
    "plt.show()"
   ]
  },
  {
   "cell_type": "code",
   "execution_count": 99,
   "metadata": {},
   "outputs": [
    {
     "name": "stdout",
     "output_type": "stream",
     "text": [
      "KstestResult(statistic=0.5015957648662316, pvalue=2.774378769947302e-233)\n"
     ]
    },
    {
     "data": {
      "image/png": "[encoded data removed]",
      "text/plain": [
       "<Figure size 432x288 with 1 Axes>"
      ]
     },
     "metadata": {
      "needs_background": "light"
     },
     "output_type": "display_data"
    }
   ],
   "source": [
    "#построение гистограммы Р-значений, вычисленных с помощью критерия Колмогорова\n",
    "\n",
    "from scipy.stats import kstest\n",
    "pvalues_kolm2=[]\n",
    "for i in range(1000):\n",
    "    pvalues_kolm2.append(p_kolm(n))\n",
    "print(kstest(pvalues_kolm2,'norm'))\n",
    "plt.hist(pvalues_kolm2,rwidth=0.9)\n",
    "plt.title('Гистограмма Р-значений модельных данных 1, вычисленных с помощью критерия Колмогорова')\n",
    "plt.show()"
   ]
  },
  {
   "cell_type": "code",
   "execution_count": 376,
   "metadata": {},
   "outputs": [
    {
     "name": "stdout",
     "output_type": "stream",
     "text": [
      "0.9382415006860042\n"
     ]
    }
   ],
   "source": [
    "# проверим, что наши выборки взяты из распределения одного вида\n",
    "viborka_1=np.random.normal(loc=0, scale=1, size=n) \n",
    "viborka_2=np.random.normal(loc=0, scale=1, size=n) \n",
    "pvalue1 = stats.ks_2samp(viborka_1,viborka_2) \n",
    "print(pvalue1[1])"
   ]
  },
  {
   "cell_type": "code",
   "execution_count": 101,
   "metadata": {},
   "outputs": [],
   "source": [
    "#проверка притерия Фишера\n",
    "def fisher_criterion(v1, v2):\n",
    "    return abs(np.mean(v1) - np.mean(v2)) / (np.var(v1) + np.var(v2))"
   ]
  },
  {
   "cell_type": "code",
   "execution_count": 102,
   "metadata": {},
   "outputs": [
    {
     "data": {
      "text/plain": [
       "1.802170220134549"
      ]
     },
     "execution_count": 102,
     "metadata": {},
     "output_type": "execute_result"
    }
   ],
   "source": [
    "fisher_criterion (znach_9991, znach_9992)"
   ]
  },
  {
   "cell_type": "code",
   "execution_count": 382,
   "metadata": {},
   "outputs": [],
   "source": [
    "#проверка гипотезы на реальных данных"
   ]
  },
  {
   "cell_type": "code",
   "execution_count": 118,
   "metadata": {},
   "outputs": [
    {
     "data": {
      "text/html": [
       "<div>\n",
       "<style scoped>\n",
       "    .dataframe tbody tr th:only-of-type {\n",
       "        vertical-align: middle;\n",
       "    }\n",
       "\n",
       "    .dataframe tbody tr th {\n",
       "        vertical-align: top;\n",
       "    }\n",
       "\n",
       "    .dataframe thead th {\n",
       "        text-align: right;\n",
       "    }\n",
       "</style>\n",
       "<table border=\"1\" class=\"dataframe\">\n",
       "  <thead>\n",
       "    <tr style=\"text-align: right;\">\n",
       "      <th></th>\n",
       "      <th>P_value</th>\n",
       "    </tr>\n",
       "  </thead>\n",
       "  <tbody>\n",
       "    <tr>\n",
       "      <th>AGRO</th>\n",
       "      <td>0.0</td>\n",
       "    </tr>\n",
       "    <tr>\n",
       "      <th>MGNT</th>\n",
       "      <td>0.0</td>\n",
       "    </tr>\n",
       "    <tr>\n",
       "      <th>LNTAq</th>\n",
       "      <td>0.0</td>\n",
       "    </tr>\n",
       "    <tr>\n",
       "      <th>MVID</th>\n",
       "      <td>0.0</td>\n",
       "    </tr>\n",
       "    <tr>\n",
       "      <th>APTK</th>\n",
       "      <td>0.0</td>\n",
       "    </tr>\n",
       "    <tr>\n",
       "      <th>SVAV</th>\n",
       "      <td>0.0</td>\n",
       "    </tr>\n",
       "  </tbody>\n",
       "</table>\n",
       "</div>"
      ],
      "text/plain": [
       "       P_value\n",
       "AGRO       0.0\n",
       "MGNT       0.0\n",
       "LNTAq      0.0\n",
       "MVID       0.0\n",
       "APTK       0.0\n",
       "SVAV       0.0"
      ]
     },
     "execution_count": 118,
     "metadata": {},
     "output_type": "execute_result"
    }
   ],
   "source": [
    "#выборка за все 5 лет\n",
    "tickers=['AGRO', 'MGNT', 'LNTAq', 'MVID', 'APTK', 'SVAV'] \n",
    "pshap_5let=pd.DataFrame(index=tickers) \n",
    "pshap_5let_round=pd.DataFrame(index=tickers)\n",
    "p_5let=[]\n",
    "p_5let_round=[]\n",
    "p_5let_kolm=[]\n",
    "for j in range(len(tickers)):\n",
    "    file=pd.read_csv(tickers[j]+'.csv',sep=';')\n",
    "    shap_5let=stats.shapiro(file['<HIGH>']-file['<OPEN>']) \n",
    "    p_5let.append(shap_5let[1])\n",
    "    p_5let_round.append(round(shap_5let[1],5))\n",
    "    p_5let_kolm.append(stats.kstest(file['<HIGH>']-file['<OPEN>'],'norm')[1])\n",
    "pshap_5let['P_value']=p_5let\n",
    "pshap_5let_round['P_value']=p_5let_round\n",
    "pshap_5let.to_csv('Р значения реальных данных для выборки из 5 лет.csv',sep=';')\n",
    "pshap_5let_round.to_csv('Р значения реальных данных для выборки из 5 лет с округлением до 5 знаков.csv',sep=';')\n",
    "pshap_5let_round\n",
    "fisher_criterion (znach_9991, znach_9992)"
   ]
  },
  {
   "cell_type": "code",
   "execution_count": 119,
   "metadata": {},
   "outputs": [
    {
     "data": {
      "image/png": "[encoded data removed]",
      "text/plain": [
       "<Figure size 432x288 with 1 Axes>"
      ]
     },
     "metadata": {
      "needs_background": "light"
     },
     "output_type": "display_data"
    }
   ],
   "source": [
    "plt.hist(p_5let_kolm,rwidth=0.9)\n",
    "plt.title('Гистограмма Р-значений реальных данных для выборки из 5 лет по критерию Колмогорова')\n",
    "plt.show()"
   ]
  },
  {
   "cell_type": "code",
   "execution_count": 120,
   "metadata": {},
   "outputs": [
    {
     "data": {
      "image/png": "[encoded data removed]",
      "text/plain": [
       "<Figure size 432x288 with 1 Axes>"
      ]
     },
     "metadata": {
      "needs_background": "light"
     },
     "output_type": "display_data"
    }
   ],
   "source": [
    "plt.hist(pshap_5let['P_value'],rwidth=0.9)\n",
    "plt.title('Гистограмма Р-значений реальных данных для выборки из 5 лет')\n",
    "plt.show()"
   ]
  },
  {
   "cell_type": "code",
   "execution_count": 123,
   "metadata": {},
   "outputs": [
    {
     "data": {
      "text/html": [
       "<div>\n",
       "<style scoped>\n",
       "    .dataframe tbody tr th:only-of-type {\n",
       "        vertical-align: middle;\n",
       "    }\n",
       "\n",
       "    .dataframe tbody tr th {\n",
       "        vertical-align: top;\n",
       "    }\n",
       "\n",
       "    .dataframe thead th {\n",
       "        text-align: right;\n",
       "    }\n",
       "</style>\n",
       "<table border=\"1\" class=\"dataframe\">\n",
       "  <thead>\n",
       "    <tr style=\"text-align: right;\">\n",
       "      <th></th>\n",
       "      <th>2015</th>\n",
       "      <th>2016</th>\n",
       "      <th>2017</th>\n",
       "      <th>2018</th>\n",
       "      <th>2019</th>\n",
       "      <th>2020</th>\n",
       "    </tr>\n",
       "  </thead>\n",
       "  <tbody>\n",
       "    <tr>\n",
       "      <th>AGRO</th>\n",
       "      <td>0.0</td>\n",
       "      <td>0.0</td>\n",
       "      <td>0.0</td>\n",
       "      <td>0.0</td>\n",
       "      <td>0.0</td>\n",
       "      <td>0.0</td>\n",
       "    </tr>\n",
       "    <tr>\n",
       "      <th>MGNT</th>\n",
       "      <td>0.0</td>\n",
       "      <td>0.0</td>\n",
       "      <td>0.0</td>\n",
       "      <td>0.0</td>\n",
       "      <td>0.0</td>\n",
       "      <td>0.0</td>\n",
       "    </tr>\n",
       "    <tr>\n",
       "      <th>LNTAq</th>\n",
       "      <td>0.0</td>\n",
       "      <td>0.0</td>\n",
       "      <td>0.0</td>\n",
       "      <td>0.0</td>\n",
       "      <td>0.0</td>\n",
       "      <td>0.0</td>\n",
       "    </tr>\n",
       "    <tr>\n",
       "      <th>MVID</th>\n",
       "      <td>0.0</td>\n",
       "      <td>0.0</td>\n",
       "      <td>0.0</td>\n",
       "      <td>0.0</td>\n",
       "      <td>0.0</td>\n",
       "      <td>0.0</td>\n",
       "    </tr>\n",
       "    <tr>\n",
       "      <th>APTK</th>\n",
       "      <td>0.0</td>\n",
       "      <td>0.0</td>\n",
       "      <td>0.0</td>\n",
       "      <td>0.0</td>\n",
       "      <td>0.0</td>\n",
       "      <td>0.0</td>\n",
       "    </tr>\n",
       "    <tr>\n",
       "      <th>SVAV</th>\n",
       "      <td>0.0</td>\n",
       "      <td>0.0</td>\n",
       "      <td>0.0</td>\n",
       "      <td>0.0</td>\n",
       "      <td>0.0</td>\n",
       "      <td>0.0</td>\n",
       "    </tr>\n",
       "  </tbody>\n",
       "</table>\n",
       "</div>"
      ],
      "text/plain": [
       "       2015  2016  2017  2018  2019  2020\n",
       "AGRO    0.0   0.0   0.0   0.0   0.0   0.0\n",
       "MGNT    0.0   0.0   0.0   0.0   0.0   0.0\n",
       "LNTAq   0.0   0.0   0.0   0.0   0.0   0.0\n",
       "MVID    0.0   0.0   0.0   0.0   0.0   0.0\n",
       "APTK    0.0   0.0   0.0   0.0   0.0   0.0\n",
       "SVAV    0.0   0.0   0.0   0.0   0.0   0.0"
      ]
     },
     "execution_count": 123,
     "metadata": {},
     "output_type": "execute_result"
    }
   ],
   "source": [
    "#выборка по годам\n",
    "tickers=['AGRO', 'MGNT', 'LNTAq', 'MVID', 'APTK', 'SVAV'] \n",
    "pshap_years=pd.DataFrame(index=tickers) \n",
    "pshap_years_round=pd.DataFrame(index=tickers)\n",
    "p_years_kolm=[]\n",
    "for i in range(2015,2021):\n",
    "    p_year=[]\n",
    "    p_year_round=[]\n",
    "    for j in range(len(tickers)):\n",
    "        file=pd.read_csv(tickers[j]+'.csv',sep=';')\n",
    "        a=(file['<DATE>']>=i*10000)&(file['<DATE>']<(i+1)*10000) \n",
    "        shap_year=stats.shapiro(file[a]['<HIGH>']-file[a]['<OPEN>']) \n",
    "        p_year.append(shap_year[1])\n",
    "        p_year_round.append(round(shap_year[1],5))\n",
    "        p_years_kolm.append(stats.kstest(file[a]['<HIGH>']-file[a]['<OPEN>'],'norm')[1])\n",
    "    pshap_years[str(i)]=p_year\n",
    "    pshap_years_round[str(i)]=p_year_round\n",
    "pshap_years.to_csv('Р значения реальных данных для выборки по годам.csv',sep=';')\n",
    "pshap_years_round.to_csv('Р значения реальных данных для выборки по годам с округлением до 5 знаков.csv',sep=';')\n",
    "pshap_years_round"
   ]
  },
  {
   "cell_type": "code",
   "execution_count": 124,
   "metadata": {},
   "outputs": [
    {
     "data": {
      "image/png": "[encoded data removed]",
      "text/plain": [
       "<Figure size 432x288 with 1 Axes>"
      ]
     },
     "metadata": {
      "needs_background": "light"
     },
     "output_type": "display_data"
    }
   ],
   "source": [
    "plt.hist(p_years_kolm,rwidth=0.9)\n",
    "plt.title('Гистограмма Р-значений реальных данных для выборки по годам по критерию Колмогорова')\n",
    "plt.show()"
   ]
  },
  {
   "cell_type": "code",
   "execution_count": 125,
   "metadata": {},
   "outputs": [
    {
     "data": {
      "image/png": "[encoded data removed]",
      "text/plain": [
       "<Figure size 432x288 with 1 Axes>"
      ]
     },
     "metadata": {
      "needs_background": "light"
     },
     "output_type": "display_data"
    }
   ],
   "source": [
    "plt.hist(pshap_years,rwidth=0.9)\n",
    "plt.title('Гистограмма Р-значений реальных данных для выборки по годам')\n",
    "plt.show()"
   ]
  },
  {
   "cell_type": "code",
   "execution_count": 126,
   "metadata": {},
   "outputs": [
    {
     "data": {
      "text/html": [
       "<div>\n",
       "<style scoped>\n",
       "    .dataframe tbody tr th:only-of-type {\n",
       "        vertical-align: middle;\n",
       "    }\n",
       "\n",
       "    .dataframe tbody tr th {\n",
       "        vertical-align: top;\n",
       "    }\n",
       "\n",
       "    .dataframe thead th {\n",
       "        text-align: right;\n",
       "    }\n",
       "</style>\n",
       "<table border=\"1\" class=\"dataframe\">\n",
       "  <thead>\n",
       "    <tr style=\"text-align: right;\">\n",
       "      <th></th>\n",
       "      <th>2015</th>\n",
       "      <th>2016</th>\n",
       "      <th>2017</th>\n",
       "      <th>2018</th>\n",
       "      <th>2019</th>\n",
       "      <th>2020</th>\n",
       "    </tr>\n",
       "  </thead>\n",
       "  <tbody>\n",
       "    <tr>\n",
       "      <th>AGRO</th>\n",
       "      <td>0.0</td>\n",
       "      <td>0.0</td>\n",
       "      <td>0.0</td>\n",
       "      <td>0.0</td>\n",
       "      <td>0.0</td>\n",
       "      <td>0.0</td>\n",
       "    </tr>\n",
       "    <tr>\n",
       "      <th>MGNT</th>\n",
       "      <td>0.0</td>\n",
       "      <td>0.0</td>\n",
       "      <td>0.0</td>\n",
       "      <td>0.0</td>\n",
       "      <td>0.0</td>\n",
       "      <td>0.0</td>\n",
       "    </tr>\n",
       "    <tr>\n",
       "      <th>LNTAq</th>\n",
       "      <td>0.0</td>\n",
       "      <td>0.0</td>\n",
       "      <td>0.0</td>\n",
       "      <td>0.0</td>\n",
       "      <td>0.0</td>\n",
       "      <td>0.0</td>\n",
       "    </tr>\n",
       "    <tr>\n",
       "      <th>MVID</th>\n",
       "      <td>0.0</td>\n",
       "      <td>0.0</td>\n",
       "      <td>0.0</td>\n",
       "      <td>0.0</td>\n",
       "      <td>0.0</td>\n",
       "      <td>0.0</td>\n",
       "    </tr>\n",
       "    <tr>\n",
       "      <th>APTK</th>\n",
       "      <td>0.0</td>\n",
       "      <td>0.0</td>\n",
       "      <td>0.0</td>\n",
       "      <td>0.0</td>\n",
       "      <td>0.0</td>\n",
       "      <td>0.0</td>\n",
       "    </tr>\n",
       "    <tr>\n",
       "      <th>SVAV</th>\n",
       "      <td>0.0</td>\n",
       "      <td>0.0</td>\n",
       "      <td>0.0</td>\n",
       "      <td>0.0</td>\n",
       "      <td>0.0</td>\n",
       "      <td>0.0</td>\n",
       "    </tr>\n",
       "  </tbody>\n",
       "</table>\n",
       "</div>"
      ],
      "text/plain": [
       "       2015  2016  2017  2018  2019  2020\n",
       "AGRO    0.0   0.0   0.0   0.0   0.0   0.0\n",
       "MGNT    0.0   0.0   0.0   0.0   0.0   0.0\n",
       "LNTAq   0.0   0.0   0.0   0.0   0.0   0.0\n",
       "MVID    0.0   0.0   0.0   0.0   0.0   0.0\n",
       "APTK    0.0   0.0   0.0   0.0   0.0   0.0\n",
       "SVAV    0.0   0.0   0.0   0.0   0.0   0.0"
      ]
     },
     "execution_count": 126,
     "metadata": {},
     "output_type": "execute_result"
    }
   ],
   "source": [
    "#выборка за 1 полугодие каждого года\n",
    "tickers=['AGRO', 'MGNT', 'LNTAq', 'MVID', 'APTK', 'SVAV'] \n",
    "pshap_polygodie=pd.DataFrame(index=tickers) \n",
    "pshap_polygodie_round=pd.DataFrame(index=tickers)\n",
    "p_polygodie_kolm=[]\n",
    "for i in range(2015,2021):\n",
    "    p_polygodie=[]\n",
    "    p_polygodie_round=[]\n",
    "    for j in range(len(tickers)):\n",
    "        file=pd.read_csv(tickers[j]+'.csv',sep=';')\n",
    "        a=(file['<DATE>']>=i*10000)&(file['<DATE>']<i*10000+700) \n",
    "        shap_polygodie=stats.shapiro(file[a]['<HIGH>']-file[a]['<OPEN>']) \n",
    "        p_polygodie.append(shap_polygodie[1])\n",
    "        p_polygodie_round.append(round(shap_polygodie[1],5))\n",
    "        p_polygodie_kolm.append(stats.kstest(file[a]['<HIGH>']-file[a]['<OPEN>'],'norm')[1])\n",
    "    pshap_polygodie[str(i)]=p_polygodie\n",
    "    pshap_polygodie_round[str(i)]=p_polygodie_round\n",
    "pshap_polygodie.to_csv('Р значения реальных данных для выборки по 1 полугодию.csv',sep=';')\n",
    "pshap_polygodie_round.to_csv('Р значения реальных данных для выборки по 1 полугодию с округлением до 5 знаков.csv',sep=';')\n",
    "pshap_polygodie_round"
   ]
  },
  {
   "cell_type": "code",
   "execution_count": 127,
   "metadata": {},
   "outputs": [
    {
     "data": {
      "image/png": "[encoded data removed]",
      "text/plain": [
       "<Figure size 432x288 with 1 Axes>"
      ]
     },
     "metadata": {
      "needs_background": "light"
     },
     "output_type": "display_data"
    }
   ],
   "source": [
    "plt.hist(p_polygodie_kolm,rwidth=0.9)\n",
    "plt.title('Гистограмма Р-значений реальных данных для выборки за 1 полугодие каждого года по критерию Колмогорова')\n",
    "plt.show()"
   ]
  },
  {
   "cell_type": "code",
   "execution_count": 128,
   "metadata": {
    "scrolled": true
   },
   "outputs": [
    {
     "data": {
      "image/png": "[encoded data removed]",
      "text/plain": [
       "<Figure size 432x288 with 1 Axes>"
      ]
     },
     "metadata": {
      "needs_background": "light"
     },
     "output_type": "display_data"
    }
   ],
   "source": [
    "plt.hist(pshap_polygodie,rwidth=0.9)\n",
    "plt.title('Гистограмма Р-значений реальных данных для выборки за 1 полугодие каждого года')\n",
    "plt.show()"
   ]
  },
  {
   "cell_type": "code",
   "execution_count": 129,
   "metadata": {},
   "outputs": [
    {
     "data": {
      "text/html": [
       "<div>\n",
       "<style scoped>\n",
       "    .dataframe tbody tr th:only-of-type {\n",
       "        vertical-align: middle;\n",
       "    }\n",
       "\n",
       "    .dataframe tbody tr th {\n",
       "        vertical-align: top;\n",
       "    }\n",
       "\n",
       "    .dataframe thead th {\n",
       "        text-align: right;\n",
       "    }\n",
       "</style>\n",
       "<table border=\"1\" class=\"dataframe\">\n",
       "  <thead>\n",
       "    <tr style=\"text-align: right;\">\n",
       "      <th></th>\n",
       "      <th>2015</th>\n",
       "      <th>2016</th>\n",
       "      <th>2017</th>\n",
       "      <th>2018</th>\n",
       "      <th>2019</th>\n",
       "      <th>2020</th>\n",
       "    </tr>\n",
       "  </thead>\n",
       "  <tbody>\n",
       "    <tr>\n",
       "      <th>AGRO</th>\n",
       "      <td>0.00000</td>\n",
       "      <td>0.00127</td>\n",
       "      <td>0.00002</td>\n",
       "      <td>0.00024</td>\n",
       "      <td>0.00002</td>\n",
       "      <td>0.0</td>\n",
       "    </tr>\n",
       "    <tr>\n",
       "      <th>MGNT</th>\n",
       "      <td>0.00009</td>\n",
       "      <td>0.00000</td>\n",
       "      <td>0.00000</td>\n",
       "      <td>0.00000</td>\n",
       "      <td>0.00025</td>\n",
       "      <td>0.0</td>\n",
       "    </tr>\n",
       "    <tr>\n",
       "      <th>LNTAq</th>\n",
       "      <td>0.00000</td>\n",
       "      <td>0.00000</td>\n",
       "      <td>0.00000</td>\n",
       "      <td>0.00001</td>\n",
       "      <td>0.00000</td>\n",
       "      <td>0.0</td>\n",
       "    </tr>\n",
       "    <tr>\n",
       "      <th>MVID</th>\n",
       "      <td>0.00000</td>\n",
       "      <td>0.00000</td>\n",
       "      <td>0.00000</td>\n",
       "      <td>0.00000</td>\n",
       "      <td>0.00000</td>\n",
       "      <td>0.0</td>\n",
       "    </tr>\n",
       "    <tr>\n",
       "      <th>APTK</th>\n",
       "      <td>0.00000</td>\n",
       "      <td>0.00000</td>\n",
       "      <td>0.00000</td>\n",
       "      <td>0.00007</td>\n",
       "      <td>0.00000</td>\n",
       "      <td>0.0</td>\n",
       "    </tr>\n",
       "    <tr>\n",
       "      <th>SVAV</th>\n",
       "      <td>0.00000</td>\n",
       "      <td>0.00001</td>\n",
       "      <td>0.00000</td>\n",
       "      <td>0.00000</td>\n",
       "      <td>0.00000</td>\n",
       "      <td>0.0</td>\n",
       "    </tr>\n",
       "  </tbody>\n",
       "</table>\n",
       "</div>"
      ],
      "text/plain": [
       "          2015     2016     2017     2018     2019  2020\n",
       "AGRO   0.00000  0.00127  0.00002  0.00024  0.00002   0.0\n",
       "MGNT   0.00009  0.00000  0.00000  0.00000  0.00025   0.0\n",
       "LNTAq  0.00000  0.00000  0.00000  0.00001  0.00000   0.0\n",
       "MVID   0.00000  0.00000  0.00000  0.00000  0.00000   0.0\n",
       "APTK   0.00000  0.00000  0.00000  0.00007  0.00000   0.0\n",
       "SVAV   0.00000  0.00001  0.00000  0.00000  0.00000   0.0"
      ]
     },
     "execution_count": 129,
     "metadata": {},
     "output_type": "execute_result"
    }
   ],
   "source": [
    "#выборка за 1 квартал каждого года\n",
    "tickers=['AGRO', 'MGNT', 'LNTAq', 'MVID', 'APTK', 'SVAV'] \n",
    "pshap_kvartal=pd.DataFrame(index=tickers) \n",
    "pshap_kvartal_round=pd.DataFrame(index=tickers)\n",
    "p_kvartal_kolm=[]\n",
    "for i in range(2015,2021):\n",
    "    p_kvartal=[]\n",
    "    p_kvartal_round=[]\n",
    "    for j in range(len(tickers)):\n",
    "        file=pd.read_csv(tickers[j]+'.csv',sep=';')\n",
    "        a=(file['<DATE>']>=i*10000)&(file['<DATE>']<i*10000+400) \n",
    "        shap_kvartal=stats.shapiro(file[a]['<HIGH>']-file[a]['<OPEN>']) \n",
    "        p_kvartal.append(shap_kvartal[1])\n",
    "        p_kvartal_round.append(round(shap_kvartal[1],5))\n",
    "        p_kvartal_kolm.append(stats.kstest(file[a]['<HIGH>']-file[a]['<OPEN>'],'norm')[1])\n",
    "    pshap_kvartal[str(i)]=p_kvartal\n",
    "    pshap_kvartal_round[str(i)]=p_kvartal_round\n",
    "pshap_kvartal.to_csv('Р значения реальных данных для выборки по 1 кварталу.csv',sep=';')\n",
    "pshap_kvartal_round.to_csv('Р значения реальных данных для выборки по 1 кварталу с округлением до 5 знаков.csv',sep=';')\n",
    "pshap_kvartal_round"
   ]
  },
  {
   "cell_type": "code",
   "execution_count": 130,
   "metadata": {},
   "outputs": [
    {
     "data": {
      "image/png": "[encoded data removed]",
      "text/plain": [
       "<Figure size 432x288 with 1 Axes>"
      ]
     },
     "metadata": {
      "needs_background": "light"
     },
     "output_type": "display_data"
    }
   ],
   "source": [
    "plt.hist(p_kvartal_kolm,rwidth=0.9)\n",
    "plt.title('Гистограмма Р-значений реальных данных для выборки за 1 квартал каждого года по критерию Колмогорова')\n",
    "plt.show()"
   ]
  },
  {
   "cell_type": "code",
   "execution_count": 131,
   "metadata": {},
   "outputs": [
    {
     "data": {
      "image/png": "[encoded data removed]",
      "text/plain": [
       "<Figure size 432x288 with 1 Axes>"
      ]
     },
     "metadata": {
      "needs_background": "light"
     },
     "output_type": "display_data"
    }
   ],
   "source": [
    "plt.hist(pshap_kvartal,rwidth=0.9)\n",
    "plt.title('Гистограмма Р-значений реальных данных для выборки за 1 квартал каждого года')\n",
    "plt.show()"
   ]
  },
  {
   "cell_type": "code",
   "execution_count": 133,
   "metadata": {},
   "outputs": [
    {
     "data": {
      "text/html": [
       "<div>\n",
       "<style scoped>\n",
       "    .dataframe tbody tr th:only-of-type {\n",
       "        vertical-align: middle;\n",
       "    }\n",
       "\n",
       "    .dataframe tbody tr th {\n",
       "        vertical-align: top;\n",
       "    }\n",
       "\n",
       "    .dataframe thead th {\n",
       "        text-align: right;\n",
       "    }\n",
       "</style>\n",
       "<table border=\"1\" class=\"dataframe\">\n",
       "  <thead>\n",
       "    <tr style=\"text-align: right;\">\n",
       "      <th></th>\n",
       "      <th>2015</th>\n",
       "      <th>2016</th>\n",
       "      <th>2017</th>\n",
       "      <th>2018</th>\n",
       "      <th>2019</th>\n",
       "      <th>2020</th>\n",
       "    </tr>\n",
       "  </thead>\n",
       "  <tbody>\n",
       "    <tr>\n",
       "      <th>AGRO</th>\n",
       "      <td>0.02140</td>\n",
       "      <td>0.24254</td>\n",
       "      <td>0.04276</td>\n",
       "      <td>0.01222</td>\n",
       "      <td>0.08603</td>\n",
       "      <td>0.00030</td>\n",
       "    </tr>\n",
       "    <tr>\n",
       "      <th>MGNT</th>\n",
       "      <td>0.16720</td>\n",
       "      <td>0.01881</td>\n",
       "      <td>0.00007</td>\n",
       "      <td>0.02704</td>\n",
       "      <td>0.52457</td>\n",
       "      <td>0.00147</td>\n",
       "    </tr>\n",
       "    <tr>\n",
       "      <th>LNTAq</th>\n",
       "      <td>0.00046</td>\n",
       "      <td>0.00033</td>\n",
       "      <td>0.00001</td>\n",
       "      <td>0.15396</td>\n",
       "      <td>0.00321</td>\n",
       "      <td>0.01891</td>\n",
       "    </tr>\n",
       "    <tr>\n",
       "      <th>MVID</th>\n",
       "      <td>0.00694</td>\n",
       "      <td>0.02201</td>\n",
       "      <td>0.00023</td>\n",
       "      <td>0.55439</td>\n",
       "      <td>0.00072</td>\n",
       "      <td>0.06495</td>\n",
       "    </tr>\n",
       "    <tr>\n",
       "      <th>APTK</th>\n",
       "      <td>0.00973</td>\n",
       "      <td>0.00000</td>\n",
       "      <td>0.00007</td>\n",
       "      <td>0.19111</td>\n",
       "      <td>0.00002</td>\n",
       "      <td>0.00000</td>\n",
       "    </tr>\n",
       "    <tr>\n",
       "      <th>SVAV</th>\n",
       "      <td>0.00020</td>\n",
       "      <td>0.02368</td>\n",
       "      <td>0.11238</td>\n",
       "      <td>0.00013</td>\n",
       "      <td>0.00021</td>\n",
       "      <td>0.23778</td>\n",
       "    </tr>\n",
       "  </tbody>\n",
       "</table>\n",
       "</div>"
      ],
      "text/plain": [
       "          2015     2016     2017     2018     2019     2020\n",
       "AGRO   0.02140  0.24254  0.04276  0.01222  0.08603  0.00030\n",
       "MGNT   0.16720  0.01881  0.00007  0.02704  0.52457  0.00147\n",
       "LNTAq  0.00046  0.00033  0.00001  0.15396  0.00321  0.01891\n",
       "MVID   0.00694  0.02201  0.00023  0.55439  0.00072  0.06495\n",
       "APTK   0.00973  0.00000  0.00007  0.19111  0.00002  0.00000\n",
       "SVAV   0.00020  0.02368  0.11238  0.00013  0.00021  0.23778"
      ]
     },
     "execution_count": 133,
     "metadata": {},
     "output_type": "execute_result"
    }
   ],
   "source": [
    "#выборка за 1 месяц каждого года\n",
    "tickers=['AGRO', 'MGNT', 'LNTAq', 'MVID', 'APTK', 'SVAV'] \n",
    "pshap_mounth=pd.DataFrame(index=tickers) \n",
    "pshap_mounth_round=pd.DataFrame(index=tickers)\n",
    "p_mounth_kolm=[]\n",
    "for i in range(2015,2021):\n",
    "    p_mounth=[]\n",
    "    p_mounth_round=[]\n",
    "    for j in range(len(tickers)):\n",
    "        file=pd.read_csv(tickers[j]+'.csv',sep=';')\n",
    "        a=(file['<DATE>']>=i*10000)&(file['<DATE>']<i*10000+200) \n",
    "        shap_mounth=stats.shapiro(file[a]['<HIGH>']-file[a]['<OPEN>']) \n",
    "        p_mounth.append(shap_mounth[1])\n",
    "        p_mounth_round.append(round(shap_mounth[1],5))\n",
    "        p_mounth_kolm.append(stats.kstest(file[a]['<HIGH>']-file[a]['<OPEN>'],'norm')[1])\n",
    "    pshap_mounth[str(i)]=p_mounth\n",
    "    pshap_mounth_round[str(i)]=p_mounth_round\n",
    "pshap_mounth.to_csv('Р значения реальных данных для выборки по 1 месяцу.csv',sep=';')\n",
    "pshap_mounth_round.to_csv('Р значения реальных данных для выборки по 1 месяцу с округлением до 5 знаков.csv',sep=';')\n",
    "pshap_mounth_round"
   ]
  },
  {
   "cell_type": "code",
   "execution_count": 134,
   "metadata": {},
   "outputs": [
    {
     "data": {
      "image/png": "[encoded data removed]",
      "text/plain": [
       "<Figure size 432x288 with 1 Axes>"
      ]
     },
     "metadata": {
      "needs_background": "light"
     },
     "output_type": "display_data"
    }
   ],
   "source": [
    "plt.hist(p_mounth_kolm,rwidth=0.9)\n",
    "plt.title('Гистограмма Р-значений реальных данных для выборки за 1 месяц каждого года по критерию Колмогорова')\n",
    "plt.show()"
   ]
  },
  {
   "cell_type": "code",
   "execution_count": 135,
   "metadata": {},
   "outputs": [
    {
     "data": {
      "image/png": "[encoded data removed]",
      "text/plain": [
       "<Figure size 432x288 with 1 Axes>"
      ]
     },
     "metadata": {
      "needs_background": "light"
     },
     "output_type": "display_data"
    }
   ],
   "source": [
    "plt.hist(pshap_mounth,rwidth=0.9)\n",
    "plt.title('Гистограмма Р-значений реальных данных для выборки за 1 месяц каждого года')\n",
    "plt.show()"
   ]
  },
  {
   "cell_type": "code",
   "execution_count": 137,
   "metadata": {},
   "outputs": [
    {
     "data": {
      "text/html": [
       "<div>\n",
       "<style scoped>\n",
       "    .dataframe tbody tr th:only-of-type {\n",
       "        vertical-align: middle;\n",
       "    }\n",
       "\n",
       "    .dataframe tbody tr th {\n",
       "        vertical-align: top;\n",
       "    }\n",
       "\n",
       "    .dataframe thead th {\n",
       "        text-align: right;\n",
       "    }\n",
       "</style>\n",
       "<table border=\"1\" class=\"dataframe\">\n",
       "  <thead>\n",
       "    <tr style=\"text-align: right;\">\n",
       "      <th></th>\n",
       "      <th>2015</th>\n",
       "      <th>2016</th>\n",
       "      <th>2017</th>\n",
       "      <th>2018</th>\n",
       "      <th>2019</th>\n",
       "      <th>2020</th>\n",
       "    </tr>\n",
       "  </thead>\n",
       "  <tbody>\n",
       "    <tr>\n",
       "      <th>AGRO</th>\n",
       "      <td>0.74068</td>\n",
       "      <td>0.21446</td>\n",
       "      <td>0.03694</td>\n",
       "      <td>0.23628</td>\n",
       "      <td>0.71290</td>\n",
       "      <td>0.11759</td>\n",
       "    </tr>\n",
       "    <tr>\n",
       "      <th>MGNT</th>\n",
       "      <td>0.13323</td>\n",
       "      <td>0.13107</td>\n",
       "      <td>0.02262</td>\n",
       "      <td>0.39159</td>\n",
       "      <td>0.74654</td>\n",
       "      <td>0.04141</td>\n",
       "    </tr>\n",
       "    <tr>\n",
       "      <th>LNTAq</th>\n",
       "      <td>0.07266</td>\n",
       "      <td>0.80457</td>\n",
       "      <td>0.00004</td>\n",
       "      <td>0.67006</td>\n",
       "      <td>0.10440</td>\n",
       "      <td>0.90451</td>\n",
       "    </tr>\n",
       "    <tr>\n",
       "      <th>MVID</th>\n",
       "      <td>0.03286</td>\n",
       "      <td>0.37408</td>\n",
       "      <td>0.43335</td>\n",
       "      <td>0.36638</td>\n",
       "      <td>0.42172</td>\n",
       "      <td>0.78071</td>\n",
       "    </tr>\n",
       "    <tr>\n",
       "      <th>APTK</th>\n",
       "      <td>0.05658</td>\n",
       "      <td>0.57872</td>\n",
       "      <td>0.58037</td>\n",
       "      <td>0.95750</td>\n",
       "      <td>0.08584</td>\n",
       "      <td>0.02765</td>\n",
       "    </tr>\n",
       "    <tr>\n",
       "      <th>SVAV</th>\n",
       "      <td>0.01629</td>\n",
       "      <td>0.00013</td>\n",
       "      <td>0.65916</td>\n",
       "      <td>0.01213</td>\n",
       "      <td>0.00414</td>\n",
       "      <td>0.79996</td>\n",
       "    </tr>\n",
       "  </tbody>\n",
       "</table>\n",
       "</div>"
      ],
      "text/plain": [
       "          2015     2016     2017     2018     2019     2020\n",
       "AGRO   0.74068  0.21446  0.03694  0.23628  0.71290  0.11759\n",
       "MGNT   0.13323  0.13107  0.02262  0.39159  0.74654  0.04141\n",
       "LNTAq  0.07266  0.80457  0.00004  0.67006  0.10440  0.90451\n",
       "MVID   0.03286  0.37408  0.43335  0.36638  0.42172  0.78071\n",
       "APTK   0.05658  0.57872  0.58037  0.95750  0.08584  0.02765\n",
       "SVAV   0.01629  0.00013  0.65916  0.01213  0.00414  0.79996"
      ]
     },
     "execution_count": 137,
     "metadata": {},
     "output_type": "execute_result"
    }
   ],
   "source": [
    "#выборка за первые 2 недели каждого года\n",
    "tickers=['AGRO', 'MGNT', 'LNTAq', 'MVID', 'APTK', 'SVAV'] \n",
    "pshap_nedely=pd.DataFrame(index=tickers) \n",
    "pshap_nedely_round=pd.DataFrame(index=tickers)\n",
    "p_nedely_kolm=[]\n",
    "for i in range(2015,2021):\n",
    "    p_nedely=[]\n",
    "    p_nedely_round=[]\n",
    "    for j in range(len(tickers)):\n",
    "        file=pd.read_csv(tickers[j]+'.csv',sep=';')\n",
    "        a=(file['<DATE>']>=i*10000)&(file['<DATE>']<i*10000+115) \n",
    "        shap_nedely=stats.shapiro(file[a]['<HIGH>']-file[a]['<OPEN>']) \n",
    "        p_nedely.append(shap_nedely[1])\n",
    "        p_nedely_round.append(round(shap_nedely[1],5))\n",
    "        p_nedely_kolm.append(stats.kstest(file[a]['<HIGH>']-file[a]['<OPEN>'],'norm')[1])\n",
    "    pshap_nedely[str(i)]=p_nedely\n",
    "    pshap_nedely_round[str(i)]=p_nedely_round\n",
    "pshap_nedely.to_csv('Р значения реальных данных для выборки по первым 2 неделям года.csv',sep=';')\n",
    "pshap_nedely_round.to_csv('Р значения реальных данных для выборки по первым 2 неделям года с округлением до 5 знаков.csv',sep=';')\n",
    "pshap_nedely_round"
   ]
  },
  {
   "cell_type": "code",
   "execution_count": 138,
   "metadata": {},
   "outputs": [
    {
     "data": {
      "image/png": "[encoded data removed]",
      "text/plain": [
       "<Figure size 432x288 with 1 Axes>"
      ]
     },
     "metadata": {
      "needs_background": "light"
     },
     "output_type": "display_data"
    }
   ],
   "source": [
    "plt.hist(p_nedely_kolm,rwidth=0.9)\n",
    "plt.title('Гистограмма Р-значений реальных данных для выборки по первым 2 неделям года по критерию Колмогорова')\n",
    "plt.show()"
   ]
  },
  {
   "cell_type": "code",
   "execution_count": 139,
   "metadata": {},
   "outputs": [
    {
     "data": {
      "image/png": "[encoded data removed]",
      "text/plain": [
       "<Figure size 432x288 with 1 Axes>"
      ]
     },
     "metadata": {
      "needs_background": "light"
     },
     "output_type": "display_data"
    }
   ],
   "source": [
    "plt.hist(pshap_nedely,rwidth=0.9)\n",
    "plt.title('Гистограмма Р-значений реальных данных для выборки по первым 2 неделям года')\n",
    "plt.show()"
   ]
  },
  {
   "cell_type": "code",
   "execution_count": null,
   "metadata": {},
   "outputs": [],
   "source": []
  }
 ],
 "metadata": {
  "kernelspec": {
   "display_name": "Python 3",
   "language": "python",
   "name": "python3"
  },
  "language_info": {
   "codemirror_mode": {
    "name": "ipython",
    "version": 3
   },
   "file_extension": ".py",
   "mimetype": "text/x-python",
   "name": "python",
   "nbconvert_exporter": "python",
   "pygments_lexer": "ipython3",
   "version": "3.7.4"
  }
 },
 "nbformat": 4,
 "nbformat_minor": 2
}
