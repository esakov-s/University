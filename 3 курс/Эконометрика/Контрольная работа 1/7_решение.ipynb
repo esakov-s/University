{
  "nbformat": 4,
  "nbformat_minor": 0,
  "metadata": {
    "colab": {
      "provenance": [],
      "collapsed_sections": []
    },
    "kernelspec": {
      "name": "ir",
      "display_name": "R"
    },
    "language_info": {
      "name": "R"
    }
  },
  "cells": [
    {
      "cell_type": "code",
      "source": [
        "install.packages(\"lmtest\")\n",
        "library(\"lmtest\")"
      ],
      "metadata": {
        "colab": {
          "base_uri": "https://localhost:8080/"
        },
        "id": "iWulsj5wsd23",
        "outputId": "38d06955-6253-4e95-fcb2-0918aa7b41dc"
      },
      "execution_count": 1,
      "outputs": [
        {
          "output_type": "stream",
          "name": "stderr",
          "text": [
            "Installing package into ‘/usr/local/lib/R/site-library’\n",
            "(as ‘lib’ is unspecified)\n",
            "\n",
            "also installing the dependency ‘zoo’\n",
            "\n",
            "\n",
            "Loading required package: zoo\n",
            "\n",
            "\n",
            "Attaching package: ‘zoo’\n",
            "\n",
            "\n",
            "The following objects are masked from ‘package:base’:\n",
            "\n",
            "    as.Date, as.Date.numeric\n",
            "\n",
            "\n"
          ]
        }
      ]
    },
    {
      "cell_type": "code",
      "source": [
        "df = read.table('/content/7.txt', header = TRUE, dec='.', sep='\\t')\n",
        "n = 75\n",
        "m = 2\n",
        "df[1:5,]"
      ],
      "metadata": {
        "id": "JwSfFvB1qIUb",
        "colab": {
          "base_uri": "https://localhost:8080/",
          "height": 255
        },
        "outputId": "5b1c2c33-150a-432c-c26f-5706b70380b6"
      },
      "execution_count": 13,
      "outputs": [
        {
          "output_type": "display_data",
          "data": {
            "text/html": [
              "<table class=\"dataframe\">\n",
              "<caption>A data.frame: 5 × 3</caption>\n",
              "<thead>\n",
              "\t<tr><th></th><th scope=col>y</th><th scope=col>x1</th><th scope=col>x2</th></tr>\n",
              "\t<tr><th></th><th scope=col>&lt;dbl&gt;</th><th scope=col>&lt;dbl&gt;</th><th scope=col>&lt;dbl&gt;</th></tr>\n",
              "</thead>\n",
              "<tbody>\n",
              "\t<tr><th scope=row>1</th><td>103.3403</td><td>47.13890</td><td>24.33460</td></tr>\n",
              "\t<tr><th scope=row>2</th><td>106.6727</td><td>49.86411</td><td>27.66685</td></tr>\n",
              "\t<tr><th scope=row>3</th><td>105.5971</td><td>50.01782</td><td>27.21239</td></tr>\n",
              "\t<tr><th scope=row>4</th><td>105.3403</td><td>49.46209</td><td>27.29779</td></tr>\n",
              "\t<tr><th scope=row>5</th><td>105.1617</td><td>49.38892</td><td>29.14477</td></tr>\n",
              "</tbody>\n",
              "</table>\n"
            ],
            "text/markdown": "\nA data.frame: 5 × 3\n\n| <!--/--> | y &lt;dbl&gt; | x1 &lt;dbl&gt; | x2 &lt;dbl&gt; |\n|---|---|---|---|\n| 1 | 103.3403 | 47.13890 | 24.33460 |\n| 2 | 106.6727 | 49.86411 | 27.66685 |\n| 3 | 105.5971 | 50.01782 | 27.21239 |\n| 4 | 105.3403 | 49.46209 | 27.29779 |\n| 5 | 105.1617 | 49.38892 | 29.14477 |\n\n",
            "text/latex": "A data.frame: 5 × 3\n\\begin{tabular}{r|lll}\n  & y & x1 & x2\\\\\n  & <dbl> & <dbl> & <dbl>\\\\\n\\hline\n\t1 & 103.3403 & 47.13890 & 24.33460\\\\\n\t2 & 106.6727 & 49.86411 & 27.66685\\\\\n\t3 & 105.5971 & 50.01782 & 27.21239\\\\\n\t4 & 105.3403 & 49.46209 & 27.29779\\\\\n\t5 & 105.1617 & 49.38892 & 29.14477\\\\\n\\end{tabular}\n",
            "text/plain": [
              "  y        x1       x2      \n",
              "1 103.3403 47.13890 24.33460\n",
              "2 106.6727 49.86411 27.66685\n",
              "3 105.5971 50.01782 27.21239\n",
              "4 105.3403 49.46209 27.29779\n",
              "5 105.1617 49.38892 29.14477"
            ]
          },
          "metadata": {}
        }
      ]
    },
    {
      "cell_type": "code",
      "source": [
        "model = lm(y ~ x1 + x2, data = df)"
      ],
      "metadata": {
        "id": "EbXu50xGwDyD"
      },
      "execution_count": 21,
      "outputs": []
    },
    {
      "cell_type": "code",
      "source": [
        "summary(model)"
      ],
      "metadata": {
        "colab": {
          "base_uri": "https://localhost:8080/",
          "height": 347
        },
        "id": "yj68tKZHh0Yj",
        "outputId": "aa74343a-d7e8-4c2d-c6e7-97bd1f3a55c1"
      },
      "execution_count": 22,
      "outputs": [
        {
          "output_type": "display_data",
          "data": {
            "text/plain": [
              "\n",
              "Call:\n",
              "lm(formula = y ~ x1 + x2, data = df)\n",
              "\n",
              "Residuals:\n",
              "     Min       1Q   Median       3Q      Max \n",
              "-1.57190 -0.31559 -0.01763  0.30307  1.76049 \n",
              "\n",
              "Coefficients:\n",
              "            Estimate Std. Error t value Pr(>|t|)    \n",
              "(Intercept)  68.5789     3.7595  18.242  < 2e-16 ***\n",
              "x1            0.6669     0.1097   6.079 5.23e-08 ***\n",
              "x2            0.1367     0.1090   1.254    0.214    \n",
              "---\n",
              "Signif. codes:  0 ‘***’ 0.001 ‘**’ 0.01 ‘*’ 0.05 ‘.’ 0.1 ‘ ’ 1\n",
              "\n",
              "Residual standard error: 0.6066 on 72 degrees of freedom\n",
              "Multiple R-squared:  0.6015,\tAdjusted R-squared:  0.5905 \n",
              "F-statistic: 54.35 on 2 and 72 DF,  p-value: 4.11e-15\n"
            ]
          },
          "metadata": {}
        }
      ]
    },
    {
      "cell_type": "code",
      "source": [
        "sum$coefficients[,'t value']"
      ],
      "metadata": {
        "colab": {
          "base_uri": "https://localhost:8080/",
          "height": 34
        },
        "id": "a0gvR3T1mbC8",
        "outputId": "69f64481-0c73-4c0e-9974-744dab3a1b1b"
      },
      "execution_count": 34,
      "outputs": [
        {
          "output_type": "display_data",
          "data": {
            "text/html": [
              "<style>\n",
              ".dl-inline {width: auto; margin:0; padding: 0}\n",
              ".dl-inline>dt, .dl-inline>dd {float: none; width: auto; display: inline-block}\n",
              ".dl-inline>dt::after {content: \":\\0020\"; padding-right: .5ex}\n",
              ".dl-inline>dt:not(:first-of-type) {padding-left: .5ex}\n",
              "</style><dl class=dl-inline><dt>(Intercept)</dt><dd>18.241644944555</dd><dt>x1</dt><dd>6.07936778317727</dd><dt>x2</dt><dd>1.2535281309554</dd></dl>\n"
            ],
            "text/markdown": "(Intercept)\n:   18.241644944555x1\n:   6.07936778317727x2\n:   1.2535281309554\n\n",
            "text/latex": "\\begin{description*}\n\\item[(Intercept)] 18.241644944555\n\\item[x1] 6.07936778317727\n\\item[x2] 1.2535281309554\n\\end{description*}\n",
            "text/plain": [
              "(Intercept)          x1          x2 \n",
              "  18.241645    6.079368    1.253528 "
            ]
          },
          "metadata": {}
        }
      ]
    },
    {
      "cell_type": "code",
      "source": [
        "t_table_1 = qt(0.975, n - m - 1)\n",
        "print(c('t-table для проверки значимости параметров', t_table_1))"
      ],
      "metadata": {
        "colab": {
          "base_uri": "https://localhost:8080/"
        },
        "id": "x9ixr1_OiYQr",
        "outputId": "00e72bbe-927a-4121-fbcf-a433eaa2d17d"
      },
      "execution_count": 24,
      "outputs": [
        {
          "output_type": "stream",
          "name": "stdout",
          "text": [
            "[1] \"t-table для проверки значимости параметров\"\n",
            "[2] \"1.99346356666187\"                          \n"
          ]
        }
      ]
    },
    {
      "cell_type": "markdown",
      "source": [
        "Из summary(model) мы получили t значения для проверки значимости параметров, сравнив его с t-табличным можно сказать, что t(α) > t(табл) и t(β1) > t(табл), следовательно гипотеза H0 отвергается и параметры α и β1 - значимы.\n",
        "\n",
        "В отличие от них t(β2) < t(табл), следовательно для параметра β2 мы принимаем гипотезу H0 и он является незначимым"
      ],
      "metadata": {
        "id": "q6qS7Arhip2D"
      }
    },
    {
      "cell_type": "code",
      "source": [
        "#Задание 2\n",
        "cor_y_x1 = cor(df[,1], df[,2])\n",
        "cor_y_x2 = cor(df[,1], df[,3])\n",
        "cor_x1_x2 = cor(df[,2], df[,3])\n",
        "\n",
        "\n",
        "\n",
        "print(c(\"Корреляция y и x1\", cor_y_x1))\n",
        "print(c(\"Корреляция y и x2\", cor_y_x2))\n",
        "print(c(\"Корреляция x1 и x2\", cor_x1_x2))\n",
        "\n",
        "t_test1 = (cor_y_x1 ** 2 / (1 - cor_y_x1 ** 2) * (n - 2)) ** 0.5\n",
        "t_test2 = (cor_y_x2 ** 2 / (1 - cor_y_x2 ** 2) * (n - 2)) ** 0.5\n",
        "t_test12 = (cor_x1_x2 ** 2 / (1 - cor_x1_x2 ** 2) * (n - 2)) ** 0.5\n",
        "t_table_2 = qt(0.975, n - 2)\n",
        "\n",
        "print(c(\"t-test для корреляции y и x1\", t_test1))\n",
        "print(c(\"t-test для корреляции y и x2\", t_test2))\n",
        "print(c(\"t-test для корреляции x1 и x2\",t_test12))\n",
        "print(c(\"t-test табличное значение\", t_table_2))"
      ],
      "metadata": {
        "colab": {
          "base_uri": "https://localhost:8080/"
        },
        "id": "UtD71JBHb63F",
        "outputId": "723669eb-dd24-4b66-af39-cba9ea88c21b"
      },
      "execution_count": 25,
      "outputs": [
        {
          "output_type": "stream",
          "name": "stdout",
          "text": [
            "[1] \"Корреляция y и x1\" \"0.769964429574434\"\n",
            "[1] \"Корреляция y и x2\" \"0.630084249358002\"\n",
            "[1] \"Корреляция x1 и x2\" \"0.736389433539041\" \n",
            "[1] \"t-test для корреляции y и x1\" \"10.3098494847193\"            \n",
            "[1] \"t-test для корреляции y и x2\" \"6.93271929705981\"            \n",
            "[1] \"t-test для корреляции x1 и x2\" \"9.29959432684225\"             \n",
            "[1] \"t-test табличное значение\" \"1.99299712588985\"         \n"
          ]
        }
      ]
    },
    {
      "cell_type": "markdown",
      "source": [
        "Все значения t-test > t-table, слдеовательно мы отвергаем гипотезу H0 для всех значений корреляции, что означает\n",
        "\n",
        "cor_y_x1 != 0\n",
        "cor_y_x2 != 0\n",
        "cor_x1_x2 != 0"
      ],
      "metadata": {
        "id": "UqPq4zGtj6tc"
      }
    },
    {
      "cell_type": "code",
      "source": [
        "sum = summary(model)\n",
        "\n",
        "c(round(sum$r.squared, 3), round(sum$adj.r.squared, 3))"
      ],
      "metadata": {
        "colab": {
          "base_uri": "https://localhost:8080/",
          "height": 34
        },
        "id": "7QcxcuPRwi1j",
        "outputId": "e3c95a0a-8358-456e-decb-70ffedcedcfc"
      },
      "execution_count": 31,
      "outputs": [
        {
          "output_type": "display_data",
          "data": {
            "text/html": [
              "<style>\n",
              ".list-inline {list-style: none; margin:0; padding: 0}\n",
              ".list-inline>li {display: inline-block}\n",
              ".list-inline>li:not(:last-child)::after {content: \"\\00b7\"; padding: 0 .5ex}\n",
              "</style>\n",
              "<ol class=list-inline><li>0.602</li><li>0.59</li></ol>\n"
            ],
            "text/markdown": "1. 0.602\n2. 0.59\n\n\n",
            "text/latex": "\\begin{enumerate*}\n\\item 0.602\n\\item 0.59\n\\end{enumerate*}\n",
            "text/plain": [
              "[1] 0.602 0.590"
            ]
          },
          "metadata": {}
        }
      ]
    },
    {
      "cell_type": "markdown",
      "source": [
        "Значение R^2 говорит о среднем значении качества моделт"
      ],
      "metadata": {
        "id": "uhxypY88xHcP"
      }
    },
    {
      "cell_type": "code",
      "source": [
        "y_model <- predict(model)\n",
        "apr_err <- sum(abs((df[,1] - y_model) / df[,1])) / n * 100\n",
        "\n",
        "print(c('Ошибка апроксимации', round(apr_err, 3)))"
      ],
      "metadata": {
        "colab": {
          "base_uri": "https://localhost:8080/"
        },
        "id": "BiS6VGX9m4pn",
        "outputId": "885214f1-5fbf-4f35-bf40-c3f1df69828b"
      },
      "execution_count": 37,
      "outputs": [
        {
          "output_type": "stream",
          "name": "stdout",
          "text": [
            "[1] \"Ошибка апроксимации\" \"0.43\"               \n"
          ]
        }
      ]
    },
    {
      "cell_type": "code",
      "source": [
        "round(sum$fstatistic, 3)"
      ],
      "metadata": {
        "colab": {
          "base_uri": "https://localhost:8080/",
          "height": 34
        },
        "id": "arwCd-iznoDc",
        "outputId": "ebc54053-e226-4add-c18e-4980db44ec3e"
      },
      "execution_count": 40,
      "outputs": [
        {
          "output_type": "display_data",
          "data": {
            "text/html": [
              "<style>\n",
              ".dl-inline {width: auto; margin:0; padding: 0}\n",
              ".dl-inline>dt, .dl-inline>dd {float: none; width: auto; display: inline-block}\n",
              ".dl-inline>dt::after {content: \":\\0020\"; padding-right: .5ex}\n",
              ".dl-inline>dt:not(:first-of-type) {padding-left: .5ex}\n",
              "</style><dl class=dl-inline><dt>value</dt><dd>54.348</dd><dt>numdf</dt><dd>2</dd><dt>dendf</dt><dd>72</dd></dl>\n"
            ],
            "text/markdown": "value\n:   54.348numdf\n:   2dendf\n:   72\n\n",
            "text/latex": "\\begin{description*}\n\\item[value] 54.348\n\\item[numdf] 2\n\\item[dendf] 72\n\\end{description*}\n",
            "text/plain": [
              " value  numdf  dendf \n",
              "54.348  2.000 72.000 "
            ]
          },
          "metadata": {}
        }
      ]
    },
    {
      "cell_type": "code",
      "source": [
        "F_table <- qf(0.95, m, n - m - 1)\n",
        "round(F_table, 3)"
      ],
      "metadata": {
        "colab": {
          "base_uri": "https://localhost:8080/",
          "height": 34
        },
        "id": "O5WcoqgsnWUs",
        "outputId": "655c9745-c7df-4545-826e-7fef959e8fdf"
      },
      "execution_count": 41,
      "outputs": [
        {
          "output_type": "display_data",
          "data": {
            "text/html": [
              "3.124"
            ],
            "text/markdown": "3.124",
            "text/latex": "3.124",
            "text/plain": [
              "[1] 3.124"
            ]
          },
          "metadata": {}
        }
      ]
    },
    {
      "cell_type": "markdown",
      "source": [
        "F-test > F-table, следовательно мы отвеграем гипотезу H0 и модель регрессии значима"
      ],
      "metadata": {
        "id": "GNub1GeZnvYd"
      }
    },
    {
      "cell_type": "code",
      "source": [
        "sum$coefficients[2, 1]"
      ],
      "metadata": {
        "colab": {
          "base_uri": "https://localhost:8080/",
          "height": 34
        },
        "id": "DaV6ZvPPpE3f",
        "outputId": "ad516644-93ab-4d97-cd84-7f982c8786ef"
      },
      "execution_count": 51,
      "outputs": [
        {
          "output_type": "display_data",
          "data": {
            "text/html": [
              "0.666939944554183"
            ],
            "text/markdown": "0.666939944554183",
            "text/latex": "0.666939944554183",
            "text/plain": [
              "[1] 0.6669399"
            ]
          },
          "metadata": {}
        }
      ]
    },
    {
      "cell_type": "code",
      "source": [
        "elastic = sum$coefficients[2, 1] * mean(df$x1)  / mean(df$y)\n",
        "c('Эластичность x1', round(elastic, 3))\n",
        "\n",
        "delta = cor_y_x1 * sum$coefficients[2, 1] / sum$r.squared\n",
        "c('d-коэффициент x1', round(delta, 3))"
      ],
      "metadata": {
        "colab": {
          "base_uri": "https://localhost:8080/",
          "height": 52
        },
        "id": "wsWP0JiaoQkk",
        "outputId": "6a25dfbd-3f03-4d5c-8595-007f438386eb"
      },
      "execution_count": 59,
      "outputs": [
        {
          "output_type": "display_data",
          "data": {
            "text/html": [
              "<style>\n",
              ".list-inline {list-style: none; margin:0; padding: 0}\n",
              ".list-inline>li {display: inline-block}\n",
              ".list-inline>li:not(:last-child)::after {content: \"\\00b7\"; padding: 0 .5ex}\n",
              "</style>\n",
              "<ol class=list-inline><li>'Эластичность x1'</li><li>'0.31'</li></ol>\n"
            ],
            "text/markdown": "1. 'Эластичность x1'\n2. '0.31'\n\n\n",
            "text/latex": "\\begin{enumerate*}\n\\item 'Эластичность x1'\n\\item '0.31'\n\\end{enumerate*}\n",
            "text/plain": [
              "[1] \"Эластичность x1\" \"0.31\"           "
            ]
          },
          "metadata": {}
        },
        {
          "output_type": "display_data",
          "data": {
            "text/html": [
              "<style>\n",
              ".list-inline {list-style: none; margin:0; padding: 0}\n",
              ".list-inline>li {display: inline-block}\n",
              ".list-inline>li:not(:last-child)::after {content: \"\\00b7\"; padding: 0 .5ex}\n",
              "</style>\n",
              "<ol class=list-inline><li>'d-коэффициент x1'</li><li>'0.854'</li></ol>\n"
            ],
            "text/markdown": "1. 'd-коэффициент x1'\n2. '0.854'\n\n\n",
            "text/latex": "\\begin{enumerate*}\n\\item 'd-коэффициент x1'\n\\item '0.854'\n\\end{enumerate*}\n",
            "text/plain": [
              "[1] \"d-коэффициент x1\" \"0.854\"           "
            ]
          },
          "metadata": {}
        }
      ]
    },
    {
      "cell_type": "code",
      "source": [
        "elastic = sum$coefficients[3, 1] * mean(df$x2)  / mean(df$y)\n",
        "c('Эластичность x2', round(elastic, 3))\n",
        "\n",
        "delta = cor_y_x2 * sum$coefficients[3, 1] / sum$r.squared\n",
        "c('d-коэффициент x1', round(delta, 3))"
      ],
      "metadata": {
        "colab": {
          "base_uri": "https://localhost:8080/",
          "height": 52
        },
        "id": "3s2rrKxFpsPN",
        "outputId": "53aaca25-efe0-4e7c-c5bf-f3af9f6b24ae"
      },
      "execution_count": 60,
      "outputs": [
        {
          "output_type": "display_data",
          "data": {
            "text/html": [
              "<style>\n",
              ".list-inline {list-style: none; margin:0; padding: 0}\n",
              ".list-inline>li {display: inline-block}\n",
              ".list-inline>li:not(:last-child)::after {content: \"\\00b7\"; padding: 0 .5ex}\n",
              "</style>\n",
              "<ol class=list-inline><li>'Эластичность x2'</li><li>'0.035'</li></ol>\n"
            ],
            "text/markdown": "1. 'Эластичность x2'\n2. '0.035'\n\n\n",
            "text/latex": "\\begin{enumerate*}\n\\item 'Эластичность x2'\n\\item '0.035'\n\\end{enumerate*}\n",
            "text/plain": [
              "[1] \"Эластичность x2\" \"0.035\"          "
            ]
          },
          "metadata": {}
        },
        {
          "output_type": "display_data",
          "data": {
            "text/html": [
              "<style>\n",
              ".list-inline {list-style: none; margin:0; padding: 0}\n",
              ".list-inline>li {display: inline-block}\n",
              ".list-inline>li:not(:last-child)::after {content: \"\\00b7\"; padding: 0 .5ex}\n",
              "</style>\n",
              "<ol class=list-inline><li>'d-коэффициент x1'</li><li>'0.143'</li></ol>\n"
            ],
            "text/markdown": "1. 'd-коэффициент x1'\n2. '0.143'\n\n\n",
            "text/latex": "\\begin{enumerate*}\n\\item 'd-коэффициент x1'\n\\item '0.143'\n\\end{enumerate*}\n",
            "text/plain": [
              "[1] \"d-коэффициент x1\" \"0.143\"           "
            ]
          },
          "metadata": {}
        }
      ]
    },
    {
      "cell_type": "markdown",
      "source": [
        "Выбираем x1 в модель парной регрессии, так как её корреляция с y больше, чем у x2"
      ],
      "metadata": {
        "id": "6yIqH9oeqjSN"
      }
    },
    {
      "cell_type": "code",
      "source": [
        "pair_model <- lm(y ~ x1, data = df)"
      ],
      "metadata": {
        "id": "kWRjB63HqJKl"
      },
      "execution_count": 66,
      "outputs": []
    },
    {
      "cell_type": "code",
      "source": [
        "pair_sum <- summary(pair_model)\n",
        "pair_sum"
      ],
      "metadata": {
        "colab": {
          "base_uri": "https://localhost:8080/",
          "height": 329
        },
        "id": "KjqgGD3hqJNY",
        "outputId": "0bc7ad42-c8d2-4f65-c0b4-3ec32071ce76"
      },
      "execution_count": 67,
      "outputs": [
        {
          "output_type": "display_data",
          "data": {
            "text/plain": [
              "\n",
              "Call:\n",
              "lm(formula = y ~ x1, data = df)\n",
              "\n",
              "Residuals:\n",
              "     Min       1Q   Median       3Q      Max \n",
              "-1.56568 -0.28594 -0.01775  0.34804  1.74473 \n",
              "\n",
              "Coefficients:\n",
              "            Estimate Std. Error t value Pr(>|t|)    \n",
              "(Intercept) 67.31142    3.63508   18.52  < 2e-16 ***\n",
              "x1           0.76821    0.07451   10.31 6.83e-16 ***\n",
              "---\n",
              "Signif. codes:  0 ‘***’ 0.001 ‘**’ 0.01 ‘*’ 0.05 ‘.’ 0.1 ‘ ’ 1\n",
              "\n",
              "Residual standard error: 0.609 on 73 degrees of freedom\n",
              "Multiple R-squared:  0.5928,\tAdjusted R-squared:  0.5873 \n",
              "F-statistic: 106.3 on 1 and 73 DF,  p-value: 6.834e-16\n"
            ]
          },
          "metadata": {}
        }
      ]
    },
    {
      "cell_type": "code",
      "source": [
        "Rur = sum$r.squared #множественной\n",
        "Rr = pair_sum$r.squared #парной\n",
        "q = 1 #количество удаляемых факторов\n",
        "\n",
        "f = ((Rur - Rr) * (n - m)) / ((1 - Rur) * q)\n",
        "round(f, 3)\n",
        "\n",
        "ftabl = qf(0.95, 1, n - m)\n",
        "round(ftabl, 3)\n",
        "\n",
        "if (f > ftabl){\n",
        "  print('H0 отвергается, длинная круче')\n",
        "}else{\n",
        "  print('H0 принимается, короткая круче')\n",
        "}"
      ],
      "metadata": {
        "colab": {
          "base_uri": "https://localhost:8080/",
          "height": 69
        },
        "id": "7E9Xu2F0qJQG",
        "outputId": "371e56d2-bca1-44f5-93e2-739214c8cd12"
      },
      "execution_count": 70,
      "outputs": [
        {
          "output_type": "display_data",
          "data": {
            "text/html": [
              "1.593"
            ],
            "text/markdown": "1.593",
            "text/latex": "1.593",
            "text/plain": [
              "[1] 1.593"
            ]
          },
          "metadata": {}
        },
        {
          "output_type": "display_data",
          "data": {
            "text/html": [
              "3.972"
            ],
            "text/markdown": "3.972",
            "text/latex": "3.972",
            "text/plain": [
              "[1] 3.972"
            ]
          },
          "metadata": {}
        },
        {
          "output_type": "stream",
          "name": "stdout",
          "text": [
            "[1] \"H0 принимается, короткая круче\"\n"
          ]
        }
      ]
    },
    {
      "cell_type": "code",
      "source": [
        "resettest(model, power = 2:3, data = df)"
      ],
      "metadata": {
        "colab": {
          "base_uri": "https://localhost:8080/",
          "height": 104
        },
        "id": "IbVyF0a8qJSX",
        "outputId": "a64ab1ef-d8d4-4bb3-9801-6398f0eed72d"
      },
      "execution_count": 71,
      "outputs": [
        {
          "output_type": "display_data",
          "data": {
            "text/plain": [
              "\n",
              "\tRESET test\n",
              "\n",
              "data:  model\n",
              "RESET = 0.16936, df1 = 2, df2 = 70, p-value = 0.8446\n"
            ]
          },
          "metadata": {}
        }
      ]
    },
    {
      "cell_type": "markdown",
      "source": [
        "p-value для reset-теста > 0.05, значит гипотеза H0 принимается и пропущенные переменные есть"
      ],
      "metadata": {
        "id": "5J9fNjr2wYM2"
      }
    },
    {
      "cell_type": "code",
      "source": [
        "t_test_pair <- qt(0.975, n - 2)"
      ],
      "metadata": {
        "id": "qbjmDeR2seEm"
      },
      "execution_count": 75,
      "outputs": []
    },
    {
      "cell_type": "code",
      "source": [
        "new_x1 <- (pair_sum$coefficients[2, 1]  + pair_sum$coefficients[2, 2]) * 1.5\n",
        "new_x1"
      ],
      "metadata": {
        "colab": {
          "base_uri": "https://localhost:8080/",
          "height": 34
        },
        "id": "F15XanavseG8",
        "outputId": "3a67af2f-2c7d-4656-f879-ba12758a2448"
      },
      "execution_count": 74,
      "outputs": [
        {
          "output_type": "display_data",
          "data": {
            "text/html": [
              "1.26407910263779"
            ],
            "text/markdown": "1.26407910263779",
            "text/latex": "1.26407910263779",
            "text/plain": [
              "[1] 1.264079"
            ]
          },
          "metadata": {}
        }
      ]
    },
    {
      "cell_type": "code",
      "source": [
        "print(\"Доверительный интервал b1 для парной модели регрессии: \")\n",
        "c('(', round(new_x1 - pair_sum$coefficients[2, 2] * t_test_pair, 3), '<', round(new_x1, 3), '<', round(new_x1 + pair_sum$coefficients[2, 2] * t_test_pair, 3), ')')"
      ],
      "metadata": {
        "colab": {
          "base_uri": "https://localhost:8080/",
          "height": 52
        },
        "id": "RuNJKV8I3dkg",
        "outputId": "1146fd78-7ebf-4aff-afb7-c722f49b5303"
      },
      "execution_count": 83,
      "outputs": [
        {
          "output_type": "stream",
          "name": "stdout",
          "text": [
            "[1] \"Доверительный интервал b1 для парной модели регрессии: \"\n"
          ]
        },
        {
          "output_type": "display_data",
          "data": {
            "text/html": [
              "<style>\n",
              ".list-inline {list-style: none; margin:0; padding: 0}\n",
              ".list-inline>li {display: inline-block}\n",
              ".list-inline>li:not(:last-child)::after {content: \"\\00b7\"; padding: 0 .5ex}\n",
              "</style>\n",
              "<ol class=list-inline><li>'('</li><li>'1.116'</li><li>'&lt;'</li><li>'1.264'</li><li>'&lt;'</li><li>'1.413'</li><li>')'</li></ol>\n"
            ],
            "text/markdown": "1. '('\n2. '1.116'\n3. '&lt;'\n4. '1.264'\n5. '&lt;'\n6. '1.413'\n7. ')'\n\n\n",
            "text/latex": "\\begin{enumerate*}\n\\item '('\n\\item '1.116'\n\\item '<'\n\\item '1.264'\n\\item '<'\n\\item '1.413'\n\\item ')'\n\\end{enumerate*}\n",
            "text/plain": [
              "[1] \"(\"     \"1.116\" \"<\"     \"1.264\" \"<\"     \"1.413\" \")\"    "
            ]
          },
          "metadata": {}
        }
      ]
    }
  ]
}