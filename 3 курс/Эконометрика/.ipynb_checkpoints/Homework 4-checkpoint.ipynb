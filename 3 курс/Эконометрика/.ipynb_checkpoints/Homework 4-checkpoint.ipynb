{
 "cells": [
  {
   "cell_type": "code",
   "execution_count": 1,
   "id": "d637e9d9",
   "metadata": {},
   "outputs": [],
   "source": [
    "import pandas as pd\n",
    "import numpy as np\n",
    "import scipy.stats as scp"
   ]
  },
  {
   "cell_type": "code",
   "execution_count": 36,
   "id": "a2042bbb",
   "metadata": {},
   "outputs": [],
   "source": [
    "data = pd.read_csv('data_hw4.csv', sep = ';', decimal = ',', encoding = 'utf-8')\n",
    "\n",
    "data = data[['unemployment', 'GDP_growth']]"
   ]
  },
  {
   "cell_type": "code",
   "execution_count": 37,
   "id": "9cd5e50f",
   "metadata": {},
   "outputs": [
    {
     "data": {
      "text/html": [
       "<div>\n",
       "<style scoped>\n",
       "    .dataframe tbody tr th:only-of-type {\n",
       "        vertical-align: middle;\n",
       "    }\n",
       "\n",
       "    .dataframe tbody tr th {\n",
       "        vertical-align: top;\n",
       "    }\n",
       "\n",
       "    .dataframe thead th {\n",
       "        text-align: right;\n",
       "    }\n",
       "</style>\n",
       "<table border=\"1\" class=\"dataframe\">\n",
       "  <thead>\n",
       "    <tr style=\"text-align: right;\">\n",
       "      <th></th>\n",
       "      <th>unemployment</th>\n",
       "      <th>GDP_growth</th>\n",
       "    </tr>\n",
       "  </thead>\n",
       "  <tbody>\n",
       "    <tr>\n",
       "      <th>0</th>\n",
       "      <td>9.2</td>\n",
       "      <td>0.047627</td>\n",
       "    </tr>\n",
       "    <tr>\n",
       "      <th>1</th>\n",
       "      <td>8.5</td>\n",
       "      <td>0.010422</td>\n",
       "    </tr>\n",
       "    <tr>\n",
       "      <th>2</th>\n",
       "      <td>8.3</td>\n",
       "      <td>0.086439</td>\n",
       "    </tr>\n",
       "    <tr>\n",
       "      <th>3</th>\n",
       "      <td>8.5</td>\n",
       "      <td>0.230795</td>\n",
       "    </tr>\n",
       "    <tr>\n",
       "      <th>4</th>\n",
       "      <td>8.9</td>\n",
       "      <td>0.149709</td>\n",
       "    </tr>\n",
       "  </tbody>\n",
       "</table>\n",
       "</div>"
      ],
      "text/plain": [
       "   unemployment  GDP_growth\n",
       "0           9.2    0.047627\n",
       "1           8.5    0.010422\n",
       "2           8.3    0.086439\n",
       "3           8.5    0.230795\n",
       "4           8.9    0.149709"
      ]
     },
     "execution_count": 37,
     "metadata": {},
     "output_type": "execute_result"
    }
   ],
   "source": [
    "data.head()"
   ]
  },
  {
   "cell_type": "code",
   "execution_count": 60,
   "id": "ead30e67",
   "metadata": {},
   "outputs": [
    {
     "data": {
      "text/plain": [
       "<AxesSubplot: xlabel='unemployment', ylabel='GDP_growth'>"
      ]
     },
     "execution_count": 60,
     "metadata": {},
     "output_type": "execute_result"
    },
    {
     "data": {
      "image/png": "[encoded data removed]",
      "text/plain": [
       "<Figure size 600x400 with 1 Axes>"
      ]
     },
     "metadata": {},
     "output_type": "display_data"
    }
   ],
   "source": [
    "data.plot.scatter(x = 'unemployment', y = 'GDP_growth', figsize = (6, 4))"
   ]
  },
  {
   "cell_type": "code",
   "execution_count": 40,
   "id": "d35819aa",
   "metadata": {},
   "outputs": [
    {
     "data": {
      "text/plain": [
       "-0.478730766079507"
      ]
     },
     "execution_count": 40,
     "metadata": {},
     "output_type": "execute_result"
    }
   ],
   "source": [
    "corr = data.corr().values[0, 1]\n",
    "corr"
   ]
  },
  {
   "cell_type": "markdown",
   "id": "3ec02119",
   "metadata": {},
   "source": [
    "Значение корреляции принимает отрицательное значение"
   ]
  },
  {
   "cell_type": "code",
   "execution_count": 67,
   "id": "7f4d8827",
   "metadata": {},
   "outputs": [
    {
     "name": "stdout",
     "output_type": "stream",
     "text": [
      "Coefficients:  [[-0.05880882]]\n",
      "Variance score:  -0.34832319161660186\n",
      "[[ 0.06267134]\n",
      " [-0.03142277]\n",
      " [ 0.05679045]\n",
      " [-0.04906542]\n",
      " [ 0.02738605]]\n",
      "[[-0.021364]\n",
      " [ 0.013576]\n",
      " [ 0.230795]\n",
      " [ 0.047356]\n",
      " [ 0.07752 ]]\n"
     ]
    }
   ],
   "source": [
    "from sklearn.model_selection import train_test_split\n",
    "from sklearn import datasets, linear_model, metrics\n",
    "\n",
    "x_train, x_test, y_train, y_test = train_test_split(data[['unemployment']].values, \n",
    "                                                    data[['GDP_growth']].values, \n",
    "                                                    test_size = 0.2,\n",
    "                                                    random_state = 1)\n",
    "  \n",
    "# create linear regression object\n",
    "reg = linear_model.LinearRegression()\n",
    "  \n",
    "# train the model using the training sets\n",
    "reg.fit(x_train, y_train)\n",
    "  \n",
    "# regression coefficients\n",
    "print('Coefficients: ', reg.coef_)\n",
    "print('Variance score: ', reg.score(x_test, y_test))\n",
    "\n",
    "\n",
    "result = reg.predict(x_test)\n",
    "print(result)\n",
    "print(y_test)"
   ]
  },
  {
   "cell_type": "code",
   "execution_count": 51,
   "id": "cf714492",
   "metadata": {},
   "outputs": [
    {
     "data": {
      "text/plain": [
       "ShapiroResult(statistic=0.9652262926101685, pvalue=0.6014244556427002)"
      ]
     },
     "execution_count": 51,
     "metadata": {},
     "output_type": "execute_result"
    }
   ],
   "source": [
    "scp.shapiro(data[['unemployment']].values)"
   ]
  },
  {
   "cell_type": "code",
   "execution_count": 52,
   "id": "7b6f5016",
   "metadata": {},
   "outputs": [
    {
     "data": {
      "text/plain": [
       "ShapiroResult(statistic=0.9907671213150024, pvalue=0.9983901381492615)"
      ]
     },
     "execution_count": 52,
     "metadata": {},
     "output_type": "execute_result"
    }
   ],
   "source": [
    "scp.shapiro(data[['GDP_growth']].values)"
   ]
  },
  {
   "cell_type": "code",
   "execution_count": 53,
   "id": "53eb948e",
   "metadata": {},
   "outputs": [
    {
     "data": {
      "text/plain": [
       "Jarque_beraResult(statistic=0.6823816593102153, pvalue=0.7109232300263173)"
      ]
     },
     "execution_count": 53,
     "metadata": {},
     "output_type": "execute_result"
    }
   ],
   "source": [
    "scp.jarque_bera(data[['unemployment']].values)"
   ]
  },
  {
   "cell_type": "code",
   "execution_count": 54,
   "id": "4d5e1ece",
   "metadata": {},
   "outputs": [
    {
     "data": {
      "text/plain": [
       "Jarque_beraResult(statistic=0.022352222344902712, pvalue=0.9888861095470721)"
      ]
     },
     "execution_count": 54,
     "metadata": {},
     "output_type": "execute_result"
    }
   ],
   "source": [
    "scp.jarque_bera(data[['GDP_growth']].values)"
   ]
  },
  {
   "cell_type": "code",
   "execution_count": 55,
   "id": "8b9209d0",
   "metadata": {},
   "outputs": [
    {
     "data": {
      "text/plain": [
       "Power_divergenceResult(statistic=array([1.57860395]), pvalue=array([1.]))"
      ]
     },
     "execution_count": 55,
     "metadata": {},
     "output_type": "execute_result"
    }
   ],
   "source": [
    "scp.chisquare(data[['unemployment']].values)"
   ]
  },
  {
   "cell_type": "code",
   "execution_count": 56,
   "id": "5531b73e",
   "metadata": {},
   "outputs": [
    {
     "data": {
      "text/plain": [
       "Power_divergenceResult(statistic=array([3.64227177]), pvalue=array([0.99999127]))"
      ]
     },
     "execution_count": 56,
     "metadata": {},
     "output_type": "execute_result"
    }
   ],
   "source": [
    "scp.chisquare(data[['GDP_growth']].values)"
   ]
  },
  {
   "cell_type": "code",
   "execution_count": null,
   "id": "fd83a719",
   "metadata": {},
   "outputs": [],
   "source": []
  }
 ],
 "metadata": {
  "kernelspec": {
   "display_name": "Python 3 (ipykernel)",
   "language": "python",
   "name": "python3"
  },
  "language_info": {
   "codemirror_mode": {
    "name": "ipython",
    "version": 3
   },
   "file_extension": ".py",
   "mimetype": "text/x-python",
   "name": "python",
   "nbconvert_exporter": "python",
   "pygments_lexer": "ipython3",
   "version": "3.8.13"
  }
 },
 "nbformat": 4,
 "nbformat_minor": 5
}
