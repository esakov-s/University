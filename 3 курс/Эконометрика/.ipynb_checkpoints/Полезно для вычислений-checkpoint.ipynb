{
 "cells": [
  {
   "cell_type": "code",
   "execution_count": null,
   "metadata": {},
   "outputs": [],
   "source": [
    "import scipy.stats\n"
   ]
  },
  {
   "cell_type": "code",
   "execution_count": null,
   "metadata": {},
   "outputs": [],
   "source": [
    "#F-test\n",
    "\n",
    "scipy.stats.f.ppf(q = 1 - 0.05, dfn = 13, dfd = 1)  #dfn = n - k - 1;  dfd = k; q - двусторонний интвервал для a = 0.05"
   ]
  },
  {
   "cell_type": "code",
   "execution_count": null,
   "metadata": {},
   "outputs": [],
   "source": [
    "#T-test\n",
    "\n",
    "scipy.stats.t.ppf(0.975, 13)   # q - двусторонний интвервал для a = 0.05 второй параметр - n - k - 1"
   ]
  }
 ],
 "metadata": {
  "kernelspec": {
   "display_name": "Python 3",
   "language": "python",
   "name": "python3"
  },
  "language_info": {
   "codemirror_mode": {
    "name": "ipython",
    "version": 3
   },
   "file_extension": ".py",
   "mimetype": "text/x-python",
   "name": "python",
   "nbconvert_exporter": "python",
   "pygments_lexer": "ipython3",
   "version": "3.8.3"
  }
 },
 "nbformat": 4,
 "nbformat_minor": 4
}
