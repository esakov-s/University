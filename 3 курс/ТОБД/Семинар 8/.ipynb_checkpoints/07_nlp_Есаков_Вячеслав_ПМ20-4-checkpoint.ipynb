{
 "cells": [
  {
   "cell_type": "markdown",
   "metadata": {},
   "source": [
    "# Введение в обработку текста на естественном языке"
   ]
  },
  {
   "cell_type": "markdown",
   "metadata": {},
   "source": [
    "__Автор задач: Блохин Н.В. (NVBlokhin@fa.ru)__\n",
    "\n",
    "Материалы:\n",
    "* Макрушин С.В. Лекция \"Введение в обработку текста на естественном языке\"\n",
    "* https://www.nltk.org/api/nltk.metrics.distance.html\n",
    "* https://pymorphy2.readthedocs.io/en/stable/user/guide.html\n",
    "* https://realpython.com/nltk-nlp-python/\n",
    "* https://scikit-learn.org/stable/modules/feature_extraction.html"
   ]
  },
  {
   "cell_type": "markdown",
   "metadata": {},
   "source": [
    "## Задачи для совместного разбора"
   ]
  },
  {
   "cell_type": "code",
   "execution_count": 234,
   "metadata": {},
   "outputs": [],
   "source": [
    "import nltk\n",
    "from nltk.stem import SnowballStemmer\n",
    "from nltk import word_tokenize\n",
    "from nltk import edit_distance\n",
    "from nltk import sent_tokenize\n",
    "from nltk.corpus import stopwords\n",
    "from nltk.stem.wordnet import WordNetLemmatizer\n",
    "from nltk.probability import FreqDist\n",
    "\n",
    "from scipy.spatial.distance import cosine\n",
    "\n",
    "import pymorphy2\n",
    "\n",
    "from sklearn.feature_extraction.text import CountVectorizer\n",
    "from sklearn.feature_extraction.text import TfidfVectorizer\n",
    "\n",
    "import numpy as np\n",
    "import pandas as pd\n",
    "import time\n",
    "import re"
   ]
  },
  {
   "cell_type": "code",
   "execution_count": 235,
   "metadata": {},
   "outputs": [
    {
     "name": "stdout",
     "output_type": "stream",
     "text": [
      "Requirement already satisfied: sklearn in c:\\python\\envs\\python_new\\lib\\site-packages (0.0)\n",
      "Requirement already satisfied: scikit-learn in c:\\python\\envs\\python_new\\lib\\site-packages (from sklearn) (1.1.2)\n",
      "Requirement already satisfied: numpy>=1.17.3 in c:\\python\\envs\\python_new\\lib\\site-packages (from scikit-learn->sklearn) (1.23.3)\n",
      "Requirement already satisfied: scipy>=1.3.2 in c:\\python\\envs\\python_new\\lib\\site-packages (from scikit-learn->sklearn) (1.9.3)\n",
      "Requirement already satisfied: threadpoolctl>=2.0.0 in c:\\python\\envs\\python_new\\lib\\site-packages (from scikit-learn->sklearn) (3.1.0)\n",
      "Requirement already satisfied: joblib>=1.0.0 in c:\\python\\envs\\python_new\\lib\\site-packages (from scikit-learn->sklearn) (1.2.0)\n",
      "Note: you may need to restart the kernel to use updated packages.\n"
     ]
    }
   ],
   "source": [
    "pip install sklearn"
   ]
  },
  {
   "cell_type": "code",
   "execution_count": 236,
   "metadata": {},
   "outputs": [
    {
     "name": "stdout",
     "output_type": "stream",
     "text": [
      "Requirement already satisfied: pymorphy2 in c:\\python\\envs\\python_new\\lib\\site-packages (0.9.1)\n",
      "Requirement already satisfied: docopt>=0.6 in c:\\python\\envs\\python_new\\lib\\site-packages (from pymorphy2) (0.6.2)\n",
      "Requirement already satisfied: dawg-python>=0.7.1 in c:\\python\\envs\\python_new\\lib\\site-packages (from pymorphy2) (0.7.2)\n",
      "Requirement already satisfied: pymorphy2-dicts-ru<3.0,>=2.4 in c:\\python\\envs\\python_new\\lib\\site-packages (from pymorphy2) (2.4.417127.4579844)\n"
     ]
    }
   ],
   "source": [
    "!pip install pymorphy2"
   ]
  },
  {
   "cell_type": "code",
   "execution_count": 237,
   "metadata": {},
   "outputs": [
    {
     "name": "stderr",
     "output_type": "stream",
     "text": [
      "[nltk_data] Downloading package punkt to\n",
      "[nltk_data]     C:\\Users\\Вячеслав\\AppData\\Roaming\\nltk_data...\n",
      "[nltk_data]   Package punkt is already up-to-date!\n",
      "[nltk_data] Downloading package wordnet to\n",
      "[nltk_data]     C:\\Users\\Вячеслав\\AppData\\Roaming\\nltk_data...\n",
      "[nltk_data]   Package wordnet is already up-to-date!\n",
      "[nltk_data] Downloading package omw-1.4 to\n",
      "[nltk_data]     C:\\Users\\Вячеслав\\AppData\\Roaming\\nltk_data...\n",
      "[nltk_data]   Package omw-1.4 is already up-to-date!\n",
      "[nltk_data] Downloading package stopwords to\n",
      "[nltk_data]     C:\\Users\\Вячеслав\\AppData\\Roaming\\nltk_data...\n",
      "[nltk_data]   Package stopwords is already up-to-date!\n"
     ]
    },
    {
     "data": {
      "text/plain": [
       "True"
      ]
     },
     "execution_count": 237,
     "metadata": {},
     "output_type": "execute_result"
    }
   ],
   "source": [
    "nltk.download('punkt')\n",
    "nltk.download('wordnet')\n",
    "nltk.download('omw-1.4')\n",
    "nltk.download('stopwords')"
   ]
  },
  {
   "cell_type": "markdown",
   "metadata": {},
   "source": [
    "1. Считайте слова из файла `litw-win.txt` и запишите их в список `words`. При помощи расстояния Левенштейна иправьте опечатку в слове \"велечайшим\"."
   ]
  },
  {
   "cell_type": "code",
   "execution_count": 238,
   "metadata": {},
   "outputs": [
    {
     "name": "stdout",
     "output_type": "stream",
     "text": [
      "['в', 'с', 'к', 'о', 'п', 'б', 'д', 'ч', 'г', 'р', 'л', 'ш', 'ц', 'й', 'ы', 'ь', 'на', 'то', 'же', 'по']\n"
     ]
    }
   ],
   "source": [
    "with open('litw-win.txt', 'r') as read_file:\n",
    "    words = []\n",
    "    for row in read_file:\n",
    "        words.append(read_file.readline().split()[-1])\n",
    "print(words[:20])"
   ]
  },
  {
   "cell_type": "code",
   "execution_count": 239,
   "metadata": {},
   "outputs": [
    {
     "name": "stdout",
     "output_type": "stream",
     "text": [
      "1 величайшим\n"
     ]
    }
   ],
   "source": [
    "closest = ''\n",
    "dist = 11\n",
    "for cur in words:\n",
    "    if edit_distance('велечайшим', cur) < dist:\n",
    "        closest = cur\n",
    "        dist = edit_distance('велечайшим', cur)\n",
    "        \n",
    "print(dist, closest)"
   ]
  },
  {
   "cell_type": "markdown",
   "metadata": {},
   "source": [
    "2. Разбейте текст из формулировки второго задания на слова. Проведите стемминг и лемматизацию слов."
   ]
  },
  {
   "cell_type": "code",
   "execution_count": 240,
   "metadata": {},
   "outputs": [
    {
     "data": {
      "text/plain": [
       "['Разбейте',\n",
       " 'текст',\n",
       " 'из',\n",
       " 'формулировки',\n",
       " 'второго',\n",
       " 'задания',\n",
       " 'на',\n",
       " 'слова',\n",
       " 'Проведите',\n",
       " 'стемминг',\n",
       " 'и',\n",
       " 'лемматизацию',\n",
       " 'слов']"
      ]
     },
     "execution_count": 240,
     "metadata": {},
     "output_type": "execute_result"
    }
   ],
   "source": [
    "text = '''Разбейте текст из формулировки второго задания на слова. Проведите стемминг и лемматизацию слов.'''\n",
    "\n",
    "patt = nltk.tokenize.RegexpTokenizer(r\"[а-яА-Я]+\")\n",
    "res = patt.tokenize(text)\n",
    "\n",
    "res"
   ]
  },
  {
   "cell_type": "code",
   "execution_count": 241,
   "metadata": {},
   "outputs": [
    {
     "data": {
      "text/plain": [
       "['разб',\n",
       " 'текст',\n",
       " 'из',\n",
       " 'формулировк',\n",
       " 'втор',\n",
       " 'задан',\n",
       " 'на',\n",
       " 'слов',\n",
       " 'провед',\n",
       " 'стемминг',\n",
       " 'и',\n",
       " 'лемматизац',\n",
       " 'слов']"
      ]
     },
     "execution_count": 241,
     "metadata": {},
     "output_type": "execute_result"
    }
   ],
   "source": [
    "stemer = SnowballStemmer('russian')\n",
    "stem_res = [stemer.stem(word) for word in res]\n",
    "\n",
    "stem_res"
   ]
  },
  {
   "cell_type": "code",
   "execution_count": 242,
   "metadata": {},
   "outputs": [
    {
     "name": "stdout",
     "output_type": "stream",
     "text": [
      "разбить\n",
      "текст\n",
      "из\n",
      "формулировка\n",
      "второй\n",
      "задание\n",
      "на\n",
      "слово\n",
      "провести\n",
      "стемминг\n",
      "и\n",
      "лемматизация\n",
      "слово\n"
     ]
    }
   ],
   "source": [
    "morph = pymorphy2.MorphAnalyzer()\n",
    "\n",
    "for word in res:\n",
    "    p = morph.parse(word)[0]\n",
    "    print(p.normal_form)"
   ]
  },
  {
   "cell_type": "markdown",
   "metadata": {},
   "source": [
    "3. Преобразуйте предложения из формулировки задания 2 в векторы при помощи `CountVectorizer`. Выведите на экран словарь обученного токенизатора."
   ]
  },
  {
   "cell_type": "code",
   "execution_count": 243,
   "metadata": {},
   "outputs": [
    {
     "data": {
      "text/plain": [
       "array(['второго', 'задания', 'из', 'лемматизацию', 'на', 'проведите',\n",
       "       'разбейте', 'слов', 'слова', 'стемминг', 'текст', 'формулировки'],\n",
       "      dtype=object)"
      ]
     },
     "execution_count": 243,
     "metadata": {},
     "output_type": "execute_result"
    }
   ],
   "source": [
    "text = '''Разбейте текст из формулировки второго задания на слова. Проведите стемминг и лемматизацию слов.'''\n",
    "#text_1 = nltk.set_transform(text)\n",
    "\n",
    "vectorizer = CountVectorizer()\n",
    "X = vectorizer.fit_transform(res)\n",
    "\n",
    "vectorizer.get_feature_names_out()\n",
    "\n"
   ]
  },
  {
   "cell_type": "code",
   "execution_count": 244,
   "metadata": {},
   "outputs": [
    {
     "name": "stdout",
     "output_type": "stream",
     "text": [
      "[[0 0 0 0 0 0 1 0 0 0 0 0]\n",
      " [0 0 0 0 0 0 0 0 0 0 1 0]\n",
      " [0 0 1 0 0 0 0 0 0 0 0 0]\n",
      " [0 0 0 0 0 0 0 0 0 0 0 1]\n",
      " [1 0 0 0 0 0 0 0 0 0 0 0]\n",
      " [0 1 0 0 0 0 0 0 0 0 0 0]\n",
      " [0 0 0 0 1 0 0 0 0 0 0 0]\n",
      " [0 0 0 0 0 0 0 0 1 0 0 0]\n",
      " [0 0 0 0 0 1 0 0 0 0 0 0]\n",
      " [0 0 0 0 0 0 0 0 0 1 0 0]\n",
      " [0 0 0 0 0 0 0 0 0 0 0 0]\n",
      " [0 0 0 1 0 0 0 0 0 0 0 0]\n",
      " [0 0 0 0 0 0 0 1 0 0 0 0]]\n"
     ]
    }
   ],
   "source": [
    "print(X.toarray())"
   ]
  },
  {
   "cell_type": "markdown",
   "metadata": {},
   "source": [
    "## Лабораторная работа 7"
   ]
  },
  {
   "cell_type": "markdown",
   "metadata": {},
   "source": [
    "1\\. Загрузите данные из файла `ru_recipes_sample.csv` в виде `pd.DataFrame` `recipes` Используя регулярные выражения, удалите из описаний (столбец `description`) все символы, кроме русских букв, цифр и пробелов. Приведите все слова в описании к нижнему регистру. Сохраните полученный результат в столбец `description`."
   ]
  },
  {
   "cell_type": "code",
   "execution_count": 245,
   "metadata": {},
   "outputs": [
    {
     "data": {
      "text/html": [
       "<div>\n",
       "<style scoped>\n",
       "    .dataframe tbody tr th:only-of-type {\n",
       "        vertical-align: middle;\n",
       "    }\n",
       "\n",
       "    .dataframe tbody tr th {\n",
       "        vertical-align: top;\n",
       "    }\n",
       "\n",
       "    .dataframe thead th {\n",
       "        text-align: right;\n",
       "    }\n",
       "</style>\n",
       "<table border=\"1\" class=\"dataframe\">\n",
       "  <thead>\n",
       "    <tr style=\"text-align: right;\">\n",
       "      <th></th>\n",
       "      <th>url</th>\n",
       "      <th>name</th>\n",
       "      <th>ingredients</th>\n",
       "      <th>description</th>\n",
       "    </tr>\n",
       "  </thead>\n",
       "  <tbody>\n",
       "    <tr>\n",
       "      <th>0</th>\n",
       "      <td>https://www.povarenok.ru/recipes/show/164365/</td>\n",
       "      <td>Густой молочно-клубничный коктейль</td>\n",
       "      <td>{'Молоко': '250 мл', 'Клубника': '200 г', 'Сах...</td>\n",
       "      <td>Этот коктейль готовлю из замороженной клубники...</td>\n",
       "    </tr>\n",
       "    <tr>\n",
       "      <th>1</th>\n",
       "      <td>https://www.povarenok.ru/recipes/show/1306/</td>\n",
       "      <td>Рулетики</td>\n",
       "      <td>{'Сыр твердый': None, 'Чеснок': None, 'Яйцо ку...</td>\n",
       "      <td>Быстро и вкусно.</td>\n",
       "    </tr>\n",
       "    <tr>\n",
       "      <th>2</th>\n",
       "      <td>https://www.povarenok.ru/recipes/show/10625/</td>\n",
       "      <td>Салат \"Баклажанчик\"</td>\n",
       "      <td>{'Баклажан': '3 шт', 'Лук репчатый': '2 шт', '...</td>\n",
       "      <td>Сытный, овощной салатик, пальчики оближете.</td>\n",
       "    </tr>\n",
       "    <tr>\n",
       "      <th>3</th>\n",
       "      <td>https://www.povarenok.ru/recipes/show/167337/</td>\n",
       "      <td>Куриные котлеты с картофельным пюре в духовке</td>\n",
       "      <td>{'Фарш куриный': '800 г', 'Пюре картофельное':...</td>\n",
       "      <td>Картофельное пюре и куриные котлеты - вкусная ...</td>\n",
       "    </tr>\n",
       "    <tr>\n",
       "      <th>4</th>\n",
       "      <td>https://www.povarenok.ru/recipes/show/91919/</td>\n",
       "      <td>Рецепт вишневой наливки</td>\n",
       "      <td>{'Вишня': '1 кг', 'Водка': '1 л', 'Сахар': '30...</td>\n",
       "      <td>Вишневая наливка имеет яркий вишневый вкус, ко...</td>\n",
       "    </tr>\n",
       "    <tr>\n",
       "      <th>...</th>\n",
       "      <td>...</td>\n",
       "      <td>...</td>\n",
       "      <td>...</td>\n",
       "      <td>...</td>\n",
       "    </tr>\n",
       "    <tr>\n",
       "      <th>3462</th>\n",
       "      <td>https://www.povarenok.ru/recipes/show/54574/</td>\n",
       "      <td>Мшош</td>\n",
       "      <td>{'Чечевица': '1 стак.', 'Лук репчатый': '2 шт'...</td>\n",
       "      <td>Для тех, кто любит чечевицу... Вам сюда! Очень...</td>\n",
       "    </tr>\n",
       "    <tr>\n",
       "      <th>3463</th>\n",
       "      <td>https://www.povarenok.ru/recipes/show/113494/</td>\n",
       "      <td>Мясные треугольники с баклажаном</td>\n",
       "      <td>{'Фарш мясной': '400 г', 'Баклажан': '1 шт', '...</td>\n",
       "      <td>Баклажановые фантазии продолжаются! Предлагаю ...</td>\n",
       "    </tr>\n",
       "    <tr>\n",
       "      <th>3464</th>\n",
       "      <td>https://www.povarenok.ru/recipes/show/83228/</td>\n",
       "      <td>\"Болоньез\" по-новому</td>\n",
       "      <td>{'Фарш мясной': '400 г', 'Томаты в собственном...</td>\n",
       "      <td>Мое любимое блюдо лазанья. Но кушать только фа...</td>\n",
       "    </tr>\n",
       "    <tr>\n",
       "      <th>3465</th>\n",
       "      <td>https://www.povarenok.ru/recipes/show/172238/</td>\n",
       "      <td>Варенье из одуванчиков с апельсинами</td>\n",
       "      <td>{'Цветки': '400 г', 'Сахар': '1300 г', 'Апельс...</td>\n",
       "      <td>Прошлым летом варила варенье из одуванчиков по...</td>\n",
       "    </tr>\n",
       "    <tr>\n",
       "      <th>3466</th>\n",
       "      <td>https://www.povarenok.ru/recipes/show/52794/</td>\n",
       "      <td>Три корочки хлеба под соусом болоньез для Пино...</td>\n",
       "      <td>{'Хлеб': '3 шт', 'Фарш мясной': '200-250 г', '...</td>\n",
       "      <td>- И три корочки хлеба! - сделал заказ Буратино...</td>\n",
       "    </tr>\n",
       "  </tbody>\n",
       "</table>\n",
       "<p>3467 rows × 4 columns</p>\n",
       "</div>"
      ],
      "text/plain": [
       "                                                url  \\\n",
       "0     https://www.povarenok.ru/recipes/show/164365/   \n",
       "1       https://www.povarenok.ru/recipes/show/1306/   \n",
       "2      https://www.povarenok.ru/recipes/show/10625/   \n",
       "3     https://www.povarenok.ru/recipes/show/167337/   \n",
       "4      https://www.povarenok.ru/recipes/show/91919/   \n",
       "...                                             ...   \n",
       "3462   https://www.povarenok.ru/recipes/show/54574/   \n",
       "3463  https://www.povarenok.ru/recipes/show/113494/   \n",
       "3464   https://www.povarenok.ru/recipes/show/83228/   \n",
       "3465  https://www.povarenok.ru/recipes/show/172238/   \n",
       "3466   https://www.povarenok.ru/recipes/show/52794/   \n",
       "\n",
       "                                                   name  \\\n",
       "0                    Густой молочно-клубничный коктейль   \n",
       "1                                              Рулетики   \n",
       "2                                   Салат \"Баклажанчик\"   \n",
       "3         Куриные котлеты с картофельным пюре в духовке   \n",
       "4                               Рецепт вишневой наливки   \n",
       "...                                                 ...   \n",
       "3462                                               Мшош   \n",
       "3463                   Мясные треугольники с баклажаном   \n",
       "3464                               \"Болоньез\" по-новому   \n",
       "3465               Варенье из одуванчиков с апельсинами   \n",
       "3466  Три корочки хлеба под соусом болоньез для Пино...   \n",
       "\n",
       "                                            ingredients  \\\n",
       "0     {'Молоко': '250 мл', 'Клубника': '200 г', 'Сах...   \n",
       "1     {'Сыр твердый': None, 'Чеснок': None, 'Яйцо ку...   \n",
       "2     {'Баклажан': '3 шт', 'Лук репчатый': '2 шт', '...   \n",
       "3     {'Фарш куриный': '800 г', 'Пюре картофельное':...   \n",
       "4     {'Вишня': '1 кг', 'Водка': '1 л', 'Сахар': '30...   \n",
       "...                                                 ...   \n",
       "3462  {'Чечевица': '1 стак.', 'Лук репчатый': '2 шт'...   \n",
       "3463  {'Фарш мясной': '400 г', 'Баклажан': '1 шт', '...   \n",
       "3464  {'Фарш мясной': '400 г', 'Томаты в собственном...   \n",
       "3465  {'Цветки': '400 г', 'Сахар': '1300 г', 'Апельс...   \n",
       "3466  {'Хлеб': '3 шт', 'Фарш мясной': '200-250 г', '...   \n",
       "\n",
       "                                            description  \n",
       "0     Этот коктейль готовлю из замороженной клубники...  \n",
       "1                                      Быстро и вкусно.  \n",
       "2           Сытный, овощной салатик, пальчики оближете.  \n",
       "3     Картофельное пюре и куриные котлеты - вкусная ...  \n",
       "4     Вишневая наливка имеет яркий вишневый вкус, ко...  \n",
       "...                                                 ...  \n",
       "3462  Для тех, кто любит чечевицу... Вам сюда! Очень...  \n",
       "3463  Баклажановые фантазии продолжаются! Предлагаю ...  \n",
       "3464  Мое любимое блюдо лазанья. Но кушать только фа...  \n",
       "3465  Прошлым летом варила варенье из одуванчиков по...  \n",
       "3466  - И три корочки хлеба! - сделал заказ Буратино...  \n",
       "\n",
       "[3467 rows x 4 columns]"
      ]
     },
     "execution_count": 245,
     "metadata": {},
     "output_type": "execute_result"
    }
   ],
   "source": [
    "recipes = pd.read_csv('ru_recipes_sample.csv')\n",
    "recipes"
   ]
  },
  {
   "cell_type": "code",
   "execution_count": 246,
   "metadata": {},
   "outputs": [
    {
     "data": {
      "text/html": [
       "<div>\n",
       "<style scoped>\n",
       "    .dataframe tbody tr th:only-of-type {\n",
       "        vertical-align: middle;\n",
       "    }\n",
       "\n",
       "    .dataframe tbody tr th {\n",
       "        vertical-align: top;\n",
       "    }\n",
       "\n",
       "    .dataframe thead th {\n",
       "        text-align: right;\n",
       "    }\n",
       "</style>\n",
       "<table border=\"1\" class=\"dataframe\">\n",
       "  <thead>\n",
       "    <tr style=\"text-align: right;\">\n",
       "      <th></th>\n",
       "      <th>url</th>\n",
       "      <th>name</th>\n",
       "      <th>ingredients</th>\n",
       "      <th>description</th>\n",
       "    </tr>\n",
       "  </thead>\n",
       "  <tbody>\n",
       "    <tr>\n",
       "      <th>0</th>\n",
       "      <td>https://www.povarenok.ru/recipes/show/164365/</td>\n",
       "      <td>Густой молочно-клубничный коктейль</td>\n",
       "      <td>{'Молоко': '250 мл', 'Клубника': '200 г', 'Сах...</td>\n",
       "      <td>этот коктейль готовлю из замороженной клубники...</td>\n",
       "    </tr>\n",
       "    <tr>\n",
       "      <th>1</th>\n",
       "      <td>https://www.povarenok.ru/recipes/show/1306/</td>\n",
       "      <td>Рулетики</td>\n",
       "      <td>{'Сыр твердый': None, 'Чеснок': None, 'Яйцо ку...</td>\n",
       "      <td>быстро и вкусно</td>\n",
       "    </tr>\n",
       "    <tr>\n",
       "      <th>2</th>\n",
       "      <td>https://www.povarenok.ru/recipes/show/10625/</td>\n",
       "      <td>Салат \"Баклажанчик\"</td>\n",
       "      <td>{'Баклажан': '3 шт', 'Лук репчатый': '2 шт', '...</td>\n",
       "      <td>сытный овощной салатик пальчики оближете</td>\n",
       "    </tr>\n",
       "    <tr>\n",
       "      <th>3</th>\n",
       "      <td>https://www.povarenok.ru/recipes/show/167337/</td>\n",
       "      <td>Куриные котлеты с картофельным пюре в духовке</td>\n",
       "      <td>{'Фарш куриный': '800 г', 'Пюре картофельное':...</td>\n",
       "      <td>картофельное пюре и куриные котлеты  вкусная к...</td>\n",
       "    </tr>\n",
       "    <tr>\n",
       "      <th>4</th>\n",
       "      <td>https://www.povarenok.ru/recipes/show/91919/</td>\n",
       "      <td>Рецепт вишневой наливки</td>\n",
       "      <td>{'Вишня': '1 кг', 'Водка': '1 л', 'Сахар': '30...</td>\n",
       "      <td>вишневая наливка имеет яркий вишневый вкус кот...</td>\n",
       "    </tr>\n",
       "  </tbody>\n",
       "</table>\n",
       "</div>"
      ],
      "text/plain": [
       "                                             url  \\\n",
       "0  https://www.povarenok.ru/recipes/show/164365/   \n",
       "1    https://www.povarenok.ru/recipes/show/1306/   \n",
       "2   https://www.povarenok.ru/recipes/show/10625/   \n",
       "3  https://www.povarenok.ru/recipes/show/167337/   \n",
       "4   https://www.povarenok.ru/recipes/show/91919/   \n",
       "\n",
       "                                            name  \\\n",
       "0             Густой молочно-клубничный коктейль   \n",
       "1                                       Рулетики   \n",
       "2                            Салат \"Баклажанчик\"   \n",
       "3  Куриные котлеты с картофельным пюре в духовке   \n",
       "4                        Рецепт вишневой наливки   \n",
       "\n",
       "                                         ingredients  \\\n",
       "0  {'Молоко': '250 мл', 'Клубника': '200 г', 'Сах...   \n",
       "1  {'Сыр твердый': None, 'Чеснок': None, 'Яйцо ку...   \n",
       "2  {'Баклажан': '3 шт', 'Лук репчатый': '2 шт', '...   \n",
       "3  {'Фарш куриный': '800 г', 'Пюре картофельное':...   \n",
       "4  {'Вишня': '1 кг', 'Водка': '1 л', 'Сахар': '30...   \n",
       "\n",
       "                                         description  \n",
       "0  этот коктейль готовлю из замороженной клубники...  \n",
       "1                                    быстро и вкусно  \n",
       "2           сытный овощной салатик пальчики оближете  \n",
       "3  картофельное пюре и куриные котлеты  вкусная к...  \n",
       "4  вишневая наливка имеет яркий вишневый вкус кот...  "
      ]
     },
     "execution_count": 246,
     "metadata": {},
     "output_type": "execute_result"
    }
   ],
   "source": [
    "recipes['description'] = recipes['description'].apply(lambda x : re.sub('[^а-яА-ЯёЁ0-9\\s]+', '', x)).str.lower()\n",
    "\n",
    "recipes.head()"
   ]
  },
  {
   "cell_type": "markdown",
   "metadata": {},
   "source": [
    "### Расстояние редактирования"
   ]
  },
  {
   "cell_type": "markdown",
   "metadata": {},
   "source": [
    "2\\. Получите набор уникальных слов `words`, содержащихся в текстах описаний рецептов (воспользуйтесь `word_tokenize` из `nltk`). Сгенерируйте 5 пар случайно выбранных слов и посчитайте между ними расстояние Левенштейна. Выведите на экран результат в следующем виде:\n",
    "\n",
    "```\n",
    "d(word1, word2) = x\n",
    "```"
   ]
  },
  {
   "cell_type": "code",
   "execution_count": 247,
   "metadata": {},
   "outputs": [
    {
     "data": {
      "text/plain": [
       "0       [этот, коктейль, готовлю, из, замороженной, кл...\n",
       "1                                     [быстро, и, вкусно]\n",
       "2          [сытный, овощной, салатик, пальчики, оближете]\n",
       "3       [картофельное, пюре, и, куриные, котлеты, вкус...\n",
       "4       [вишневая, наливка, имеет, яркий, вишневый, вк...\n",
       "                              ...                        \n",
       "3462    [для, тех, кто, любит, чечевицу, вам, сюда, оч...\n",
       "3463    [баклажановые, фантазии, продолжаются, предлаг...\n",
       "3464    [мое, любимое, блюдо, лазанья, но, кушать, тол...\n",
       "3465    [прошлым, летом, варила, варенье, из, одуванчи...\n",
       "3466    [и, три, корочки, хлеба, сделал, заказ, бурати...\n",
       "Name: description, Length: 3467, dtype: object"
      ]
     },
     "execution_count": 247,
     "metadata": {},
     "output_type": "execute_result"
    }
   ],
   "source": [
    "words_ser = recipes.description.apply(word_tokenize)\n",
    "words_ser"
   ]
  },
  {
   "cell_type": "code",
   "execution_count": 248,
   "metadata": {},
   "outputs": [
    {
     "data": {
      "text/plain": [
       "(['конспекта', 'кусочек', 'ознакомлению', 'разной', 'круглой'], 16451)"
      ]
     },
     "execution_count": 248,
     "metadata": {},
     "output_type": "execute_result"
    }
   ],
   "source": [
    "words = words_ser.explode().values\n",
    "\n",
    "amount_of_words = len(words)\n",
    "all_words = words\n",
    "\n",
    "words = list(set(words))\n",
    "words[:5], len(words)"
   ]
  },
  {
   "cell_type": "code",
   "execution_count": 249,
   "metadata": {},
   "outputs": [
    {
     "data": {
      "text/plain": [
       "array([['высушенный', 'неосторожно'],\n",
       "       ['яичную', 'политы'],\n",
       "       ['актуальным', 'ужинать'],\n",
       "       ['сидят', 'подготовиться'],\n",
       "       ['уменьшающим', 'эффектной']], dtype='<U27')"
      ]
     },
     "execution_count": 249,
     "metadata": {},
     "output_type": "execute_result"
    }
   ],
   "source": [
    "words_samples = np.random.choice(words, 10).reshape(5, 2)\n",
    "words_samples"
   ]
  },
  {
   "cell_type": "code",
   "execution_count": 250,
   "metadata": {},
   "outputs": [
    {
     "name": "stdout",
     "output_type": "stream",
     "text": [
      "d(высушенный, неосторожно) = 10\n",
      "d(яичную, политы) = 6\n",
      "d(актуальным, ужинать) = 8\n",
      "d(сидят, подготовиться) = 11\n",
      "d(уменьшающим, эффектной) = 11\n"
     ]
    }
   ],
   "source": [
    "def Levenstein_print(cur):\n",
    "    dist = edit_distance(cur[0], cur[1])\n",
    "    print(f'd({cur[0]}, {cur[1]}) = {dist}')\n",
    "    \n",
    "\n",
    "for cur_pair in words_samples:\n",
    "    Levenstein_print(cur_pair)"
   ]
  },
  {
   "cell_type": "markdown",
   "metadata": {},
   "source": [
    "3\\. Напишите функцию, которая принимает на вход 2 текстовые строки `s1` и `s2` и при помощи расстояния Левенштейна определяет, является ли строка `s2` плагиатом `s1`. Функция должна реализовывать следующую логику: для каждого слова `w1` из `s1` проверяет, есть в `s2` хотя бы одно слово `w2`, такое, что расстояние Левенштейна между `w1` и `w2` меньше 2, и считает количество таких слов в `s1` $P$. \n",
    "\n",
    "$$ P = \\#\\{w_1 \\in s_1\\ | \\exists w_2 \\in s_2 : d(w_1, w_2) < tol\\}$$\n",
    "\n",
    "$$ L = max(|s1|, |s2|) $$\n",
    "\n",
    "Здесь $|\\cdot|$ - количество слов в строке, $\\#A$ - число элементов в множестве $A$, $w \\in s$ означает, что слово $w$ содержится в тексте $s$.\n",
    "\n",
    "Если отношение $P / L$ больше 0.8, то функция должна вернуть True; иначе False.\n",
    "\n",
    "Продемонстрируйте работу вашей функции на примере описаний двух рецептов с ID 135488 и 851934 (ID рецепта - это число, стоящее в конце url рецепта). Выведите на экран описания этих рецептов и результат работы функции."
   ]
  },
  {
   "cell_type": "code",
   "execution_count": 251,
   "metadata": {},
   "outputs": [
    {
     "name": "stdout",
     "output_type": "stream",
     "text": [
      "Описание (135488): прекрасной закуской к крепким напиткам на фуршетном столе станет паштет из сала и авокадо с чесноком который мы спрячем в орешках из бородинского хлеба положив в середину маслину закуска получается необычной оригинальной и ценится особенно мужчинами \n",
      "\n",
      " Описание (851934):замечательной закуской к напиткам на фуршетном столе станет паштет из сала и авокадо с чесноком куда мы добавим орешков из бородинского хлеба положив в середину маслины закуска получается крайне необычной оригинальной и ценится особенно мужчинами \n",
      "\n",
      " Результат работы функции: True\n"
     ]
    }
   ],
   "source": [
    "def is_plagiarism(s1: str, s2: str) -> bool:\n",
    "    s1_words = word_tokenize(s1)\n",
    "    s2_words = word_tokenize(s2)\n",
    "    \n",
    "    p_counter = 0\n",
    "    for cur_word in s1_words:\n",
    "        for cur_comp in s2_words:\n",
    "            dist = edit_distance(cur_word, cur_comp)\n",
    "            if dist < 2:\n",
    "                p_counter += 1\n",
    "                break\n",
    "                \n",
    "    l = max(len(s1_words), len(s2_words))\n",
    "    if p_counter / l > 0.8:\n",
    "        return True\n",
    "    else:\n",
    "        return False\n",
    "    \n",
    "link = 'https://www.povarenok.ru/recipes/show/'\n",
    "rec1 = recipes[recipes['url'] == link + str(135488) + '/']['description'].values[0]\n",
    "rec2 = recipes[recipes['url'] == link + str(851934) + '/']['description'].values[0]\n",
    "\n",
    "print(f'Описание (135488): {rec1} \\n\\n Описание (851934):{rec2} \\n\\n Результат работы функции: {is_plagiarism(s1 = rec1, s2 = rec2)}')"
   ]
  },
  {
   "cell_type": "markdown",
   "metadata": {},
   "source": [
    "### Стемминг, лемматизация"
   ]
  },
  {
   "cell_type": "markdown",
   "metadata": {},
   "source": [
    "4\\. На основе набора слов из задания 2 создайте `pd.DataFrame` со столбцами `word`, `stemmed_word` и `normalized_word`. В столбец `stemmed_word` поместите версию слова после проведения процедуры стемминга; в столбец `normalized_word` поместите версию слова после проведения процедуры лемматизации. Столбец `word` укажите в качестве индекса. \n",
    "\n",
    "Для стемминга можно воспользоваться `SnowballStemmer` из `nltk`, для лемматизации слов - пакетом `pymorphy2`. Сравните результаты стемминга и лемматизации. Поясните на примере одной из строк получившегося фрейма (в виде текстового комментария), в чем разница между двумя этими подходами. "
   ]
  },
  {
   "cell_type": "code",
   "execution_count": 252,
   "metadata": {},
   "outputs": [
    {
     "data": {
      "text/html": [
       "<div>\n",
       "<style scoped>\n",
       "    .dataframe tbody tr th:only-of-type {\n",
       "        vertical-align: middle;\n",
       "    }\n",
       "\n",
       "    .dataframe tbody tr th {\n",
       "        vertical-align: top;\n",
       "    }\n",
       "\n",
       "    .dataframe thead th {\n",
       "        text-align: right;\n",
       "    }\n",
       "</style>\n",
       "<table border=\"1\" class=\"dataframe\">\n",
       "  <thead>\n",
       "    <tr style=\"text-align: right;\">\n",
       "      <th></th>\n",
       "      <th>stemmed_word</th>\n",
       "      <th>normalized_word</th>\n",
       "    </tr>\n",
       "    <tr>\n",
       "      <th>word</th>\n",
       "      <th></th>\n",
       "      <th></th>\n",
       "    </tr>\n",
       "  </thead>\n",
       "  <tbody>\n",
       "    <tr>\n",
       "      <th>конспекта</th>\n",
       "      <td>конспект</td>\n",
       "      <td>конспект</td>\n",
       "    </tr>\n",
       "    <tr>\n",
       "      <th>кусочек</th>\n",
       "      <td>кусочек</td>\n",
       "      <td>кусочек</td>\n",
       "    </tr>\n",
       "    <tr>\n",
       "      <th>ознакомлению</th>\n",
       "      <td>ознакомлен</td>\n",
       "      <td>ознакомление</td>\n",
       "    </tr>\n",
       "    <tr>\n",
       "      <th>разной</th>\n",
       "      <td>разн</td>\n",
       "      <td>разный</td>\n",
       "    </tr>\n",
       "    <tr>\n",
       "      <th>круглой</th>\n",
       "      <td>кругл</td>\n",
       "      <td>круглый</td>\n",
       "    </tr>\n",
       "  </tbody>\n",
       "</table>\n",
       "</div>"
      ],
      "text/plain": [
       "             stemmed_word normalized_word\n",
       "word                                     \n",
       "конспекта        конспект        конспект\n",
       "кусочек           кусочек         кусочек\n",
       "ознакомлению   ознакомлен    ознакомление\n",
       "разной               разн          разный\n",
       "круглой             кругл         круглый"
      ]
     },
     "execution_count": 252,
     "metadata": {},
     "output_type": "execute_result"
    }
   ],
   "source": [
    "words_df = pd.DataFrame()\n",
    "words_df['word'] = words\n",
    "\n",
    "stemmer = SnowballStemmer('russian')\n",
    "lemmatizator = pymorphy2.MorphAnalyzer()\n",
    "\n",
    "words_df['stemmed_word'] = words_df['word'].apply(stemmer.stem)\n",
    "words_df['normalized_word'] = words_df['word'].apply(lambda x: lemmatizator.parse(x)[0].normal_form)\n",
    "\n",
    "words_df = words_df.set_index('word')\n",
    "words_df.head()\n",
    "\n",
    "#Итог\n",
    "\n",
    "#Стэмминг приводит слово к его корневой форме (чаще всего не является употребляемым словом)\n",
    "\n",
    "#Лемматизация - приводит слово в формат инфинитива, Именительного падежа и т.д. \n",
    "#иными словами к его начальной форме той же части речи\n",
    "\n",
    "#Пример - разной. Корневая часть этого слова (всех его форм) получена из стемминга = разн, в то время как лемматизация\n",
    "#даёт нам полную форму прилагательного = разный"
   ]
  },
  {
   "cell_type": "markdown",
   "metadata": {},
   "source": [
    "5\\. Добавьте в таблицу `recipes` столбец `description_no_stopwords`, в котором содержится текст описания рецепта после удаления из него стоп-слов. Посчитайте и выведите на экран долю стоп-слов среди общего количества слов. Сравните топ-10 самых часто употребляемых слов до и после удаления стоп-слов."
   ]
  },
  {
   "cell_type": "code",
   "execution_count": null,
   "metadata": {},
   "outputs": [],
   "source": []
  },
  {
   "cell_type": "code",
   "execution_count": 253,
   "metadata": {},
   "outputs": [
    {
     "data": {
      "text/html": [
       "<div>\n",
       "<style scoped>\n",
       "    .dataframe tbody tr th:only-of-type {\n",
       "        vertical-align: middle;\n",
       "    }\n",
       "\n",
       "    .dataframe tbody tr th {\n",
       "        vertical-align: top;\n",
       "    }\n",
       "\n",
       "    .dataframe thead th {\n",
       "        text-align: right;\n",
       "    }\n",
       "</style>\n",
       "<table border=\"1\" class=\"dataframe\">\n",
       "  <thead>\n",
       "    <tr style=\"text-align: right;\">\n",
       "      <th></th>\n",
       "      <th>url</th>\n",
       "      <th>name</th>\n",
       "      <th>ingredients</th>\n",
       "      <th>description</th>\n",
       "      <th>description_no_stopwords</th>\n",
       "    </tr>\n",
       "  </thead>\n",
       "  <tbody>\n",
       "    <tr>\n",
       "      <th>0</th>\n",
       "      <td>https://www.povarenok.ru/recipes/show/164365/</td>\n",
       "      <td>Густой молочно-клубничный коктейль</td>\n",
       "      <td>{'Молоко': '250 мл', 'Клубника': '200 г', 'Сах...</td>\n",
       "      <td>этот коктейль готовлю из замороженной клубники...</td>\n",
       "      <td>коктейль готовлю замороженной клубники клубник...</td>\n",
       "    </tr>\n",
       "    <tr>\n",
       "      <th>1</th>\n",
       "      <td>https://www.povarenok.ru/recipes/show/1306/</td>\n",
       "      <td>Рулетики</td>\n",
       "      <td>{'Сыр твердый': None, 'Чеснок': None, 'Яйцо ку...</td>\n",
       "      <td>быстро и вкусно</td>\n",
       "      <td>быстро вкусно</td>\n",
       "    </tr>\n",
       "    <tr>\n",
       "      <th>2</th>\n",
       "      <td>https://www.povarenok.ru/recipes/show/10625/</td>\n",
       "      <td>Салат \"Баклажанчик\"</td>\n",
       "      <td>{'Баклажан': '3 шт', 'Лук репчатый': '2 шт', '...</td>\n",
       "      <td>сытный овощной салатик пальчики оближете</td>\n",
       "      <td>сытный овощной салатик пальчики оближете</td>\n",
       "    </tr>\n",
       "    <tr>\n",
       "      <th>3</th>\n",
       "      <td>https://www.povarenok.ru/recipes/show/167337/</td>\n",
       "      <td>Куриные котлеты с картофельным пюре в духовке</td>\n",
       "      <td>{'Фарш куриный': '800 г', 'Пюре картофельное':...</td>\n",
       "      <td>картофельное пюре и куриные котлеты  вкусная к...</td>\n",
       "      <td>картофельное пюре куриные котлеты вкусная клас...</td>\n",
       "    </tr>\n",
       "    <tr>\n",
       "      <th>4</th>\n",
       "      <td>https://www.povarenok.ru/recipes/show/91919/</td>\n",
       "      <td>Рецепт вишневой наливки</td>\n",
       "      <td>{'Вишня': '1 кг', 'Водка': '1 л', 'Сахар': '30...</td>\n",
       "      <td>вишневая наливка имеет яркий вишневый вкус кот...</td>\n",
       "      <td>вишневая наливка имеет яркий вишневый вкус кот...</td>\n",
       "    </tr>\n",
       "  </tbody>\n",
       "</table>\n",
       "</div>"
      ],
      "text/plain": [
       "                                             url  \\\n",
       "0  https://www.povarenok.ru/recipes/show/164365/   \n",
       "1    https://www.povarenok.ru/recipes/show/1306/   \n",
       "2   https://www.povarenok.ru/recipes/show/10625/   \n",
       "3  https://www.povarenok.ru/recipes/show/167337/   \n",
       "4   https://www.povarenok.ru/recipes/show/91919/   \n",
       "\n",
       "                                            name  \\\n",
       "0             Густой молочно-клубничный коктейль   \n",
       "1                                       Рулетики   \n",
       "2                            Салат \"Баклажанчик\"   \n",
       "3  Куриные котлеты с картофельным пюре в духовке   \n",
       "4                        Рецепт вишневой наливки   \n",
       "\n",
       "                                         ingredients  \\\n",
       "0  {'Молоко': '250 мл', 'Клубника': '200 г', 'Сах...   \n",
       "1  {'Сыр твердый': None, 'Чеснок': None, 'Яйцо ку...   \n",
       "2  {'Баклажан': '3 шт', 'Лук репчатый': '2 шт', '...   \n",
       "3  {'Фарш куриный': '800 г', 'Пюре картофельное':...   \n",
       "4  {'Вишня': '1 кг', 'Водка': '1 л', 'Сахар': '30...   \n",
       "\n",
       "                                         description  \\\n",
       "0  этот коктейль готовлю из замороженной клубники...   \n",
       "1                                    быстро и вкусно   \n",
       "2           сытный овощной салатик пальчики оближете   \n",
       "3  картофельное пюре и куриные котлеты  вкусная к...   \n",
       "4  вишневая наливка имеет яркий вишневый вкус кот...   \n",
       "\n",
       "                            description_no_stopwords  \n",
       "0  коктейль готовлю замороженной клубники клубник...  \n",
       "1                                      быстро вкусно  \n",
       "2           сытный овощной салатик пальчики оближете  \n",
       "3  картофельное пюре куриные котлеты вкусная клас...  \n",
       "4  вишневая наливка имеет яркий вишневый вкус кот...  "
      ]
     },
     "execution_count": 253,
     "metadata": {},
     "output_type": "execute_result"
    }
   ],
   "source": [
    "def stop_words_clean(sent) -> str:\n",
    "    global stop_words\n",
    "    s_token = word_tokenize(sent)\n",
    "    res = ''\n",
    "    for cur in s_token:\n",
    "        if cur not in stop_words:\n",
    "            res += cur + ' '\n",
    "        else:\n",
    "            if cur in stop_words_share.keys():\n",
    "                stop_words_share[cur] += 1\n",
    "            else:\n",
    "                stop_words_share[cur] = 0\n",
    "                \n",
    "    return res[:-1]\n",
    "\n",
    "stop_words_share = {}\n",
    "stop_words = stopwords.words('russian')\n",
    "\n",
    "recipes['description_no_stopwords'] = recipes['description'].apply(stop_words_clean)\n",
    "\n",
    "recipes.head()"
   ]
  },
  {
   "cell_type": "code",
   "execution_count": 254,
   "metadata": {},
   "outputs": [
    {
     "name": "stdout",
     "output_type": "stream",
     "text": [
      "До удаления стоп слов:\n",
      "('и', 5054)\n",
      "('в', 2584)\n",
      "('с', 1934)\n",
      "('на', 1655)\n",
      "('очень', 1607)\n",
      "('не', 1517)\n",
      "('из', 1006)\n",
      "('я', 979)\n",
      "('рецепт', 869)\n",
      "('а', 863)\n",
      "\n",
      "После удаления стоп слов:\n",
      "('очень', 1607)\n",
      "('рецепт', 869)\n",
      "('это', 734)\n",
      "('блюдо', 524)\n",
      "('вкусный', 461)\n",
      "('просто', 436)\n",
      "('вкусно', 375)\n",
      "('приготовить', 344)\n",
      "('вкус', 324)\n",
      "('салат', 313)\n",
      "\n",
      "Доля стоп-слов в датасете:  0.3211559750626347\n"
     ]
    }
   ],
   "source": [
    "top10_before = FreqDist(all_words).most_common(10)\n",
    "print('До удаления стоп слов:', *top10_before, sep = '\\n')\n",
    "\n",
    "all_nonstop_words = []\n",
    "for cur in recipes['description_no_stopwords'].apply(word_tokenize).values:\n",
    "    all_nonstop_words.extend(cur)\n",
    "    \n",
    "top10_after = FreqDist(all_nonstop_words).most_common(10)\n",
    "print('\\nПосле удаления стоп слов:', *top10_after, sep = '\\n')\n",
    "    \n",
    "    \n",
    "print('\\nДоля стоп-слов в датасете: ', sum(stop_words_share.values()) / amount_of_words)"
   ]
  },
  {
   "cell_type": "markdown",
   "metadata": {},
   "source": [
    "### Векторное представление текста"
   ]
  },
  {
   "cell_type": "markdown",
   "metadata": {},
   "source": [
    "6\\. Выберите случайным образом 5 рецептов из набора данных, в названии которых есть слово \"оладьи\" (без учета регистра). Представьте описание каждого рецепта в виде числового вектора при помощи `TfidfVectorizer`. На основе полученных векторов создайте `pd.DataFrame`, в котором названия колонок соответствуют словам из словаря объекта-векторизатора. \n",
    "\n",
    "Примечание: обратите внимание на порядок слов при создании колонок."
   ]
  },
  {
   "cell_type": "code",
   "execution_count": 307,
   "metadata": {},
   "outputs": [
    {
     "data": {
      "text/html": [
       "<div>\n",
       "<style scoped>\n",
       "    .dataframe tbody tr th:only-of-type {\n",
       "        vertical-align: middle;\n",
       "    }\n",
       "\n",
       "    .dataframe tbody tr th {\n",
       "        vertical-align: top;\n",
       "    }\n",
       "\n",
       "    .dataframe thead th {\n",
       "        text-align: right;\n",
       "    }\n",
       "</style>\n",
       "<table border=\"1\" class=\"dataframe\">\n",
       "  <thead>\n",
       "    <tr style=\"text-align: right;\">\n",
       "      <th></th>\n",
       "      <th>url</th>\n",
       "      <th>name</th>\n",
       "      <th>ingredients</th>\n",
       "      <th>description</th>\n",
       "      <th>description_no_stopwords</th>\n",
       "    </tr>\n",
       "  </thead>\n",
       "  <tbody>\n",
       "    <tr>\n",
       "      <th>2506</th>\n",
       "      <td>https://www.povarenok.ru/recipes/show/57827/</td>\n",
       "      <td>Нежные куриные оладьи</td>\n",
       "      <td>{'Филе куриное': '500 г', 'Сыр плавленый': '2 ...</td>\n",
       "      <td>нежные сочные оладьи и очень очень очень вкусные</td>\n",
       "      <td>нежные сочные оладьи очень очень очень вкусные</td>\n",
       "    </tr>\n",
       "    <tr>\n",
       "      <th>266</th>\n",
       "      <td>https://www.povarenok.ru/recipes/show/133719/</td>\n",
       "      <td>Джонни-кейк</td>\n",
       "      <td>{'Мука кукурузная': '60 г', 'Мука пшеничная': ...</td>\n",
       "      <td>джонникейк  это сладкие оладьи из кукурузной м...</td>\n",
       "      <td>джонникейк это сладкие оладьи кукурузной муки ...</td>\n",
       "    </tr>\n",
       "    <tr>\n",
       "      <th>599</th>\n",
       "      <td>https://www.povarenok.ru/recipes/show/83639/</td>\n",
       "      <td>Оладьи из брокколи с сыром</td>\n",
       "      <td>{'Брокколи': '250 г', 'Сыр твердый': '50 г', '...</td>\n",
       "      <td>оладьи из брокколи и сыра сытно а как вкусно е...</td>\n",
       "      <td>оладьи брокколи сыра сытно вкусно подать оладь...</td>\n",
       "    </tr>\n",
       "    <tr>\n",
       "      <th>2518</th>\n",
       "      <td>https://www.povarenok.ru/recipes/show/143418/</td>\n",
       "      <td>Оладьи \"Лето\"</td>\n",
       "      <td>{'Картофель': '7 шт', 'Перец болгарский': '1 ш...</td>\n",
       "      <td>драники или деруны уже давно стали интернацион...</td>\n",
       "      <td>драники деруны давно стали интернациональным б...</td>\n",
       "    </tr>\n",
       "    <tr>\n",
       "      <th>622</th>\n",
       "      <td>https://www.povarenok.ru/recipes/show/133390/</td>\n",
       "      <td>Тыквенные оладьи с бананами</td>\n",
       "      <td>{'Тыква': '300 г', 'Банан': '1 шт', 'Яйцо кури...</td>\n",
       "      <td>попробуйте приготовить вкусные оладьи из тыквы...</td>\n",
       "      <td>попробуйте приготовить вкусные оладьи тыквы ба...</td>\n",
       "    </tr>\n",
       "  </tbody>\n",
       "</table>\n",
       "</div>"
      ],
      "text/plain": [
       "                                                url  \\\n",
       "2506   https://www.povarenok.ru/recipes/show/57827/   \n",
       "266   https://www.povarenok.ru/recipes/show/133719/   \n",
       "599    https://www.povarenok.ru/recipes/show/83639/   \n",
       "2518  https://www.povarenok.ru/recipes/show/143418/   \n",
       "622   https://www.povarenok.ru/recipes/show/133390/   \n",
       "\n",
       "                             name  \\\n",
       "2506        Нежные куриные оладьи   \n",
       "266                   Джонни-кейк   \n",
       "599    Оладьи из брокколи с сыром   \n",
       "2518                Оладьи \"Лето\"   \n",
       "622   Тыквенные оладьи с бананами   \n",
       "\n",
       "                                            ingredients  \\\n",
       "2506  {'Филе куриное': '500 г', 'Сыр плавленый': '2 ...   \n",
       "266   {'Мука кукурузная': '60 г', 'Мука пшеничная': ...   \n",
       "599   {'Брокколи': '250 г', 'Сыр твердый': '50 г', '...   \n",
       "2518  {'Картофель': '7 шт', 'Перец болгарский': '1 ш...   \n",
       "622   {'Тыква': '300 г', 'Банан': '1 шт', 'Яйцо кури...   \n",
       "\n",
       "                                            description  \\\n",
       "2506   нежные сочные оладьи и очень очень очень вкусные   \n",
       "266   джонникейк  это сладкие оладьи из кукурузной м...   \n",
       "599   оладьи из брокколи и сыра сытно а как вкусно е...   \n",
       "2518  драники или деруны уже давно стали интернацион...   \n",
       "622   попробуйте приготовить вкусные оладьи из тыквы...   \n",
       "\n",
       "                               description_no_stopwords  \n",
       "2506     нежные сочные оладьи очень очень очень вкусные  \n",
       "266   джонникейк это сладкие оладьи кукурузной муки ...  \n",
       "599   оладьи брокколи сыра сытно вкусно подать оладь...  \n",
       "2518  драники деруны давно стали интернациональным б...  \n",
       "622   попробуйте приготовить вкусные оладьи тыквы ба...  "
      ]
     },
     "execution_count": 307,
     "metadata": {},
     "output_type": "execute_result"
    }
   ],
   "source": [
    "def masking(s):\n",
    "    return (s.apply(lambda x: 'оладьи' in x.lower()))\n",
    "\n",
    "pank = recipes[masking(recipes['description'])].sample(5)\n",
    "pank"
   ]
  },
  {
   "cell_type": "code",
   "execution_count": 308,
   "metadata": {},
   "outputs": [
    {
     "data": {
      "text/html": [
       "<div>\n",
       "<style scoped>\n",
       "    .dataframe tbody tr th:only-of-type {\n",
       "        vertical-align: middle;\n",
       "    }\n",
       "\n",
       "    .dataframe tbody tr th {\n",
       "        vertical-align: top;\n",
       "    }\n",
       "\n",
       "    .dataframe thead th {\n",
       "        text-align: right;\n",
       "    }\n",
       "</style>\n",
       "<table border=\"1\" class=\"dataframe\">\n",
       "  <thead>\n",
       "    <tr style=\"text-align: right;\">\n",
       "      <th></th>\n",
       "      <th>1739</th>\n",
       "      <th>ароматными</th>\n",
       "      <th>банана</th>\n",
       "      <th>белорусскую</th>\n",
       "      <th>блинчиках</th>\n",
       "      <th>блюда</th>\n",
       "      <th>блюдом</th>\n",
       "      <th>более</th>\n",
       "      <th>больше</th>\n",
       "      <th>брокколи</th>\n",
       "      <th>...</th>\n",
       "      <th>уходя</th>\n",
       "      <th>характерным</th>\n",
       "      <th>что</th>\n",
       "      <th>шанс</th>\n",
       "      <th>широко</th>\n",
       "      <th>штате</th>\n",
       "      <th>этих</th>\n",
       "      <th>это</th>\n",
       "      <th>этого</th>\n",
       "      <th>южная</th>\n",
       "    </tr>\n",
       "  </thead>\n",
       "  <tbody>\n",
       "    <tr>\n",
       "      <th>0</th>\n",
       "      <td>0.000000</td>\n",
       "      <td>0.000000</td>\n",
       "      <td>0.000000</td>\n",
       "      <td>0.000000</td>\n",
       "      <td>0.000000</td>\n",
       "      <td>0.000000</td>\n",
       "      <td>0.000000</td>\n",
       "      <td>0.000000</td>\n",
       "      <td>0.000000</td>\n",
       "      <td>0.000000</td>\n",
       "      <td>...</td>\n",
       "      <td>0.000000</td>\n",
       "      <td>0.000000</td>\n",
       "      <td>0.000000</td>\n",
       "      <td>0.000000</td>\n",
       "      <td>0.000000</td>\n",
       "      <td>0.000000</td>\n",
       "      <td>0.000000</td>\n",
       "      <td>0.000000</td>\n",
       "      <td>0.000000</td>\n",
       "      <td>0.000000</td>\n",
       "    </tr>\n",
       "    <tr>\n",
       "      <th>1</th>\n",
       "      <td>0.154004</td>\n",
       "      <td>0.000000</td>\n",
       "      <td>0.000000</td>\n",
       "      <td>0.000000</td>\n",
       "      <td>0.154004</td>\n",
       "      <td>0.154004</td>\n",
       "      <td>0.000000</td>\n",
       "      <td>0.000000</td>\n",
       "      <td>0.000000</td>\n",
       "      <td>0.000000</td>\n",
       "      <td>...</td>\n",
       "      <td>0.000000</td>\n",
       "      <td>0.154004</td>\n",
       "      <td>0.000000</td>\n",
       "      <td>0.000000</td>\n",
       "      <td>0.000000</td>\n",
       "      <td>0.154004</td>\n",
       "      <td>0.154004</td>\n",
       "      <td>0.154004</td>\n",
       "      <td>0.154004</td>\n",
       "      <td>0.154004</td>\n",
       "    </tr>\n",
       "    <tr>\n",
       "      <th>2</th>\n",
       "      <td>0.000000</td>\n",
       "      <td>0.000000</td>\n",
       "      <td>0.000000</td>\n",
       "      <td>0.000000</td>\n",
       "      <td>0.000000</td>\n",
       "      <td>0.000000</td>\n",
       "      <td>0.000000</td>\n",
       "      <td>0.000000</td>\n",
       "      <td>0.000000</td>\n",
       "      <td>0.268447</td>\n",
       "      <td>...</td>\n",
       "      <td>0.000000</td>\n",
       "      <td>0.000000</td>\n",
       "      <td>0.000000</td>\n",
       "      <td>0.000000</td>\n",
       "      <td>0.000000</td>\n",
       "      <td>0.000000</td>\n",
       "      <td>0.000000</td>\n",
       "      <td>0.000000</td>\n",
       "      <td>0.000000</td>\n",
       "      <td>0.000000</td>\n",
       "    </tr>\n",
       "    <tr>\n",
       "      <th>3</th>\n",
       "      <td>0.000000</td>\n",
       "      <td>0.000000</td>\n",
       "      <td>0.000000</td>\n",
       "      <td>0.140305</td>\n",
       "      <td>0.000000</td>\n",
       "      <td>0.000000</td>\n",
       "      <td>0.140305</td>\n",
       "      <td>0.140305</td>\n",
       "      <td>0.140305</td>\n",
       "      <td>0.000000</td>\n",
       "      <td>...</td>\n",
       "      <td>0.140305</td>\n",
       "      <td>0.000000</td>\n",
       "      <td>0.140305</td>\n",
       "      <td>0.140305</td>\n",
       "      <td>0.140305</td>\n",
       "      <td>0.000000</td>\n",
       "      <td>0.000000</td>\n",
       "      <td>0.000000</td>\n",
       "      <td>0.000000</td>\n",
       "      <td>0.000000</td>\n",
       "    </tr>\n",
       "    <tr>\n",
       "      <th>4</th>\n",
       "      <td>0.000000</td>\n",
       "      <td>0.244733</td>\n",
       "      <td>0.244733</td>\n",
       "      <td>0.000000</td>\n",
       "      <td>0.000000</td>\n",
       "      <td>0.000000</td>\n",
       "      <td>0.000000</td>\n",
       "      <td>0.000000</td>\n",
       "      <td>0.000000</td>\n",
       "      <td>0.000000</td>\n",
       "      <td>...</td>\n",
       "      <td>0.000000</td>\n",
       "      <td>0.000000</td>\n",
       "      <td>0.000000</td>\n",
       "      <td>0.000000</td>\n",
       "      <td>0.000000</td>\n",
       "      <td>0.000000</td>\n",
       "      <td>0.000000</td>\n",
       "      <td>0.000000</td>\n",
       "      <td>0.000000</td>\n",
       "      <td>0.000000</td>\n",
       "    </tr>\n",
       "  </tbody>\n",
       "</table>\n",
       "<p>5 rows × 120 columns</p>\n",
       "</div>"
      ],
      "text/plain": [
       "       1739  ароматными    банана  белорусскую  блинчиках     блюда    блюдом  \\\n",
       "0  0.000000    0.000000  0.000000     0.000000   0.000000  0.000000  0.000000   \n",
       "1  0.154004    0.000000  0.000000     0.000000   0.154004  0.154004  0.000000   \n",
       "2  0.000000    0.000000  0.000000     0.000000   0.000000  0.000000  0.000000   \n",
       "3  0.000000    0.000000  0.000000     0.140305   0.000000  0.000000  0.140305   \n",
       "4  0.000000    0.244733  0.244733     0.000000   0.000000  0.000000  0.000000   \n",
       "\n",
       "      более    больше  брокколи  ...     уходя  характерным       что  \\\n",
       "0  0.000000  0.000000  0.000000  ...  0.000000     0.000000  0.000000   \n",
       "1  0.000000  0.000000  0.000000  ...  0.000000     0.154004  0.000000   \n",
       "2  0.000000  0.000000  0.268447  ...  0.000000     0.000000  0.000000   \n",
       "3  0.140305  0.140305  0.000000  ...  0.140305     0.000000  0.140305   \n",
       "4  0.000000  0.000000  0.000000  ...  0.000000     0.000000  0.000000   \n",
       "\n",
       "       шанс    широко     штате      этих       это     этого     южная  \n",
       "0  0.000000  0.000000  0.000000  0.000000  0.000000  0.000000  0.000000  \n",
       "1  0.000000  0.000000  0.154004  0.154004  0.154004  0.154004  0.154004  \n",
       "2  0.000000  0.000000  0.000000  0.000000  0.000000  0.000000  0.000000  \n",
       "3  0.140305  0.140305  0.000000  0.000000  0.000000  0.000000  0.000000  \n",
       "4  0.000000  0.000000  0.000000  0.000000  0.000000  0.000000  0.000000  \n",
       "\n",
       "[5 rows x 120 columns]"
      ]
     },
     "execution_count": 308,
     "metadata": {},
     "output_type": "execute_result"
    }
   ],
   "source": [
    "vectorizer = TfidfVectorizer()\n",
    "vectors = vectorizer.fit_transform(pank.loc[cur]['description'] for cur in pank.index)\n",
    "\n",
    "names = vectorizer.get_feature_names_out()\n",
    "\n",
    "new_data = pd.DataFrame(vectors.toarray(), columns = names)\n",
    "\n",
    "new_data  #Порядок слов алфавитный"
   ]
  },
  {
   "cell_type": "markdown",
   "metadata": {},
   "source": [
    "7\\. Вычислите близость между каждой парой рецептов, выбранных в задании 6, используя косинусное расстояние (можно воспользоваться функциями из любого пакета: `scipy`, `scikit-learn` или реализовать функцию самому). Результаты оформите в виде таблицы `pd.DataFrame`. В качестве названий строк и столбцов используйте названия рецептов.\n",
    "\n",
    "Примечание: обратите внимание, что $d_{cosine}(x, x) = 0$"
   ]
  },
  {
   "cell_type": "code",
   "execution_count": 309,
   "metadata": {},
   "outputs": [
    {
     "data": {
      "text/html": [
       "<div>\n",
       "<style scoped>\n",
       "    .dataframe tbody tr th:only-of-type {\n",
       "        vertical-align: middle;\n",
       "    }\n",
       "\n",
       "    .dataframe tbody tr th {\n",
       "        vertical-align: top;\n",
       "    }\n",
       "\n",
       "    .dataframe thead th {\n",
       "        text-align: right;\n",
       "    }\n",
       "</style>\n",
       "<table border=\"1\" class=\"dataframe\">\n",
       "  <thead>\n",
       "    <tr style=\"text-align: right;\">\n",
       "      <th></th>\n",
       "      <th>Нежные куриные оладьи</th>\n",
       "      <th>Джонни-кейк</th>\n",
       "      <th>Оладьи из брокколи с сыром</th>\n",
       "      <th>Оладьи \"Лето\"</th>\n",
       "      <th>Тыквенные оладьи с бананами</th>\n",
       "    </tr>\n",
       "  </thead>\n",
       "  <tbody>\n",
       "    <tr>\n",
       "      <th>Нежные куриные оладьи</th>\n",
       "      <td>0.000000</td>\n",
       "      <td>0.809144</td>\n",
       "      <td>0.951673</td>\n",
       "      <td>0.987371</td>\n",
       "      <td>0.803913</td>\n",
       "    </tr>\n",
       "    <tr>\n",
       "      <th>Джонни-кейк</th>\n",
       "      <td>0.809144</td>\n",
       "      <td>0.000000</td>\n",
       "      <td>0.903646</td>\n",
       "      <td>0.950294</td>\n",
       "      <td>0.879489</td>\n",
       "    </tr>\n",
       "    <tr>\n",
       "      <th>Оладьи из брокколи с сыром</th>\n",
       "      <td>0.951673</td>\n",
       "      <td>0.903646</td>\n",
       "      <td>0.000000</td>\n",
       "      <td>0.970941</td>\n",
       "      <td>0.949313</td>\n",
       "    </tr>\n",
       "    <tr>\n",
       "      <th>Оладьи \"Лето\"</th>\n",
       "      <td>0.987371</td>\n",
       "      <td>0.950294</td>\n",
       "      <td>0.970941</td>\n",
       "      <td>0.000000</td>\n",
       "      <td>0.914253</td>\n",
       "    </tr>\n",
       "    <tr>\n",
       "      <th>Тыквенные оладьи с бананами</th>\n",
       "      <td>0.803913</td>\n",
       "      <td>0.879489</td>\n",
       "      <td>0.949313</td>\n",
       "      <td>0.914253</td>\n",
       "      <td>0.000000</td>\n",
       "    </tr>\n",
       "  </tbody>\n",
       "</table>\n",
       "</div>"
      ],
      "text/plain": [
       "                             Нежные куриные оладьи  Джонни-кейк  \\\n",
       "Нежные куриные оладьи                     0.000000     0.809144   \n",
       "Джонни-кейк                               0.809144     0.000000   \n",
       "Оладьи из брокколи с сыром                0.951673     0.903646   \n",
       "Оладьи \"Лето\"                             0.987371     0.950294   \n",
       "Тыквенные оладьи с бананами               0.803913     0.879489   \n",
       "\n",
       "                             Оладьи из брокколи с сыром  Оладьи \"Лето\"  \\\n",
       "Нежные куриные оладьи                          0.951673       0.987371   \n",
       "Джонни-кейк                                    0.903646       0.950294   \n",
       "Оладьи из брокколи с сыром                     0.000000       0.970941   \n",
       "Оладьи \"Лето\"                                  0.970941       0.000000   \n",
       "Тыквенные оладьи с бананами                    0.949313       0.914253   \n",
       "\n",
       "                             Тыквенные оладьи с бананами  \n",
       "Нежные куриные оладьи                           0.803913  \n",
       "Джонни-кейк                                     0.879489  \n",
       "Оладьи из брокколи с сыром                      0.949313  \n",
       "Оладьи \"Лето\"                                   0.914253  \n",
       "Тыквенные оладьи с бананами                     0.000000  "
      ]
     },
     "execution_count": 309,
     "metadata": {},
     "output_type": "execute_result"
    }
   ],
   "source": [
    "names = pank['name'].values\n",
    "\n",
    "data = np.zeros((5, 5))\n",
    "\n",
    "for u in range(5):\n",
    "    for v in range(5):\n",
    "        data[u, v] = cosine(new_data.iloc[u].values, new_data.iloc[v].values)\n",
    "\n",
    "form_pank = pd.DataFrame(data, columns = names, index = names)\n",
    "\n",
    "form_pank"
   ]
  },
  {
   "cell_type": "markdown",
   "metadata": {},
   "source": [
    "8\\. Напишите функцию, которая принимает на вход `pd.DataFrame`, полученный в задании 7, и возвращает в виде кортежа названия двух различных рецептов, которые являются наиболее похожими. Прокомментируйте результат (в виде текстового комментария). Для объяснения результата сравните слова в описаниях двух этих отзывов."
   ]
  },
  {
   "cell_type": "code",
   "execution_count": 310,
   "metadata": {},
   "outputs": [
    {
     "name": "stdout",
     "output_type": "stream",
     "text": [
      "Нежные куриные оладьи ,  Тыквенные оладьи с бананами\n",
      "\n",
      "Описание 1: нежные сочные оладьи и очень очень очень вкусные\n",
      "\n",
      "Описание 2: попробуйте приготовить вкусные оладьи из тыквы и банана тыквенные оладушки получаются очень нежными и ароматными рекомендую на завтрак или полдник для всей семьи\n"
     ]
    }
   ],
   "source": [
    "def find_closest(sim_df: pd.DataFrame) -> tuple:\n",
    "    ind1, ind2 = np.where(sim_df == sim_df[sim_df > 0].min().min())[0]\n",
    "    return([sim_df.index[ind1], sim_df.index[ind2]])\n",
    "                   \n",
    "name1, name2 = find_closest(form_pank)\n",
    "\n",
    "print(name1, ', ', name2)\n",
    "\n",
    "desc1 = recipes[recipes['name'] == name1]['description'].values[0]\n",
    "desc2 = recipes[recipes['name'] == name2]['description'].values[0]\n",
    "\n",
    "print('\\nОписание 1:', desc1)\n",
    "print('\\nОписание 2:', desc2)"
   ]
  },
  {
   "cell_type": "code",
   "execution_count": 282,
   "metadata": {},
   "outputs": [],
   "source": [
    "#Косинусное расстояние показывает, чем ближе число к 0, тем более похожи фразы между собой\n",
    "#Соответственно при значении ~0,8 (полученный пример) фразы мало похожи между собой и содержат несколько общих слов\n",
    "\n",
    "#В данном примере общие слова это: очень, вкусные, оладьи, и"
   ]
  },
  {
   "cell_type": "code",
   "execution_count": null,
   "metadata": {},
   "outputs": [],
   "source": []
  },
  {
   "cell_type": "markdown",
   "metadata": {},
   "source": [
    "### Это были эксперименты"
   ]
  },
  {
   "cell_type": "code",
   "execution_count": 311,
   "metadata": {
    "collapsed": true
   },
   "outputs": [
    {
     "ename": "KeyError",
     "evalue": "'word'",
     "output_type": "error",
     "traceback": [
      "\u001b[1;31m---------------------------------------------------------------------------\u001b[0m",
      "\u001b[1;31mKeyError\u001b[0m                                  Traceback (most recent call last)",
      "File \u001b[1;32mC:\\Python\\envs\\Python_new\\lib\\site-packages\\pandas\\core\\indexes\\base.py:3800\u001b[0m, in \u001b[0;36mIndex.get_loc\u001b[1;34m(self, key, method, tolerance)\u001b[0m\n\u001b[0;32m   3799\u001b[0m \u001b[38;5;28;01mtry\u001b[39;00m:\n\u001b[1;32m-> 3800\u001b[0m     \u001b[38;5;28;01mreturn\u001b[39;00m \u001b[38;5;28;43mself\u001b[39;49m\u001b[38;5;241;43m.\u001b[39;49m\u001b[43m_engine\u001b[49m\u001b[38;5;241;43m.\u001b[39;49m\u001b[43mget_loc\u001b[49m\u001b[43m(\u001b[49m\u001b[43mcasted_key\u001b[49m\u001b[43m)\u001b[49m\n\u001b[0;32m   3801\u001b[0m \u001b[38;5;28;01mexcept\u001b[39;00m \u001b[38;5;167;01mKeyError\u001b[39;00m \u001b[38;5;28;01mas\u001b[39;00m err:\n",
      "File \u001b[1;32mC:\\Python\\envs\\Python_new\\lib\\site-packages\\pandas\\_libs\\index.pyx:138\u001b[0m, in \u001b[0;36mpandas._libs.index.IndexEngine.get_loc\u001b[1;34m()\u001b[0m\n",
      "File \u001b[1;32mC:\\Python\\envs\\Python_new\\lib\\site-packages\\pandas\\_libs\\index.pyx:165\u001b[0m, in \u001b[0;36mpandas._libs.index.IndexEngine.get_loc\u001b[1;34m()\u001b[0m\n",
      "File \u001b[1;32mpandas\\_libs\\hashtable_class_helper.pxi:5745\u001b[0m, in \u001b[0;36mpandas._libs.hashtable.PyObjectHashTable.get_item\u001b[1;34m()\u001b[0m\n",
      "File \u001b[1;32mpandas\\_libs\\hashtable_class_helper.pxi:5753\u001b[0m, in \u001b[0;36mpandas._libs.hashtable.PyObjectHashTable.get_item\u001b[1;34m()\u001b[0m\n",
      "\u001b[1;31mKeyError\u001b[0m: 'word'",
      "\nThe above exception was the direct cause of the following exception:\n",
      "\u001b[1;31mKeyError\u001b[0m                                  Traceback (most recent call last)",
      "Input \u001b[1;32mIn [311]\u001b[0m, in \u001b[0;36m<cell line: 1>\u001b[1;34m()\u001b[0m\n\u001b[1;32m----> 1\u001b[0m \u001b[38;5;28mprint\u001b[39m(\u001b[43mwords_df\u001b[49m\u001b[43m[\u001b[49m\u001b[43m:\u001b[49m\u001b[38;5;241;43m5\u001b[39;49m\u001b[43m]\u001b[49m\u001b[43m[\u001b[49m\u001b[38;5;124;43m'\u001b[39;49m\u001b[38;5;124;43mword\u001b[39;49m\u001b[38;5;124;43m'\u001b[39;49m\u001b[43m]\u001b[49m)\n\u001b[0;32m      2\u001b[0m lemmatizator \u001b[38;5;241m=\u001b[39m pymorphy2\u001b[38;5;241m.\u001b[39mMorphAnalyzer()\n\u001b[0;32m      4\u001b[0m start_time \u001b[38;5;241m=\u001b[39m time\u001b[38;5;241m.\u001b[39mtime()\n",
      "File \u001b[1;32mC:\\Python\\envs\\Python_new\\lib\\site-packages\\pandas\\core\\frame.py:3805\u001b[0m, in \u001b[0;36mDataFrame.__getitem__\u001b[1;34m(self, key)\u001b[0m\n\u001b[0;32m   3803\u001b[0m \u001b[38;5;28;01mif\u001b[39;00m \u001b[38;5;28mself\u001b[39m\u001b[38;5;241m.\u001b[39mcolumns\u001b[38;5;241m.\u001b[39mnlevels \u001b[38;5;241m>\u001b[39m \u001b[38;5;241m1\u001b[39m:\n\u001b[0;32m   3804\u001b[0m     \u001b[38;5;28;01mreturn\u001b[39;00m \u001b[38;5;28mself\u001b[39m\u001b[38;5;241m.\u001b[39m_getitem_multilevel(key)\n\u001b[1;32m-> 3805\u001b[0m indexer \u001b[38;5;241m=\u001b[39m \u001b[38;5;28;43mself\u001b[39;49m\u001b[38;5;241;43m.\u001b[39;49m\u001b[43mcolumns\u001b[49m\u001b[38;5;241;43m.\u001b[39;49m\u001b[43mget_loc\u001b[49m\u001b[43m(\u001b[49m\u001b[43mkey\u001b[49m\u001b[43m)\u001b[49m\n\u001b[0;32m   3806\u001b[0m \u001b[38;5;28;01mif\u001b[39;00m is_integer(indexer):\n\u001b[0;32m   3807\u001b[0m     indexer \u001b[38;5;241m=\u001b[39m [indexer]\n",
      "File \u001b[1;32mC:\\Python\\envs\\Python_new\\lib\\site-packages\\pandas\\core\\indexes\\base.py:3802\u001b[0m, in \u001b[0;36mIndex.get_loc\u001b[1;34m(self, key, method, tolerance)\u001b[0m\n\u001b[0;32m   3800\u001b[0m     \u001b[38;5;28;01mreturn\u001b[39;00m \u001b[38;5;28mself\u001b[39m\u001b[38;5;241m.\u001b[39m_engine\u001b[38;5;241m.\u001b[39mget_loc(casted_key)\n\u001b[0;32m   3801\u001b[0m \u001b[38;5;28;01mexcept\u001b[39;00m \u001b[38;5;167;01mKeyError\u001b[39;00m \u001b[38;5;28;01mas\u001b[39;00m err:\n\u001b[1;32m-> 3802\u001b[0m     \u001b[38;5;28;01mraise\u001b[39;00m \u001b[38;5;167;01mKeyError\u001b[39;00m(key) \u001b[38;5;28;01mfrom\u001b[39;00m \u001b[38;5;21;01merr\u001b[39;00m\n\u001b[0;32m   3803\u001b[0m \u001b[38;5;28;01mexcept\u001b[39;00m \u001b[38;5;167;01mTypeError\u001b[39;00m:\n\u001b[0;32m   3804\u001b[0m     \u001b[38;5;66;03m# If we have a listlike key, _check_indexing_error will raise\u001b[39;00m\n\u001b[0;32m   3805\u001b[0m     \u001b[38;5;66;03m#  InvalidIndexError. Otherwise we fall through and re-raise\u001b[39;00m\n\u001b[0;32m   3806\u001b[0m     \u001b[38;5;66;03m#  the TypeError.\u001b[39;00m\n\u001b[0;32m   3807\u001b[0m     \u001b[38;5;28mself\u001b[39m\u001b[38;5;241m.\u001b[39m_check_indexing_error(key)\n",
      "\u001b[1;31mKeyError\u001b[0m: 'word'"
     ]
    }
   ],
   "source": [
    "print(words_df[:5]['word'])\n",
    "lemmatizator = pymorphy2.MorphAnalyzer()\n",
    "\n",
    "start_time = time.time()\n",
    "words_exp = words_df[:100]['word'].apply(lambda x: pymorphy2.MorphAnalyzer().parse(x)[0].normal_form)\n",
    "print('words_exp', time.time() - start_time)\n",
    "\n",
    "start_time = time.time()\n",
    "print(len(words), type(words))\n",
    "#data = words_df[:100]['word'].values\n",
    "words_exp = [lemmatizator.parse(x)[0].normal_form for x in words[:100]]\n",
    "\n",
    "print('words_exp', time.time() - start_time)\n",
    "\n",
    "start_time = time.time()\n",
    "words_exp = words_df[:100]['word'].apply(lambda x: WordNetLemmatizer().lemmatize(x))\n",
    "\n",
    "print(words_exp, time.time() - start_time)"
   ]
  },
  {
   "cell_type": "code",
   "execution_count": null,
   "metadata": {},
   "outputs": [],
   "source": []
  }
 ],
 "metadata": {
  "kernelspec": {
   "display_name": "Python 3 (ipykernel)",
   "language": "python",
   "name": "python3"
  },
  "language_info": {
   "codemirror_mode": {
    "name": "ipython",
    "version": 3
   },
   "file_extension": ".py",
   "mimetype": "text/x-python",
   "name": "python",
   "nbconvert_exporter": "python",
   "pygments_lexer": "ipython3",
   "version": "3.8.13"
  }
 },
 "nbformat": 4,
 "nbformat_minor": 4
}
