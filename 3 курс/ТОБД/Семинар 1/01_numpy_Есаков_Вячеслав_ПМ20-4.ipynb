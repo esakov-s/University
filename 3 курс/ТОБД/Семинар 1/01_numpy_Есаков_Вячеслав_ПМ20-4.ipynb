{
 "cells": [
  {
   "cell_type": "markdown",
   "metadata": {},
   "source": [
    "# Numpy"
   ]
  },
  {
   "cell_type": "markdown",
   "metadata": {},
   "source": [
    "Материалы:\n",
    "* Макрушин С.В. \"Лекция 1: Библиотека Numpy\"\n",
    "* https://numpy.org/doc/stable/user/index.html\n",
    "* https://numpy.org/doc/stable/reference/index.html\n",
    "* Уэс Маккини. Python и анализ данных"
   ]
  },
  {
   "cell_type": "markdown",
   "metadata": {},
   "source": [
    "## Задачи для совместного разбора"
   ]
  },
  {
   "cell_type": "markdown",
   "metadata": {},
   "source": [
    "1. Сгенерировать двухмерный массив `arr` размерности (4, 7), состоящий из случайных действительных чисел, равномерно распределенных в диапазоне от 0 до 20. Нормализовать значения массива с помощью преобразования вида  $𝑎𝑥+𝑏$  так, что после нормализации максимальный элемент масcива будет равен 1.0, минимальный 0.0"
   ]
  },
  {
   "cell_type": "code",
   "execution_count": 177,
   "metadata": {},
   "outputs": [
    {
     "data": {
      "text/plain": [
       "array([[0.63299653, 0.41321101, 0.04086536, 0.45895207, 0.66431731,\n",
       "        0.11057954, 0.61895272],\n",
       "       [0.16198165, 0.91799139, 0.50210157, 0.27382068, 0.19423692,\n",
       "        0.56072449, 0.58900569],\n",
       "       [0.51978804, 0.53097304, 0.0144278 , 0.        , 0.81383819,\n",
       "        0.23506928, 0.24010035],\n",
       "       [0.58623841, 0.03721053, 0.85383079, 1.        , 0.40365524,\n",
       "        0.50947087, 0.03389149]])"
      ]
     },
     "execution_count": 177,
     "metadata": {},
     "output_type": "execute_result"
    }
   ],
   "source": [
    "arr = np.random.uniform(0, 21, size=(4, 7))\n",
    "\n",
    "arr = (arr - np.min(arr))/(np.max(arr) - np.min(arr))\n",
    "\n",
    "arr"
   ]
  },
  {
   "cell_type": "markdown",
   "metadata": {},
   "source": [
    "2. Создать матрицу 8 на 10 из случайных целых (используя модуль `numpy.random`) чисел из диапозона от 0 до 10 и найти в ней строку (ее индекс и вывести саму строку), в которой сумма значений минимальна."
   ]
  },
  {
   "cell_type": "code",
   "execution_count": 178,
   "metadata": {},
   "outputs": [
    {
     "name": "stdout",
     "output_type": "stream",
     "text": [
      "[[ 4  3  7 10  5  9  9  1  8  5]\n",
      " [ 3  7  7  4  0 10  8  0  2  4]\n",
      " [ 1  4 10  3  4  7  4  3  5  0]\n",
      " [10  0  7  5  7  7  2  5  0  5]\n",
      " [ 4  7  6  5  7  5  1  8  0  7]\n",
      " [ 6  0  8  6  1  2  6  7  9 10]\n",
      " [ 9  1  0  9  3  5  2  5  8  1]\n",
      " [ 4  0  3  8 10  9  0  1  7  7]] \n",
      "\n",
      "2 [ 1  4 10  3  4  7  4  3  5  0]\n"
     ]
    }
   ],
   "source": [
    "matr = np.random.randint(11, size=(8, 10))\n",
    "\n",
    "ma = matr.sum(axis = 1)\n",
    "\n",
    "print(matr, '\\n')\n",
    "print(np.argmin(ma), matr[np.argmin(ma)])"
   ]
  },
  {
   "cell_type": "markdown",
   "metadata": {},
   "source": [
    "3. Найти евклидово расстояние между двумя одномерными векторами одинаковой размерности."
   ]
  },
  {
   "cell_type": "code",
   "execution_count": 179,
   "metadata": {},
   "outputs": [
    {
     "name": "stdout",
     "output_type": "stream",
     "text": [
      "2.0\n"
     ]
    }
   ],
   "source": [
    "vect1 = np.array([1, 2, 3])\n",
    "vect2 = np.array([1, 4, 3])\n",
    "\n",
    "print(np.sqrt(sum((vect1 - vect2) ** 2)))"
   ]
  },
  {
   "cell_type": "markdown",
   "metadata": {},
   "source": [
    "4. Решить матричное уравнение `A*X*B=-C` - найти матрицу `X`. Где `A = [[-1, 2, 4], [-3, 1, 2], [-3, 0, 1]]`, `B=[[3, -1], [2, 1]]`, `C=[[7, 21], [11, 8], [8, 4]]`."
   ]
  },
  {
   "cell_type": "code",
   "execution_count": 180,
   "metadata": {},
   "outputs": [],
   "source": [
    "A = np.array([[-1, 2, 4], [-3, 1, 2], [-3, 0, 1]])\n",
    "B = np.array([[3, -1], [2, 1]])\n",
    "C = np.array([[7, 21], [11, 8], [8, 4]])\n",
    "\n",
    "X = -np.linalg.inv(A) @ C @ np.linalg.inv(B)\n",
    "\n"
   ]
  },
  {
   "cell_type": "markdown",
   "metadata": {},
   "source": [
    "## Лабораторная работа №1"
   ]
  },
  {
   "cell_type": "markdown",
   "metadata": {},
   "source": [
    "__При решении данных задач не подразумевается использования циклов или генераторов Python, если в задании не сказано обратного. Решение должно опираться на использования функционала библиотеки `numpy`.__"
   ]
  },
  {
   "cell_type": "markdown",
   "metadata": {},
   "source": [
    "1. Файл `minutes_n_ingredients.csv` содержит информацию об идентификаторе рецепта, времени его выполнения в минутах и количестве необходимых ингредиентов. Считайте данные из этого файла в виде массива `numpy` типа `int32`, используя `np.loadtxt`. Выведите на экран первые 5 строк массива."
   ]
  },
  {
   "cell_type": "code",
   "execution_count": 181,
   "metadata": {},
   "outputs": [
    {
     "data": {
      "text/plain": [
       "array([[127244,     60,     16],\n",
       "       [ 23891,     25,      7],\n",
       "       [ 94746,     10,      6],\n",
       "       [ 67660,      5,      6],\n",
       "       [157911,     60,     14]])"
      ]
     },
     "execution_count": 181,
     "metadata": {},
     "output_type": "execute_result"
    }
   ],
   "source": [
    "data = np.loadtxt('minutes_n_ingredients.csv', dtype = 'int32', delimiter = ',', skiprows = 1)\n",
    "\n",
    "data[:5]"
   ]
  },
  {
   "cell_type": "markdown",
   "metadata": {},
   "source": [
    "2. Вычислите среднее значение, минимум, максимум и медиану по каждому из столбцов, кроме первого."
   ]
  },
  {
   "cell_type": "code",
   "execution_count": 182,
   "metadata": {},
   "outputs": [
    {
     "name": "stdout",
     "output_type": "stream",
     "text": [
      "[2.16010017e+04 9.05528000e+00]\n",
      "[2147483647         39]\n",
      "[0 1]\n",
      "[40.  9.]\n"
     ]
    }
   ],
   "source": [
    "var = np.average(data[:, 1:], axis = 0)\n",
    "max1 = np.max(data[:, 1:], axis = 0)\n",
    "min1 = np.min(data[:, 1:], axis = 0)\n",
    "med = np.median(data[:, 1:], axis = 0)\n",
    "\n",
    "print(var, max1, min1, med, sep = '\\n')"
   ]
  },
  {
   "cell_type": "markdown",
   "metadata": {},
   "source": [
    "3. Выберите случайным образом и выведите информацию о 10 различных рецептах"
   ]
  },
  {
   "cell_type": "code",
   "execution_count": 183,
   "metadata": {},
   "outputs": [
    {
     "data": {
      "text/plain": [
       "array([[ 83155,     75,      9],\n",
       "       [364633,     30,      9],\n",
       "       [169402,    500,      9],\n",
       "       [281049,     50,      7],\n",
       "       [100062,    170,     16],\n",
       "       [111998,     25,      9],\n",
       "       [282920,     55,     12],\n",
       "       [  4344,     15,     11],\n",
       "       [390290,      5,      4],\n",
       "       [354743,     45,      7]])"
      ]
     },
     "execution_count": 183,
     "metadata": {},
     "output_type": "execute_result"
    }
   ],
   "source": [
    "data[np.random.choice(np.array(range(1, len(data))), 10)]"
   ]
  },
  {
   "cell_type": "markdown",
   "metadata": {},
   "source": [
    "4. Создайте версию массива, содержащую информацию только о рецептах, состоящих не более чем из 5 ингредиентов."
   ]
  },
  {
   "cell_type": "code",
   "execution_count": 184,
   "metadata": {},
   "outputs": [
    {
     "data": {
      "text/plain": [
       "array([[446597,     15,      5],\n",
       "       [204134,      5,      3],\n",
       "       [ 25623,      6,      4],\n",
       "       ...,\n",
       "       [ 52088,     60,      5],\n",
       "       [128811,     15,      4],\n",
       "       [370915,      5,      4]])"
      ]
     },
     "execution_count": 184,
     "metadata": {},
     "output_type": "execute_result"
    }
   ],
   "source": [
    "data_cutted = data[data[:,2] <= 5]\n",
    "\n",
    "data_cutted"
   ]
  },
  {
   "cell_type": "markdown",
   "metadata": {},
   "source": [
    "5. Выведите процент рецептов, кол-во ингредиентов в которых меньше среднего."
   ]
  },
  {
   "cell_type": "code",
   "execution_count": 185,
   "metadata": {},
   "outputs": [
    {
     "data": {
      "text/plain": [
       "88.292"
      ]
     },
     "execution_count": 185,
     "metadata": {},
     "output_type": "execute_result"
    }
   ],
   "source": [
    "kol = np.var(data[:, 2])\n",
    "\n",
    "len(data[data[:, 2] < kol]) / len(data) * 100"
   ]
  },
  {
   "cell_type": "markdown",
   "metadata": {},
   "source": [
    "6. Вычислите значение $q_{0.75}$ третьего квартиля продолжительности выполнения рецепта. Замените в этом столбце значения, большие чем $q_{0.75}$ на величину $q_{0.75}$."
   ]
  },
  {
   "cell_type": "code",
   "execution_count": 186,
   "metadata": {},
   "outputs": [
    {
     "name": "stdout",
     "output_type": "stream",
     "text": [
      "65.0\n"
     ]
    },
    {
     "data": {
      "text/plain": [
       "array([[127244,     60,     16],\n",
       "       [ 23891,     25,      7],\n",
       "       [ 94746,     10,      6],\n",
       "       ...,\n",
       "       [498432,     65,     15],\n",
       "       [370915,      5,      4],\n",
       "       [ 81993,     65,     14]])"
      ]
     },
     "execution_count": 186,
     "metadata": {},
     "output_type": "execute_result"
    }
   ],
   "source": [
    "q_75 = np.quantile(data[:, 1], 0.75)\n",
    "\n",
    "print(q_75)\n",
    "\n",
    "\n",
    "data[data[:, 1] > 65, 1] = q_75\n",
    "data"
   ]
  },
  {
   "cell_type": "markdown",
   "metadata": {},
   "source": [
    "7. Посчитайте, для скольких рецептов исходного массива указана продолжительность, равная нулю. Модифицируйте исходный массив, заменив для таких строк значение в данном столбце на 1."
   ]
  },
  {
   "cell_type": "code",
   "execution_count": 187,
   "metadata": {},
   "outputs": [
    {
     "name": "stdout",
     "output_type": "stream",
     "text": [
      "479.0\n"
     ]
    },
    {
     "data": {
      "text/plain": [
       "array([[127244,     60,     16],\n",
       "       [ 23891,     25,      7],\n",
       "       [ 94746,     10,      6],\n",
       "       ...,\n",
       "       [498432,     65,     15],\n",
       "       [370915,      5,      4],\n",
       "       [ 81993,     65,     14]])"
      ]
     },
     "execution_count": 187,
     "metadata": {},
     "output_type": "execute_result"
    }
   ],
   "source": [
    "print(np.size(data[data[:, 1] == 0]) / 3)\n",
    "\n",
    "data[data[:, 1] == 0, 1] = 1\n",
    "data"
   ]
  },
  {
   "cell_type": "markdown",
   "metadata": {},
   "source": [
    "8. Найдите множество возможных значений величины количества ингредиентов и количество вхождений каждого из уникальных значений в набор данных. Используя `numpy.isin`, выясните, какие числа из отрезка [1, 41] отсуствуют в данном множестве и выведите их на экран. "
   ]
  },
  {
   "cell_type": "code",
   "execution_count": 188,
   "metadata": {},
   "outputs": [
    {
     "name": "stdout",
     "output_type": "stream",
     "text": [
      "[[    1    13]\n",
      " [    2   926]\n",
      " [    3  2895]\n",
      " [    4  5515]\n",
      " [    5  7913]\n",
      " [    6  9376]\n",
      " [    7 10628]\n",
      " [    8 10951]\n",
      " [    9 10585]\n",
      " [   10  9591]\n",
      " [   11  8297]\n",
      " [   12  6605]\n",
      " [   13  4997]\n",
      " [   14  3663]\n",
      " [   15  2595]\n",
      " [   16  1767]\n",
      " [   17  1246]\n",
      " [   18   790]\n",
      " [   19   573]\n",
      " [   20   376]\n",
      " [   21   217]\n",
      " [   22   161]\n",
      " [   23   105]\n",
      " [   24    69]\n",
      " [   25    50]\n",
      " [   26    28]\n",
      " [   27    16]\n",
      " [   28    16]\n",
      " [   29    12]\n",
      " [   30    12]\n",
      " [   31     3]\n",
      " [   32     1]\n",
      " [   33     2]\n",
      " [   34     1]\n",
      " [   35     3]\n",
      " [   37     1]\n",
      " [   39     1]]\n"
     ]
    },
    {
     "data": {
      "text/plain": [
       "[35, 37, 39, 40]"
      ]
     },
     "execution_count": 188,
     "metadata": {},
     "output_type": "execute_result"
    }
   ],
   "source": [
    "number, quantity = np.unique(data[:,2], return_counts = True)\n",
    "print(np.asarray(np.c_[number, quantity]))\n",
    "\n",
    "not_included = np.where(np.isin(np.linspace(1,41, 41, dtype = int), number) == False)[0]\n",
    "not_included.tolist()"
   ]
  },
  {
   "cell_type": "markdown",
   "metadata": {},
   "source": [
    "9. Для каждого рецепта посчитайте, сколько в среднем ингредиентов приходится на одну минуту рецепта. Найдите максимальное значение этой величины для всего датасета."
   ]
  },
  {
   "cell_type": "code",
   "execution_count": 189,
   "metadata": {},
   "outputs": [],
   "source": [
    "example = np.array(data[:,2] / data[:,1]).reshape(int(np.size(data) / 3), 1)\n",
    "data = np.c_[data, example]"
   ]
  },
  {
   "cell_type": "code",
   "execution_count": 192,
   "metadata": {},
   "outputs": [
    {
     "name": "stdout",
     "output_type": "stream",
     "text": [
      "[[1.27244000e+05 6.00000000e+01 1.60000000e+01 2.66666667e-01]\n",
      " [2.38910000e+04 2.50000000e+01 7.00000000e+00 2.80000000e-01]\n",
      " [9.47460000e+04 1.00000000e+01 6.00000000e+00 6.00000000e-01]\n",
      " ...\n",
      " [4.98432000e+05 6.50000000e+01 1.50000000e+01 2.30769231e-01]\n",
      " [3.70915000e+05 5.00000000e+00 4.00000000e+00 8.00000000e-01]\n",
      " [8.19930000e+04 6.50000000e+01 1.40000000e+01 2.15384615e-01]]\n",
      "24.0\n"
     ]
    }
   ],
   "source": [
    "print(data)\n",
    "print(np.max(data[:, 3]))"
   ]
  },
  {
   "cell_type": "markdown",
   "metadata": {},
   "source": [
    "10. Вычислите среднее количество ингредиентов для топ-100 рецептов с наибольшей продолжительностью"
   ]
  },
  {
   "cell_type": "code",
   "execution_count": 196,
   "metadata": {},
   "outputs": [
    {
     "name": "stdout",
     "output_type": "stream",
     "text": [
      "9.96\n"
     ]
    }
   ],
   "source": [
    "top_100 = data[np.argsort(data[:, 1])]\n",
    "top_100 = top_100[-1:-101:-1]\n",
    "#print(top_100)\n",
    "\n",
    "print(np.average(top_100[:,2]))"
   ]
  },
  {
   "cell_type": "markdown",
   "metadata": {},
   "source": [
    "11. Назовем \"простым\" такой рецепт, длительность выполнения которого не больше 20 минут и кол-во ингредиентов в котором не больше 5. Создайте версию датасета с дополнительным столбцом, значениями которого являются 1, если рецепт простой, и 0 в противном случае. Выведите процент \"простых\" рецептов в датасете."
   ]
  },
  {
   "cell_type": "code",
   "execution_count": 145,
   "metadata": {},
   "outputs": [
    {
     "name": "stdout",
     "output_type": "stream",
     "text": [
      "[0 0 0 ... 0 1 0]\n"
     ]
    }
   ],
   "source": [
    "simple = np.copy(data)\n",
    "mask = (simple[:,1] <= 20) & (simple[:,2] <= 5)\n",
    "print(np.array(mask, dtype = int))\n",
    "simple = np.c_[simple, mask]"
   ]
  },
  {
   "cell_type": "code",
   "execution_count": 158,
   "metadata": {},
   "outputs": [
    {
     "name": "stdout",
     "output_type": "stream",
     "text": [
      "[[1.27244000e+05 6.00000000e+01 1.60000000e+01 2.66666667e-01\n",
      "  0.00000000e+00]\n",
      " [2.38910000e+04 2.50000000e+01 7.00000000e+00 2.80000000e-01\n",
      "  0.00000000e+00]\n",
      " [9.47460000e+04 1.00000000e+01 6.00000000e+00 6.00000000e-01\n",
      "  0.00000000e+00]\n",
      " ...\n",
      " [4.98432000e+05 6.50000000e+01 1.50000000e+01 2.30769231e-01\n",
      "  0.00000000e+00]\n",
      " [3.70915000e+05 5.00000000e+00 4.00000000e+00 8.00000000e-01\n",
      "  1.00000000e+00]\n",
      " [8.19930000e+04 6.50000000e+01 1.40000000e+01 2.15384615e-01\n",
      "  0.00000000e+00]]\n",
      "9.552 %\n"
     ]
    }
   ],
   "source": [
    "print(simple)\n",
    "print(len(simple[simple[:, 4] == 1]) / len(simple) * 100, '%')"
   ]
  },
  {
   "cell_type": "markdown",
   "metadata": {},
   "source": [
    "12. Разделим рецепты на группы по следующему правилу. Назовем рецепты короткими, если их продолжительность составляет менее 10 минут; стандартными, если их продолжительность составляет не менее 10, но менее 20 минут; и длинными, если их продолжительность составляет не менее 20 минут. Создайте трехмерный массив, где нулевая ось отвечает за номер группы (короткий, стандартный или длинный рецепт), первая ось - за сам рецепт и вторая ось - за характеристики рецепта. Выберите максимальное количество рецептов из каждой группы таким образом, чтобы было возможно сформировать трехмерный массив. Выведите форму полученного массива."
   ]
  },
  {
   "cell_type": "code",
   "execution_count": 172,
   "metadata": {},
   "outputs": [
    {
     "data": {
      "text/plain": [
       "array([[[6.76600000e+04, 5.00000000e+00, 6.00000000e+00, 1.20000000e+00],\n",
       "        [3.66174000e+05, 7.00000000e+00, 9.00000000e+00, 1.28571429e+00],\n",
       "        [2.04134000e+05, 5.00000000e+00, 3.00000000e+00, 6.00000000e-01],\n",
       "        ...,\n",
       "        [4.20725000e+05, 5.00000000e+00, 3.00000000e+00, 6.00000000e-01],\n",
       "        [4.74700000e+03, 1.00000000e+00, 9.00000000e+00, 9.00000000e+00],\n",
       "        [3.70915000e+05, 5.00000000e+00, 4.00000000e+00, 8.00000000e-01]],\n",
       "\n",
       "       [[9.47460000e+04, 1.00000000e+01, 6.00000000e+00, 6.00000000e-01],\n",
       "        [3.39410000e+04, 1.80000000e+01, 9.00000000e+00, 5.00000000e-01],\n",
       "        [4.46597000e+05, 1.50000000e+01, 5.00000000e+00, 3.33333333e-01],\n",
       "        ...,\n",
       "        [3.31810000e+05, 1.30000000e+01, 1.20000000e+01, 9.23076923e-01],\n",
       "        [2.75677000e+05, 1.50000000e+01, 8.00000000e+00, 5.33333333e-01],\n",
       "        [2.82714000e+05, 1.50000000e+01, 6.00000000e+00, 4.00000000e-01]],\n",
       "\n",
       "       [[1.27244000e+05, 6.00000000e+01, 1.60000000e+01, 2.66666667e-01],\n",
       "        [2.38910000e+04, 2.50000000e+01, 7.00000000e+00, 2.80000000e-01],\n",
       "        [1.57911000e+05, 6.00000000e+01, 1.40000000e+01, 2.33333333e-01],\n",
       "        ...,\n",
       "        [2.45490000e+04, 6.50000000e+01, 6.00000000e+00, 9.23076923e-02],\n",
       "        [4.49468000e+05, 5.00000000e+01, 1.10000000e+01, 2.20000000e-01],\n",
       "        [2.88300000e+04, 6.50000000e+01, 1.30000000e+01, 2.00000000e-01]]])"
      ]
     },
     "execution_count": 172,
     "metadata": {},
     "output_type": "execute_result"
    }
   ],
   "source": [
    "time_10 = data[data[:, 1] < 10]\n",
    "time_10_20 = data[np.where((data[:,1] >= 10) & (data[:,1] <= 20))[0]]\n",
    "time_20 = data[data[:, 1] > 20]\n",
    "\n",
    "total_size = np.min([len(time_10), len(time_10_20), len(time_20)])\n",
    "\n",
    "grouped_data = np.array([time_10[:total_size], time_10_20[:total_size], time_20[:total_size]])\n",
    "grouped_data"
   ]
  },
  {
   "cell_type": "code",
   "execution_count": 173,
   "metadata": {},
   "outputs": [
    {
     "data": {
      "text/plain": [
       "(3, 7588, 4)"
      ]
     },
     "execution_count": 173,
     "metadata": {},
     "output_type": "execute_result"
    }
   ],
   "source": [
    "np.shape(grouped_data)"
   ]
  },
  {
   "cell_type": "markdown",
   "metadata": {},
   "source": [
    "13. Пусть в среднем одна минута работы повара стоит ресторану 5 ед., а средняя стоимость одного ингредиента составляет 10 ед. \n",
    "Создайте вектор-столбец `numpy`, содержащий данную информацию. Посчитайте среднюю стоимость приготовления для каждого из первых 10 рецептов в наборе данных."
   ]
  },
  {
   "cell_type": "code",
   "execution_count": 235,
   "metadata": {},
   "outputs": [
    {
     "name": "stdout",
     "output_type": "stream",
     "text": [
      "[460. 195. 110.  85. 440. 270. 180. 125. 125. 170.]\n"
     ]
    }
   ],
   "source": [
    "example_data_1 = data\n",
    "\n",
    "cost = 5 * example_data_1[:, 1] + 10 * example_data_1[:, 2]\n",
    "#print(np.shape(cost))\n",
    "\n",
    "data_and_price = np.append(example_data_1, cost.reshape(len(cost), 1), axis = 1)\n",
    "\n",
    "\n",
    "#Это без учёта группировки\n",
    "print(data_and_price[:10, 4])"
   ]
  },
  {
   "cell_type": "code",
   "execution_count": 236,
   "metadata": {},
   "outputs": [
    {
     "name": "stdout",
     "output_type": "stream",
     "text": [
      "[ 83.5 145.  368. ]\n"
     ]
    }
   ],
   "source": [
    "example_data = grouped_data\n",
    "\n",
    "cost = 5 * example_data[:, :, 1] + 10 * example_data[:, :, 2]\n",
    "#print(np.shape(cost))\n",
    "\n",
    "data_and_price = np.append(example_data, cost.reshape(3, int(np.size(cost) / 3), 1), axis = 2)\n",
    "#print(data_and_price[0:10])\n",
    "\n",
    "#Это для случая с 12 задачей\n",
    "print(np.average(data_and_price[:, :10, 4], axis = 1))"
   ]
  },
  {
   "cell_type": "code",
   "execution_count": 1,
   "metadata": {},
   "outputs": [],
   "source": [
    "import numpy as np\n",
    "import pandas"
   ]
  }
 ],
 "metadata": {
  "kernelspec": {
   "display_name": "Python 3",
   "language": "python",
   "name": "python3"
  },
  "language_info": {
   "codemirror_mode": {
    "name": "ipython",
    "version": 3
   },
   "file_extension": ".py",
   "mimetype": "text/x-python",
   "name": "python",
   "nbconvert_exporter": "python",
   "pygments_lexer": "ipython3",
   "version": "3.8.3"
  }
 },
 "nbformat": 4,
 "nbformat_minor": 4
}
