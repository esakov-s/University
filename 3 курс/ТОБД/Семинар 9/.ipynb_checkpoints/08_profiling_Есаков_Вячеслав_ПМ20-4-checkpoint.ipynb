{
 "cells": [
  {
   "cell_type": "markdown",
   "metadata": {},
   "source": [
    "# Оптимизация выполнения кода, векторизация, Numba"
   ]
  },
  {
   "cell_type": "markdown",
   "metadata": {},
   "source": [
    "__Автор задач: Блохин Н.В. (NVBlokhin@fa.ru)__\n",
    "\n",
    "Материалы:\n",
    "* Макрушин С.В. \"Оптимизация выполнения кода, векторизация, Numba\"\n",
    "* IPython Cookbook, Second Edition (2018), глава 4\n",
    "* https://ipython-books.github.io/43-profiling-your-code-line-by-line-with-line_profiler/\n",
    "* https://numba.pydata.org/numba-doc/latest/user/5minguide.html\n",
    "* https://numba.readthedocs.io/en/stable/reference/deprecation.html#deprecation-of-reflection-for-list-and-set-types"
   ]
  },
  {
   "cell_type": "markdown",
   "metadata": {},
   "source": [
    "## Задачи для совместного разбора"
   ]
  },
  {
   "cell_type": "code",
   "execution_count": 29,
   "metadata": {},
   "outputs": [
    {
     "name": "stdout",
     "output_type": "stream",
     "text": [
      "Collecting git+https://github.com/pyutils/line_profiler.git\n",
      "  Cloning https://github.com/pyutils/line_profiler.git to c:\\users\\вячеслав\\appdata\\local\\temp\\pip-req-build-0m_gq_95\n",
      "  Resolved https://github.com/pyutils/line_profiler.git to commit 71db7da8432cceb0defa29b1b982b26451264b9b\n",
      "  Installing build dependencies: started\n",
      "  Installing build dependencies: finished with status 'done'\n",
      "  Getting requirements to build wheel: started\n",
      "  Getting requirements to build wheel: finished with status 'done'\n",
      "  Preparing metadata (pyproject.toml): started\n",
      "  Preparing metadata (pyproject.toml): finished with status 'done'\n",
      "Building wheels for collected packages: line-profiler\n",
      "  Building wheel for line-profiler (pyproject.toml): started\n",
      "  Building wheel for line-profiler (pyproject.toml): finished with status 'error'\n",
      "Failed to build line-profiler\n"
     ]
    },
    {
     "name": "stderr",
     "output_type": "stream",
     "text": [
      "  Running command git clone --filter=blob:none --quiet https://github.com/pyutils/line_profiler.git 'C:\\Users\\Вячеслав\\AppData\\Local\\Temp\\pip-req-build-0m_gq_95'\n",
      "  error: subprocess-exited-with-error\n",
      "  \n",
      "  Building wheel for line-profiler (pyproject.toml) did not run successfully.\n",
      "  exit code: 1\n",
      "  \n",
      "  [320 lines of output]\n",
      "  \n",
      "  \n",
      "  --------------------------------------------------------------------------------\n",
      "  -- Trying \"Ninja (Visual Studio 17 2022 x64 v143)\" generator\n",
      "  --------------------------------\n",
      "  ---------------------------\n",
      "  ----------------------\n",
      "  -----------------\n",
      "  ------------\n",
      "  -------\n",
      "  --\n",
      "  Not searching for unused variables given on the command line.\n",
      "  -- The C compiler identification is unknown\n",
      "  CMake Error at CMakeLists.txt:3 (ENABLE_LANGUAGE):\n",
      "    No CMAKE_C_COMPILER could be found.\n",
      "  \n",
      "    Tell CMake where to find the compiler by setting either the environment\n",
      "    variable \"CC\" or the CMake cache entry CMAKE_C_COMPILER to the full path to\n",
      "    the compiler, or to the compiler name if it is in the PATH.\n",
      "  \n",
      "  \n",
      "  -- Configuring incomplete, errors occurred!\n",
      "  See also \"C:/Users/Р’СЏС‡РµСЃР»Р°РІ/AppData/Local/Temp/pip-req-build-0m_gq_95/_cmake_test_compile/build/CMakeFiles/CMakeOutput.log\".\n",
      "  See also \"C:/Users/Р’СЏС‡РµСЃР»Р°РІ/AppData/Local/Temp/pip-req-build-0m_gq_95/_cmake_test_compile/build/CMakeFiles/CMakeError.log\".\n",
      "  --\n",
      "  -------\n",
      "  ------------\n",
      "  -----------------\n",
      "  ----------------------\n",
      "  ---------------------------\n",
      "  --------------------------------\n",
      "  -- Trying \"Ninja (Visual Studio 17 2022 x64 v143)\" generator - failure\n",
      "  --------------------------------------------------------------------------------\n",
      "  \n",
      "  \n",
      "  \n",
      "  --------------------------------------------------------------------------------\n",
      "  -- Trying \"Visual Studio 17 2022 x64 v143\" generator\n",
      "  --------------------------------\n",
      "  ---------------------------\n",
      "  ----------------------\n",
      "  -----------------\n",
      "  ------------\n",
      "  -------\n",
      "  --\n",
      "  Not searching for unused variables given on the command line.\n",
      "  CMake Error at CMakeLists.txt:2 (PROJECT):\n",
      "    Generator\n",
      "  \n",
      "      Visual Studio 17 2022\n",
      "  \n",
      "    could not find any instance of Visual Studio.\n",
      "  \n",
      "  \n",
      "  \n",
      "  -- Configuring incomplete, errors occurred!\n",
      "  See also \"C:/Users/Р’СЏС‡РµСЃР»Р°РІ/AppData/Local/Temp/pip-req-build-0m_gq_95/_cmake_test_compile/build/CMakeFiles/CMakeOutput.log\".\n",
      "  --\n",
      "  -------\n",
      "  ------------\n",
      "  -----------------\n",
      "  ----------------------\n",
      "  ---------------------------\n",
      "  --------------------------------\n",
      "  -- Trying \"Visual Studio 17 2022 x64 v143\" generator - failure\n",
      "  --------------------------------------------------------------------------------\n",
      "  \n",
      "  \n",
      "  \n",
      "  --------------------------------------------------------------------------------\n",
      "  -- Trying \"Ninja (Visual Studio 16 2019 x64 v142)\" generator\n",
      "  --------------------------------\n",
      "  ---------------------------\n",
      "  ----------------------\n",
      "  -----------------\n",
      "  ------------\n",
      "  -------\n",
      "  --\n",
      "  Not searching for unused variables given on the command line.\n",
      "  -- The C compiler identification is unknown\n",
      "  CMake Error at CMakeLists.txt:3 (ENABLE_LANGUAGE):\n",
      "    No CMAKE_C_COMPILER could be found.\n",
      "  \n",
      "    Tell CMake where to find the compiler by setting either the environment\n",
      "    variable \"CC\" or the CMake cache entry CMAKE_C_COMPILER to the full path to\n",
      "    the compiler, or to the compiler name if it is in the PATH.\n",
      "  \n",
      "  \n",
      "  -- Configuring incomplete, errors occurred!\n",
      "  See also \"C:/Users/Р’СЏС‡РµСЃР»Р°РІ/AppData/Local/Temp/pip-req-build-0m_gq_95/_cmake_test_compile/build/CMakeFiles/CMakeOutput.log\".\n",
      "  See also \"C:/Users/Р’СЏС‡РµСЃР»Р°РІ/AppData/Local/Temp/pip-req-build-0m_gq_95/_cmake_test_compile/build/CMakeFiles/CMakeError.log\".\n",
      "  --\n",
      "  -------\n",
      "  ------------\n",
      "  -----------------\n",
      "  ----------------------\n",
      "  ---------------------------\n",
      "  --------------------------------\n",
      "  -- Trying \"Ninja (Visual Studio 16 2019 x64 v142)\" generator - failure\n",
      "  --------------------------------------------------------------------------------\n",
      "  \n",
      "  \n",
      "  \n",
      "  --------------------------------------------------------------------------------\n",
      "  -- Trying \"Visual Studio 16 2019 x64 v142\" generator\n",
      "  --------------------------------\n",
      "  ---------------------------\n",
      "  ----------------------\n",
      "  -----------------\n",
      "  ------------\n",
      "  -------\n",
      "  --\n",
      "  Not searching for unused variables given on the command line.\n",
      "  CMake Error at CMakeLists.txt:2 (PROJECT):\n",
      "    Generator\n",
      "  \n",
      "      Visual Studio 16 2019\n",
      "  \n",
      "    could not find any instance of Visual Studio.\n",
      "  \n",
      "  \n",
      "  \n",
      "  -- Configuring incomplete, errors occurred!\n",
      "  See also \"C:/Users/Р’СЏС‡РµСЃР»Р°РІ/AppData/Local/Temp/pip-req-build-0m_gq_95/_cmake_test_compile/build/CMakeFiles/CMakeOutput.log\".\n",
      "  --\n",
      "  -------\n",
      "  ------------\n",
      "  -----------------\n",
      "  ----------------------\n",
      "  ---------------------------\n",
      "  --------------------------------\n",
      "  -- Trying \"Visual Studio 16 2019 x64 v142\" generator - failure\n",
      "  --------------------------------------------------------------------------------\n",
      "  \n",
      "  \n",
      "  \n",
      "  --------------------------------------------------------------------------------\n",
      "  -- Trying \"Ninja (Visual Studio 15 2017 x64 v141)\" generator\n",
      "  --------------------------------\n",
      "  ---------------------------\n",
      "  ----------------------\n",
      "  -----------------\n",
      "  ------------\n",
      "  -------\n",
      "  --\n",
      "  Not searching for unused variables given on the command line.\n",
      "  -- The C compiler identification is unknown\n",
      "  CMake Error at CMakeLists.txt:3 (ENABLE_LANGUAGE):\n",
      "    No CMAKE_C_COMPILER could be found.\n",
      "  \n",
      "    Tell CMake where to find the compiler by setting either the environment\n",
      "    variable \"CC\" or the CMake cache entry CMAKE_C_COMPILER to the full path to\n",
      "    the compiler, or to the compiler name if it is in the PATH.\n",
      "  \n",
      "  \n",
      "  -- Configuring incomplete, errors occurred!\n",
      "  See also \"C:/Users/Р’СЏС‡РµСЃР»Р°РІ/AppData/Local/Temp/pip-req-build-0m_gq_95/_cmake_test_compile/build/CMakeFiles/CMakeOutput.log\".\n",
      "  See also \"C:/Users/Р’СЏС‡РµСЃР»Р°РІ/AppData/Local/Temp/pip-req-build-0m_gq_95/_cmake_test_compile/build/CMakeFiles/CMakeError.log\".\n",
      "  --\n",
      "  -------\n",
      "  ------------\n",
      "  -----------------\n",
      "  ----------------------\n",
      "  ---------------------------\n",
      "  --------------------------------\n",
      "  -- Trying \"Ninja (Visual Studio 15 2017 x64 v141)\" generator - failure\n",
      "  --------------------------------------------------------------------------------\n",
      "  \n",
      "  \n",
      "  \n",
      "  --------------------------------------------------------------------------------\n",
      "  -- Trying \"Visual Studio 15 2017 x64 v141\" generator\n",
      "  --------------------------------\n",
      "  ---------------------------\n",
      "  ----------------------\n",
      "  -----------------\n",
      "  ------------\n",
      "  -------\n",
      "  --\n",
      "  Not searching for unused variables given on the command line.\n",
      "  CMake Error at CMakeLists.txt:2 (PROJECT):\n",
      "    Generator\n",
      "  \n",
      "      Visual Studio 15 2017\n",
      "  \n",
      "    could not find any instance of Visual Studio.\n",
      "  \n",
      "  \n",
      "  \n",
      "  -- Configuring incomplete, errors occurred!\n",
      "  See also \"C:/Users/Р’СЏС‡РµСЃР»Р°РІ/AppData/Local/Temp/pip-req-build-0m_gq_95/_cmake_test_compile/build/CMakeFiles/CMakeOutput.log\".\n",
      "  --\n",
      "  -------\n",
      "  ------------\n",
      "  -----------------\n",
      "  ----------------------\n",
      "  ---------------------------\n",
      "  --------------------------------\n",
      "  -- Trying \"Visual Studio 15 2017 x64 v141\" generator - failure\n",
      "  --------------------------------------------------------------------------------\n",
      "  \n",
      "  \n",
      "  \n",
      "  --------------------------------------------------------------------------------\n",
      "  -- Trying \"NMake Makefiles (Visual Studio 17 2022 x64 v143)\" generator\n",
      "  --------------------------------\n",
      "  ---------------------------\n",
      "  ----------------------\n",
      "  -----------------\n",
      "  ------------\n",
      "  -------\n",
      "  --\n",
      "  Not searching for unused variables given on the command line.\n",
      "  CMake Error at CMakeLists.txt:2 (PROJECT):\n",
      "    Running\n",
      "  \n",
      "     'nmake' '-?'\n",
      "  \n",
      "    failed with:\n",
      "  \n",
      "     РќРµ СѓРґР°РµС‚СЃСЏ РЅР°Р№С‚Рё СѓРєР°Р·Р°РЅРЅС‹Р№ С„Р°Р№Р»\n",
      "  \n",
      "  \n",
      "  -- Configuring incomplete, errors occurred!\n",
      "  See also \"C:/Users/Р’СЏС‡РµСЃР»Р°РІ/AppData/Local/Temp/pip-req-build-0m_gq_95/_cmake_test_compile/build/CMakeFiles/CMakeOutput.log\".\n",
      "  --\n",
      "  -------\n",
      "  ------------\n",
      "  -----------------\n",
      "  ----------------------\n",
      "  ---------------------------\n",
      "  --------------------------------\n",
      "  -- Trying \"NMake Makefiles (Visual Studio 17 2022 x64 v143)\" generator - failure\n",
      "  --------------------------------------------------------------------------------\n",
      "  \n",
      "  \n",
      "  \n",
      "  --------------------------------------------------------------------------------\n",
      "  -- Trying \"NMake Makefiles (Visual Studio 16 2019 x64 v142)\" generator\n",
      "  --------------------------------\n",
      "  ---------------------------\n",
      "  ----------------------\n",
      "  -----------------\n",
      "  ------------\n",
      "  -------\n",
      "  --\n",
      "  Not searching for unused variables given on the command line.\n",
      "  CMake Error at CMakeLists.txt:2 (PROJECT):\n",
      "    Running\n",
      "  \n",
      "     'nmake' '-?'\n",
      "  \n",
      "    failed with:\n",
      "  \n",
      "     РќРµ СѓРґР°РµС‚СЃСЏ РЅР°Р№С‚Рё СѓРєР°Р·Р°РЅРЅС‹Р№ С„Р°Р№Р»\n",
      "  \n",
      "  \n",
      "  -- Configuring incomplete, errors occurred!\n",
      "  See also \"C:/Users/Р’СЏС‡РµСЃР»Р°РІ/AppData/Local/Temp/pip-req-build-0m_gq_95/_cmake_test_compile/build/CMakeFiles/CMakeOutput.log\".\n",
      "  --\n",
      "  -------\n",
      "  ------------\n",
      "  -----------------\n",
      "  ----------------------\n",
      "  ---------------------------\n",
      "  --------------------------------\n",
      "  -- Trying \"NMake Makefiles (Visual Studio 16 2019 x64 v142)\" generator - failure\n",
      "  --------------------------------------------------------------------------------\n",
      "  \n",
      "  \n",
      "  \n",
      "  --------------------------------------------------------------------------------\n",
      "  -- Trying \"NMake Makefiles (Visual Studio 15 2017 x64 v141)\" generator\n",
      "  --------------------------------\n",
      "  ---------------------------\n",
      "  ----------------------\n",
      "  -----------------\n",
      "  ------------\n",
      "  -------\n",
      "  --\n",
      "  Not searching for unused variables given on the command line.\n",
      "  CMake Error at CMakeLists.txt:2 (PROJECT):\n",
      "    Running\n",
      "  \n",
      "     'nmake' '-?'\n",
      "  \n",
      "    failed with:\n",
      "  \n",
      "     РќРµ СѓРґР°РµС‚СЃСЏ РЅР°Р№С‚Рё СѓРєР°Р·Р°РЅРЅС‹Р№ С„Р°Р№Р»\n",
      "  \n",
      "  \n",
      "  -- Configuring incomplete, errors occurred!\n",
      "  See also \"C:/Users/Р’СЏС‡РµСЃР»Р°РІ/AppData/Local/Temp/pip-req-build-0m_gq_95/_cmake_test_compile/build/CMakeFiles/CMakeOutput.log\".\n",
      "  --\n",
      "  -------\n",
      "  ------------\n",
      "  -----------------\n",
      "  ----------------------\n",
      "  ---------------------------\n",
      "  --------------------------------\n",
      "  -- Trying \"NMake Makefiles (Visual Studio 15 2017 x64 v141)\" generator - failure\n",
      "  --------------------------------------------------------------------------------\n",
      "  \n",
      "  ********************************************************************************\n",
      "  scikit-build could not get a working generator for your system. Aborting build.\n",
      "  \n",
      "  Building windows wheels for Python 3.8 requires Microsoft Visual Studio 2022.\n",
      "  Get it with \"Visual Studio 2017\":\n",
      "  \n",
      "    https://visualstudio.microsoft.com/vs/\n",
      "  \n",
      "  Or with \"Visual Studio 2019\":\n",
      "  \n",
      "      https://visualstudio.microsoft.com/vs/\n",
      "  \n",
      "  Or with \"Visual Studio 2022\":\n",
      "  \n",
      "      https://visualstudio.microsoft.com/vs/\n",
      "  \n",
      "  ********************************************************************************\n",
      "  [end of output]\n",
      "  \n",
      "  note: This error originates from a subprocess, and is likely not a problem with pip.\n",
      "  ERROR: Failed building wheel for line-profiler\n",
      "ERROR: Could not build wheels for line-profiler, which is required to install pyproject.toml-based projects\n"
     ]
    }
   ],
   "source": [
    "!pip install git+https://github.com/pyutils/line_profiler.git"
   ]
  },
  {
   "cell_type": "code",
   "execution_count": 3,
   "metadata": {},
   "outputs": [
    {
     "name": "stdout",
     "output_type": "stream",
     "text": [
      "Collecting numba\n",
      "  Downloading numba-0.56.3-cp38-cp38-win_amd64.whl (2.5 MB)\n",
      "     ---------------------------------------- 2.5/2.5 MB 511.6 kB/s eta 0:00:00\n",
      "Collecting importlib-metadata\n",
      "  Downloading importlib_metadata-5.0.0-py3-none-any.whl (21 kB)\n",
      "Requirement already satisfied: setuptools in c:\\python\\envs\\python_new\\lib\\site-packages (from numba) (63.4.1)\n",
      "Collecting llvmlite<0.40,>=0.39.0dev0\n",
      "  Downloading llvmlite-0.39.1-cp38-cp38-win_amd64.whl (23.2 MB)\n",
      "     ---------------------------------------- 23.2/23.2 MB 1.0 MB/s eta 0:00:00\n",
      "Requirement already satisfied: numpy<1.24,>=1.18 in c:\\python\\envs\\python_new\\lib\\site-packages (from numba) (1.23.3)\n",
      "Requirement already satisfied: zipp>=0.5 in c:\\python\\envs\\python_new\\lib\\site-packages (from importlib-metadata->numba) (3.8.0)\n",
      "Installing collected packages: llvmlite, importlib-metadata, numba\n",
      "Successfully installed importlib-metadata-5.0.0 llvmlite-0.39.1 numba-0.56.3\n",
      "Note: you may need to restart the kernel to use updated packages.\n"
     ]
    }
   ],
   "source": [
    "pip install numba"
   ]
  },
  {
   "cell_type": "code",
   "execution_count": 31,
   "metadata": {},
   "outputs": [
    {
     "name": "stdout",
     "output_type": "stream",
     "text": [
      "Requirement already satisfied: line_profiler==3.4.0 in c:\\python\\envs\\python_new\\lib\\site-packages (3.4.0)\n",
      "Requirement already satisfied: IPython>=0.13 in c:\\python\\envs\\python_new\\lib\\site-packages (from line_profiler==3.4.0) (8.4.0)\n",
      "Requirement already satisfied: jedi>=0.16 in c:\\python\\envs\\python_new\\lib\\site-packages (from IPython>=0.13->line_profiler==3.4.0) (0.18.1)\n",
      "Requirement already satisfied: prompt-toolkit!=3.0.0,!=3.0.1,<3.1.0,>=2.0.0 in c:\\python\\envs\\python_new\\lib\\site-packages (from IPython>=0.13->line_profiler==3.4.0) (3.0.20)\n",
      "Requirement already satisfied: traitlets>=5 in c:\\python\\envs\\python_new\\lib\\site-packages (from IPython>=0.13->line_profiler==3.4.0) (5.1.1)\n",
      "Requirement already satisfied: decorator in c:\\python\\envs\\python_new\\lib\\site-packages (from IPython>=0.13->line_profiler==3.4.0) (5.1.1)\n",
      "Requirement already satisfied: setuptools>=18.5 in c:\\python\\envs\\python_new\\lib\\site-packages (from IPython>=0.13->line_profiler==3.4.0) (63.4.1)\n",
      "Requirement already satisfied: pickleshare in c:\\python\\envs\\python_new\\lib\\site-packages (from IPython>=0.13->line_profiler==3.4.0) (0.7.5)\n",
      "Requirement already satisfied: colorama in c:\\python\\envs\\python_new\\lib\\site-packages (from IPython>=0.13->line_profiler==3.4.0) (0.4.5)\n",
      "Requirement already satisfied: matplotlib-inline in c:\\python\\envs\\python_new\\lib\\site-packages (from IPython>=0.13->line_profiler==3.4.0) (0.1.6)\n",
      "Requirement already satisfied: backcall in c:\\python\\envs\\python_new\\lib\\site-packages (from IPython>=0.13->line_profiler==3.4.0) (0.2.0)\n",
      "Requirement already satisfied: stack-data in c:\\python\\envs\\python_new\\lib\\site-packages (from IPython>=0.13->line_profiler==3.4.0) (0.2.0)\n",
      "Requirement already satisfied: pygments>=2.4.0 in c:\\python\\envs\\python_new\\lib\\site-packages (from IPython>=0.13->line_profiler==3.4.0) (2.11.2)\n",
      "Requirement already satisfied: parso<0.9.0,>=0.8.0 in c:\\python\\envs\\python_new\\lib\\site-packages (from jedi>=0.16->IPython>=0.13->line_profiler==3.4.0) (0.8.3)\n",
      "Requirement already satisfied: wcwidth in c:\\python\\envs\\python_new\\lib\\site-packages (from prompt-toolkit!=3.0.0,!=3.0.1,<3.1.0,>=2.0.0->IPython>=0.13->line_profiler==3.4.0) (0.2.5)\n",
      "Requirement already satisfied: asttokens in c:\\python\\envs\\python_new\\lib\\site-packages (from stack-data->IPython>=0.13->line_profiler==3.4.0) (2.0.5)\n",
      "Requirement already satisfied: executing in c:\\python\\envs\\python_new\\lib\\site-packages (from stack-data->IPython>=0.13->line_profiler==3.4.0) (0.8.3)\n",
      "Requirement already satisfied: pure-eval in c:\\python\\envs\\python_new\\lib\\site-packages (from stack-data->IPython>=0.13->line_profiler==3.4.0) (0.2.2)\n",
      "Requirement already satisfied: six in c:\\python\\envs\\python_new\\lib\\site-packages (from asttokens->stack-data->IPython>=0.13->line_profiler==3.4.0) (1.16.0)\n",
      "Note: you may need to restart the kernel to use updated packages.\n"
     ]
    }
   ],
   "source": [
    "pip install --user line_profiler==3.4.0"
   ]
  },
  {
   "cell_type": "code",
   "execution_count": 2,
   "metadata": {},
   "outputs": [
    {
     "data": {
      "text/plain": [
       "'3.4.0'"
      ]
     },
     "execution_count": 2,
     "metadata": {},
     "output_type": "execute_result"
    }
   ],
   "source": [
    "import line_profiler\n",
    "line_profiler.__version__"
   ]
  },
  {
   "cell_type": "code",
   "execution_count": 3,
   "metadata": {},
   "outputs": [],
   "source": [
    "import numpy as np\n",
    "from numba import njit"
   ]
  },
  {
   "cell_type": "markdown",
   "metadata": {},
   "source": [
    "1. Сгенерируйте массив `A` из `N=1млн` случайных целых чисел на отрезке от 0 до 1000. Пусть `B[i] = A[i] + 100`. Посчитайте среднее значение массива `B`."
   ]
  },
  {
   "cell_type": "code",
   "execution_count": 2,
   "metadata": {},
   "outputs": [
    {
     "data": {
      "text/plain": [
       "array([267,  63, 273, ..., 423,   3, 528])"
      ]
     },
     "execution_count": 2,
     "metadata": {},
     "output_type": "execute_result"
    }
   ],
   "source": [
    "a = np.random.randint(0, 1000, size = (1000000))\n",
    "\n",
    "a"
   ]
  },
  {
   "cell_type": "code",
   "execution_count": 3,
   "metadata": {},
   "outputs": [
    {
     "name": "stdout",
     "output_type": "stream",
     "text": [
      "CPU times: total: 234 ms\n",
      "Wall time: 232 ms\n"
     ]
    },
    {
     "data": {
      "text/plain": [
       "599.589003"
      ]
     },
     "execution_count": 3,
     "metadata": {},
     "output_type": "execute_result"
    }
   ],
   "source": [
    "%%time\n",
    "\n",
    "def f1(a):\n",
    "    acc = 0\n",
    "    cnt = 0\n",
    "    for i in range(len(a)):\n",
    "        bi = a[i] + 100\n",
    "        acc += bi\n",
    "        cnt += 1\n",
    "    return acc / cnt\n",
    "\n",
    "f1(a)"
   ]
  },
  {
   "cell_type": "code",
   "execution_count": 4,
   "metadata": {},
   "outputs": [
    {
     "name": "stdout",
     "output_type": "stream",
     "text": [
      "214 ms ± 6.9 ms per loop (mean ± std. dev. of 7 runs, 1 loop each)\n"
     ]
    }
   ],
   "source": [
    "%%timeit #годна штука дял тестирования\n",
    "f1(a)"
   ]
  },
  {
   "cell_type": "code",
   "execution_count": 5,
   "metadata": {},
   "outputs": [
    {
     "name": "stdout",
     "output_type": "stream",
     "text": [
      "CPU times: total: 125 ms\n",
      "Wall time: 130 ms\n"
     ]
    },
    {
     "data": {
      "text/plain": [
       "599.589003"
      ]
     },
     "execution_count": 5,
     "metadata": {},
     "output_type": "execute_result"
    }
   ],
   "source": [
    "%%time\n",
    "\n",
    "def f2(a):\n",
    "    acc = 0\n",
    "    n = len(a)\n",
    "    for i in range(n):\n",
    "        acc += a[i]\n",
    "    return acc / n + 100\n",
    "\n",
    "f2(a)"
   ]
  },
  {
   "cell_type": "code",
   "execution_count": 6,
   "metadata": {},
   "outputs": [
    {
     "name": "stdout",
     "output_type": "stream",
     "text": [
      "CPU times: total: 0 ns\n",
      "Wall time: 1.99 ms\n"
     ]
    },
    {
     "data": {
      "text/plain": [
       "599.589003"
      ]
     },
     "execution_count": 6,
     "metadata": {},
     "output_type": "execute_result"
    }
   ],
   "source": [
    "%%time\n",
    "\n",
    "def f3(a):\n",
    "    res = a.mean()\n",
    "    return res + 100\n",
    "\n",
    "f3(a)"
   ]
  },
  {
   "cell_type": "code",
   "execution_count": 7,
   "metadata": {},
   "outputs": [],
   "source": [
    "import numba\n",
    "\n",
    "@njit\n",
    "def f4(a):\n",
    "    acc = 0\n",
    "    n = len(a)\n",
    "    for i in range(n):\n",
    "        acc += a[i]\n",
    "    return acc / n + 100"
   ]
  },
  {
   "cell_type": "code",
   "execution_count": 8,
   "metadata": {},
   "outputs": [
    {
     "name": "stdout",
     "output_type": "stream",
     "text": [
      "CPU times: total: 281 ms\n",
      "Wall time: 601 ms\n"
     ]
    },
    {
     "data": {
      "text/plain": [
       "599.589003"
      ]
     },
     "execution_count": 8,
     "metadata": {},
     "output_type": "execute_result"
    }
   ],
   "source": [
    "%%time\n",
    "f4(a)"
   ]
  },
  {
   "cell_type": "markdown",
   "metadata": {},
   "source": [
    "2. Напишите функцию, которая возвращает сумму всех чисел от 0 до x-1. Примените функцию к каждому элементу массива."
   ]
  },
  {
   "cell_type": "code",
   "execution_count": 9,
   "metadata": {},
   "outputs": [],
   "source": [
    "def g(x):\n",
    "    return (sum(range(x)))"
   ]
  },
  {
   "cell_type": "code",
   "execution_count": 10,
   "metadata": {},
   "outputs": [
    {
     "name": "stdout",
     "output_type": "stream",
     "text": [
      "CPU times: total: 8.42 s\n",
      "Wall time: 8.43 s\n"
     ]
    },
    {
     "data": {
      "text/plain": [
       "array([ 35511,   1953,  37128, ...,  89253,      3, 139128])"
      ]
     },
     "execution_count": 10,
     "metadata": {},
     "output_type": "execute_result"
    }
   ],
   "source": [
    "%%time\n",
    "\n",
    "np.array([g(x) for x in a])"
   ]
  },
  {
   "cell_type": "code",
   "execution_count": 11,
   "metadata": {},
   "outputs": [],
   "source": [
    "g_v = np.vectorize(g)"
   ]
  },
  {
   "cell_type": "code",
   "execution_count": 12,
   "metadata": {},
   "outputs": [
    {
     "name": "stdout",
     "output_type": "stream",
     "text": [
      "CPU times: total: 7.89 s\n",
      "Wall time: 7.88 s\n"
     ]
    },
    {
     "data": {
      "text/plain": [
       "array([ 35511,   1953,  37128, ...,  89253,      3, 139128])"
      ]
     },
     "execution_count": 12,
     "metadata": {},
     "output_type": "execute_result"
    }
   ],
   "source": [
    "%%time\n",
    "g_v(a)"
   ]
  },
  {
   "cell_type": "code",
   "execution_count": 13,
   "metadata": {},
   "outputs": [],
   "source": [
    "g_v2 = numba.vectorize(['int32(int32)'])(g)"
   ]
  },
  {
   "cell_type": "code",
   "execution_count": 14,
   "metadata": {},
   "outputs": [
    {
     "name": "stdout",
     "output_type": "stream",
     "text": [
      "CPU times: total: 46.9 ms\n",
      "Wall time: 50.9 ms\n"
     ]
    },
    {
     "data": {
      "text/plain": [
       "array([ 35511,   1953,  37128, ...,  89253,      3, 139128])"
      ]
     },
     "execution_count": 14,
     "metadata": {},
     "output_type": "execute_result"
    }
   ],
   "source": [
    "%%time\n",
    "g_v2(a)"
   ]
  },
  {
   "cell_type": "markdown",
   "metadata": {},
   "source": [
    "3. Создайте таблицу 2млн строк и с 4 столбцами, заполненными случайными числами. Добавьте столбец `key`, которые содержит элементы из множества английских букв. Выберите из таблицы подмножество строк, для которых в столбце `key` указаны первые 5 английских букв."
   ]
  },
  {
   "cell_type": "code",
   "execution_count": 2,
   "metadata": {},
   "outputs": [],
   "source": [
    "%load_ext line_profiler"
   ]
  },
  {
   "cell_type": "code",
   "execution_count": 5,
   "metadata": {},
   "outputs": [
    {
     "data": {
      "text/html": [
       "<div>\n",
       "<style scoped>\n",
       "    .dataframe tbody tr th:only-of-type {\n",
       "        vertical-align: middle;\n",
       "    }\n",
       "\n",
       "    .dataframe tbody tr th {\n",
       "        vertical-align: top;\n",
       "    }\n",
       "\n",
       "    .dataframe thead th {\n",
       "        text-align: right;\n",
       "    }\n",
       "</style>\n",
       "<table border=\"1\" class=\"dataframe\">\n",
       "  <thead>\n",
       "    <tr style=\"text-align: right;\">\n",
       "      <th></th>\n",
       "      <th>col0</th>\n",
       "      <th>col1</th>\n",
       "      <th>col2</th>\n",
       "      <th>col3</th>\n",
       "      <th>key</th>\n",
       "    </tr>\n",
       "  </thead>\n",
       "  <tbody>\n",
       "    <tr>\n",
       "      <th>0</th>\n",
       "      <td>-0.756714</td>\n",
       "      <td>0.723195</td>\n",
       "      <td>-1.088059</td>\n",
       "      <td>-0.168426</td>\n",
       "      <td>l</td>\n",
       "    </tr>\n",
       "    <tr>\n",
       "      <th>1</th>\n",
       "      <td>-1.924665</td>\n",
       "      <td>1.047845</td>\n",
       "      <td>0.406138</td>\n",
       "      <td>0.727121</td>\n",
       "      <td>g</td>\n",
       "    </tr>\n",
       "  </tbody>\n",
       "</table>\n",
       "</div>"
      ],
      "text/plain": [
       "       col0      col1      col2      col3 key\n",
       "0 -0.756714  0.723195 -1.088059 -0.168426   l\n",
       "1 -1.924665  1.047845  0.406138  0.727121   g"
      ]
     },
     "execution_count": 5,
     "metadata": {},
     "output_type": "execute_result"
    }
   ],
   "source": [
    "import pandas as pd\n",
    "import string\n",
    "\n",
    "N = 2_000_000\n",
    "df = pd.DataFrame(np.random.randn(N, 4), columns=[f\"col{i}\" for i in range(4)])\n",
    "df[\"key\"] = np.random.choice(list(string.ascii_letters.lower()), N, replace=True)\n",
    "df.head(2)"
   ]
  },
  {
   "cell_type": "code",
   "execution_count": 6,
   "metadata": {},
   "outputs": [],
   "source": [
    "def h1(df):\n",
    "    mask = []\n",
    "    for _, row in df.iterrows():\n",
    "        mask.append(row['key'] in {'a', 'b', 'c', 'd', 'e'})\n",
    "    return df[mask]"
   ]
  },
  {
   "cell_type": "code",
   "execution_count": 7,
   "metadata": {},
   "outputs": [
    {
     "name": "stdout",
     "output_type": "stream",
     "text": [
      "CPU times: total: 7.14 s\n",
      "Wall time: 7.16 s\n"
     ]
    },
    {
     "data": {
      "text/html": [
       "<div>\n",
       "<style scoped>\n",
       "    .dataframe tbody tr th:only-of-type {\n",
       "        vertical-align: middle;\n",
       "    }\n",
       "\n",
       "    .dataframe tbody tr th {\n",
       "        vertical-align: top;\n",
       "    }\n",
       "\n",
       "    .dataframe thead th {\n",
       "        text-align: right;\n",
       "    }\n",
       "</style>\n",
       "<table border=\"1\" class=\"dataframe\">\n",
       "  <thead>\n",
       "    <tr style=\"text-align: right;\">\n",
       "      <th></th>\n",
       "      <th>col0</th>\n",
       "      <th>col1</th>\n",
       "      <th>col2</th>\n",
       "      <th>col3</th>\n",
       "      <th>key</th>\n",
       "    </tr>\n",
       "  </thead>\n",
       "  <tbody>\n",
       "    <tr>\n",
       "      <th>11</th>\n",
       "      <td>-0.834772</td>\n",
       "      <td>0.726824</td>\n",
       "      <td>-1.220380</td>\n",
       "      <td>0.595021</td>\n",
       "      <td>d</td>\n",
       "    </tr>\n",
       "    <tr>\n",
       "      <th>14</th>\n",
       "      <td>0.761799</td>\n",
       "      <td>-1.429321</td>\n",
       "      <td>-0.704322</td>\n",
       "      <td>-0.599693</td>\n",
       "      <td>b</td>\n",
       "    </tr>\n",
       "    <tr>\n",
       "      <th>18</th>\n",
       "      <td>-0.723228</td>\n",
       "      <td>1.008087</td>\n",
       "      <td>0.551874</td>\n",
       "      <td>-0.607757</td>\n",
       "      <td>a</td>\n",
       "    </tr>\n",
       "    <tr>\n",
       "      <th>25</th>\n",
       "      <td>0.372094</td>\n",
       "      <td>0.445080</td>\n",
       "      <td>-0.114718</td>\n",
       "      <td>-0.038965</td>\n",
       "      <td>d</td>\n",
       "    </tr>\n",
       "    <tr>\n",
       "      <th>40</th>\n",
       "      <td>-0.123665</td>\n",
       "      <td>1.605681</td>\n",
       "      <td>1.201280</td>\n",
       "      <td>-1.431434</td>\n",
       "      <td>e</td>\n",
       "    </tr>\n",
       "    <tr>\n",
       "      <th>...</th>\n",
       "      <td>...</td>\n",
       "      <td>...</td>\n",
       "      <td>...</td>\n",
       "      <td>...</td>\n",
       "      <td>...</td>\n",
       "    </tr>\n",
       "    <tr>\n",
       "      <th>49971</th>\n",
       "      <td>1.022669</td>\n",
       "      <td>-0.200564</td>\n",
       "      <td>-1.302173</td>\n",
       "      <td>0.447123</td>\n",
       "      <td>d</td>\n",
       "    </tr>\n",
       "    <tr>\n",
       "      <th>49973</th>\n",
       "      <td>0.636936</td>\n",
       "      <td>0.690111</td>\n",
       "      <td>0.413842</td>\n",
       "      <td>-1.724636</td>\n",
       "      <td>a</td>\n",
       "    </tr>\n",
       "    <tr>\n",
       "      <th>49987</th>\n",
       "      <td>-0.727652</td>\n",
       "      <td>0.570080</td>\n",
       "      <td>0.527180</td>\n",
       "      <td>0.046970</td>\n",
       "      <td>a</td>\n",
       "    </tr>\n",
       "    <tr>\n",
       "      <th>49988</th>\n",
       "      <td>0.159027</td>\n",
       "      <td>0.347317</td>\n",
       "      <td>-0.744934</td>\n",
       "      <td>0.116943</td>\n",
       "      <td>c</td>\n",
       "    </tr>\n",
       "    <tr>\n",
       "      <th>49992</th>\n",
       "      <td>-0.173216</td>\n",
       "      <td>0.717882</td>\n",
       "      <td>0.091479</td>\n",
       "      <td>0.752711</td>\n",
       "      <td>b</td>\n",
       "    </tr>\n",
       "  </tbody>\n",
       "</table>\n",
       "<p>9661 rows × 5 columns</p>\n",
       "</div>"
      ],
      "text/plain": [
       "           col0      col1      col2      col3 key\n",
       "11    -0.834772  0.726824 -1.220380  0.595021   d\n",
       "14     0.761799 -1.429321 -0.704322 -0.599693   b\n",
       "18    -0.723228  1.008087  0.551874 -0.607757   a\n",
       "25     0.372094  0.445080 -0.114718 -0.038965   d\n",
       "40    -0.123665  1.605681  1.201280 -1.431434   e\n",
       "...         ...       ...       ...       ...  ..\n",
       "49971  1.022669 -0.200564 -1.302173  0.447123   d\n",
       "49973  0.636936  0.690111  0.413842 -1.724636   a\n",
       "49987 -0.727652  0.570080  0.527180  0.046970   a\n",
       "49988  0.159027  0.347317 -0.744934  0.116943   c\n",
       "49992 -0.173216  0.717882  0.091479  0.752711   b\n",
       "\n",
       "[9661 rows x 5 columns]"
      ]
     },
     "execution_count": 7,
     "metadata": {},
     "output_type": "execute_result"
    }
   ],
   "source": [
    "%%time\n",
    "h1(df.head(50000))"
   ]
  },
  {
   "cell_type": "code",
   "execution_count": 1,
   "metadata": {},
   "outputs": [
    {
     "name": "stderr",
     "output_type": "stream",
     "text": [
      "UsageError: Line magic function `%lprun` not found.\n"
     ]
    }
   ],
   "source": [
    "%lprun -f h1 h1(df.head(50000))"
   ]
  },
  {
   "cell_type": "code",
   "execution_count": 23,
   "metadata": {},
   "outputs": [
    {
     "name": "stdout",
     "output_type": "stream",
     "text": [
      "CPU times: total: 109 ms\n",
      "Wall time: 108 ms\n"
     ]
    },
    {
     "data": {
      "text/html": [
       "<div>\n",
       "<style scoped>\n",
       "    .dataframe tbody tr th:only-of-type {\n",
       "        vertical-align: middle;\n",
       "    }\n",
       "\n",
       "    .dataframe tbody tr th {\n",
       "        vertical-align: top;\n",
       "    }\n",
       "\n",
       "    .dataframe thead th {\n",
       "        text-align: right;\n",
       "    }\n",
       "</style>\n",
       "<table border=\"1\" class=\"dataframe\">\n",
       "  <thead>\n",
       "    <tr style=\"text-align: right;\">\n",
       "      <th></th>\n",
       "      <th>col0</th>\n",
       "      <th>col1</th>\n",
       "      <th>col2</th>\n",
       "      <th>col3</th>\n",
       "      <th>key</th>\n",
       "    </tr>\n",
       "  </thead>\n",
       "  <tbody>\n",
       "    <tr>\n",
       "      <th>1</th>\n",
       "      <td>1.911962</td>\n",
       "      <td>-1.601261</td>\n",
       "      <td>-1.258885</td>\n",
       "      <td>-0.847536</td>\n",
       "      <td>a</td>\n",
       "    </tr>\n",
       "    <tr>\n",
       "      <th>2</th>\n",
       "      <td>0.265675</td>\n",
       "      <td>-1.665720</td>\n",
       "      <td>-1.033437</td>\n",
       "      <td>-0.826008</td>\n",
       "      <td>a</td>\n",
       "    </tr>\n",
       "    <tr>\n",
       "      <th>4</th>\n",
       "      <td>0.194333</td>\n",
       "      <td>-1.154353</td>\n",
       "      <td>-0.000002</td>\n",
       "      <td>-1.438571</td>\n",
       "      <td>e</td>\n",
       "    </tr>\n",
       "    <tr>\n",
       "      <th>5</th>\n",
       "      <td>-1.498183</td>\n",
       "      <td>-0.461015</td>\n",
       "      <td>0.960717</td>\n",
       "      <td>0.947052</td>\n",
       "      <td>e</td>\n",
       "    </tr>\n",
       "    <tr>\n",
       "      <th>17</th>\n",
       "      <td>1.391311</td>\n",
       "      <td>-0.610286</td>\n",
       "      <td>-1.191325</td>\n",
       "      <td>0.372444</td>\n",
       "      <td>d</td>\n",
       "    </tr>\n",
       "    <tr>\n",
       "      <th>...</th>\n",
       "      <td>...</td>\n",
       "      <td>...</td>\n",
       "      <td>...</td>\n",
       "      <td>...</td>\n",
       "      <td>...</td>\n",
       "    </tr>\n",
       "    <tr>\n",
       "      <th>1999965</th>\n",
       "      <td>0.697539</td>\n",
       "      <td>-0.270007</td>\n",
       "      <td>-0.129971</td>\n",
       "      <td>0.558216</td>\n",
       "      <td>b</td>\n",
       "    </tr>\n",
       "    <tr>\n",
       "      <th>1999968</th>\n",
       "      <td>-1.330261</td>\n",
       "      <td>1.106734</td>\n",
       "      <td>-1.508219</td>\n",
       "      <td>-2.127686</td>\n",
       "      <td>e</td>\n",
       "    </tr>\n",
       "    <tr>\n",
       "      <th>1999980</th>\n",
       "      <td>-1.140033</td>\n",
       "      <td>-2.127678</td>\n",
       "      <td>1.626854</td>\n",
       "      <td>-0.112667</td>\n",
       "      <td>d</td>\n",
       "    </tr>\n",
       "    <tr>\n",
       "      <th>1999985</th>\n",
       "      <td>0.405218</td>\n",
       "      <td>-0.719635</td>\n",
       "      <td>-0.485907</td>\n",
       "      <td>1.466804</td>\n",
       "      <td>b</td>\n",
       "    </tr>\n",
       "    <tr>\n",
       "      <th>1999992</th>\n",
       "      <td>0.293895</td>\n",
       "      <td>0.768335</td>\n",
       "      <td>0.013975</td>\n",
       "      <td>-0.633527</td>\n",
       "      <td>b</td>\n",
       "    </tr>\n",
       "  </tbody>\n",
       "</table>\n",
       "<p>385485 rows × 5 columns</p>\n",
       "</div>"
      ],
      "text/plain": [
       "             col0      col1      col2      col3 key\n",
       "1        1.911962 -1.601261 -1.258885 -0.847536   a\n",
       "2        0.265675 -1.665720 -1.033437 -0.826008   a\n",
       "4        0.194333 -1.154353 -0.000002 -1.438571   e\n",
       "5       -1.498183 -0.461015  0.960717  0.947052   e\n",
       "17       1.391311 -0.610286 -1.191325  0.372444   d\n",
       "...           ...       ...       ...       ...  ..\n",
       "1999965  0.697539 -0.270007 -0.129971  0.558216   b\n",
       "1999968 -1.330261  1.106734 -1.508219 -2.127686   e\n",
       "1999980 -1.140033 -2.127678  1.626854 -0.112667   d\n",
       "1999985  0.405218 -0.719635 -0.485907  1.466804   b\n",
       "1999992  0.293895  0.768335  0.013975 -0.633527   b\n",
       "\n",
       "[385485 rows x 5 columns]"
      ]
     },
     "execution_count": 23,
     "metadata": {},
     "output_type": "execute_result"
    }
   ],
   "source": [
    "%%time\n",
    "df[df['key'].isin({\"a\", \"b\", \"c\", \"d\", \"e\"})]"
   ]
  },
  {
   "cell_type": "markdown",
   "metadata": {},
   "source": [
    "## Лабораторная работа 3"
   ]
  },
  {
   "cell_type": "code",
   "execution_count": 227,
   "metadata": {},
   "outputs": [
    {
     "name": "stdout",
     "output_type": "stream",
     "text": [
      "The line_profiler extension is already loaded. To reload it, use:\n",
      "  %reload_ext line_profiler\n"
     ]
    }
   ],
   "source": [
    "import numpy as np\n",
    "import pandas as pd\n",
    "from numba import jit, njit\n",
    "import numba\n",
    "from typing import Union\n",
    "import datetime as dt\n",
    "import collections\n",
    "\n",
    "%load_ext line_profiler"
   ]
  },
  {
   "cell_type": "markdown",
   "metadata": {},
   "source": [
    "В файлах `recipes_sample.csv` и `reviews_sample.csv` (__ЛР 2__) находится информация об рецептах блюд и отзывах на эти рецепты соответственно. Загрузите данные из файлов в виде `pd.DataFrame` с названиями `recipes` и `reviews`. Обратите внимание на корректное считывание столбца(ов) с индексами. Приведите столбцы к нужным типам."
   ]
  },
  {
   "cell_type": "code",
   "execution_count": 50,
   "metadata": {},
   "outputs": [],
   "source": [
    "recipes = pd.read_csv('recipes_sample.csv')\n",
    "\n",
    "recipes[['n_steps', 'n_ingredients']] = recipes[['n_steps', 'n_ingredients']].fillna(0)\n",
    "recipes[['n_steps', 'n_ingredients']] = recipes[['n_steps', 'n_ingredients']].astype('int')\n",
    "recipes['submitted'] = pd.to_datetime(recipes['submitted'], format = '%Y-%m-%d')\n",
    "\n",
    "reviews = pd.read_csv('reviews_sample.csv', index_col = 0)\n",
    "reviews['date'] = pd.to_datetime(reviews['date'], format = '%Y-%m-%d')"
   ]
  },
  {
   "cell_type": "code",
   "execution_count": 63,
   "metadata": {},
   "outputs": [
    {
     "data": {
      "text/html": [
       "<div>\n",
       "<style scoped>\n",
       "    .dataframe tbody tr th:only-of-type {\n",
       "        vertical-align: middle;\n",
       "    }\n",
       "\n",
       "    .dataframe tbody tr th {\n",
       "        vertical-align: top;\n",
       "    }\n",
       "\n",
       "    .dataframe thead th {\n",
       "        text-align: right;\n",
       "    }\n",
       "</style>\n",
       "<table border=\"1\" class=\"dataframe\">\n",
       "  <thead>\n",
       "    <tr style=\"text-align: right;\">\n",
       "      <th></th>\n",
       "      <th>name</th>\n",
       "      <th>id</th>\n",
       "      <th>minutes</th>\n",
       "      <th>contributor_id</th>\n",
       "      <th>submitted</th>\n",
       "      <th>n_steps</th>\n",
       "      <th>description</th>\n",
       "      <th>n_ingredients</th>\n",
       "    </tr>\n",
       "  </thead>\n",
       "  <tbody>\n",
       "    <tr>\n",
       "      <th>0</th>\n",
       "      <td>george s at the cove  black bean soup</td>\n",
       "      <td>44123</td>\n",
       "      <td>90</td>\n",
       "      <td>35193</td>\n",
       "      <td>2002-10-25</td>\n",
       "      <td>0</td>\n",
       "      <td>an original recipe created by chef scott meska...</td>\n",
       "      <td>18</td>\n",
       "    </tr>\n",
       "    <tr>\n",
       "      <th>1</th>\n",
       "      <td>healthy for them  yogurt popsicles</td>\n",
       "      <td>67664</td>\n",
       "      <td>10</td>\n",
       "      <td>91970</td>\n",
       "      <td>2003-07-26</td>\n",
       "      <td>0</td>\n",
       "      <td>my children and their friends ask for my homem...</td>\n",
       "      <td>0</td>\n",
       "    </tr>\n",
       "    <tr>\n",
       "      <th>2</th>\n",
       "      <td>i can t believe it s spinach</td>\n",
       "      <td>38798</td>\n",
       "      <td>30</td>\n",
       "      <td>1533</td>\n",
       "      <td>2002-08-29</td>\n",
       "      <td>0</td>\n",
       "      <td>these were so go, it surprised even me.</td>\n",
       "      <td>8</td>\n",
       "    </tr>\n",
       "    <tr>\n",
       "      <th>3</th>\n",
       "      <td>italian  gut busters</td>\n",
       "      <td>35173</td>\n",
       "      <td>45</td>\n",
       "      <td>22724</td>\n",
       "      <td>2002-07-27</td>\n",
       "      <td>0</td>\n",
       "      <td>my sister-in-law made these for us at a family...</td>\n",
       "      <td>0</td>\n",
       "    </tr>\n",
       "    <tr>\n",
       "      <th>4</th>\n",
       "      <td>love is in the air  beef fondue   sauces</td>\n",
       "      <td>84797</td>\n",
       "      <td>25</td>\n",
       "      <td>4470</td>\n",
       "      <td>2004-02-23</td>\n",
       "      <td>4</td>\n",
       "      <td>i think a fondue is a very romantic casual din...</td>\n",
       "      <td>0</td>\n",
       "    </tr>\n",
       "  </tbody>\n",
       "</table>\n",
       "</div>"
      ],
      "text/plain": [
       "                                       name     id  minutes  contributor_id  \\\n",
       "0     george s at the cove  black bean soup  44123       90           35193   \n",
       "1        healthy for them  yogurt popsicles  67664       10           91970   \n",
       "2              i can t believe it s spinach  38798       30            1533   \n",
       "3                      italian  gut busters  35173       45           22724   \n",
       "4  love is in the air  beef fondue   sauces  84797       25            4470   \n",
       "\n",
       "   submitted  n_steps                                        description  \\\n",
       "0 2002-10-25        0  an original recipe created by chef scott meska...   \n",
       "1 2003-07-26        0  my children and their friends ask for my homem...   \n",
       "2 2002-08-29        0            these were so go, it surprised even me.   \n",
       "3 2002-07-27        0  my sister-in-law made these for us at a family...   \n",
       "4 2004-02-23        4  i think a fondue is a very romantic casual din...   \n",
       "\n",
       "   n_ingredients  \n",
       "0             18  \n",
       "1              0  \n",
       "2              8  \n",
       "3              0  \n",
       "4              0  "
      ]
     },
     "execution_count": 63,
     "metadata": {},
     "output_type": "execute_result"
    }
   ],
   "source": [
    "recipes.head()"
   ]
  },
  {
   "cell_type": "code",
   "execution_count": 64,
   "metadata": {},
   "outputs": [
    {
     "data": {
      "text/html": [
       "<div>\n",
       "<style scoped>\n",
       "    .dataframe tbody tr th:only-of-type {\n",
       "        vertical-align: middle;\n",
       "    }\n",
       "\n",
       "    .dataframe tbody tr th {\n",
       "        vertical-align: top;\n",
       "    }\n",
       "\n",
       "    .dataframe thead th {\n",
       "        text-align: right;\n",
       "    }\n",
       "</style>\n",
       "<table border=\"1\" class=\"dataframe\">\n",
       "  <thead>\n",
       "    <tr style=\"text-align: right;\">\n",
       "      <th></th>\n",
       "      <th>user_id</th>\n",
       "      <th>recipe_id</th>\n",
       "      <th>date</th>\n",
       "      <th>rating</th>\n",
       "      <th>review</th>\n",
       "    </tr>\n",
       "  </thead>\n",
       "  <tbody>\n",
       "    <tr>\n",
       "      <th>370476</th>\n",
       "      <td>21752</td>\n",
       "      <td>57993</td>\n",
       "      <td>2003-05-01</td>\n",
       "      <td>5</td>\n",
       "      <td>Last week whole sides of frozen salmon fillet ...</td>\n",
       "    </tr>\n",
       "    <tr>\n",
       "      <th>624300</th>\n",
       "      <td>431813</td>\n",
       "      <td>142201</td>\n",
       "      <td>2007-09-16</td>\n",
       "      <td>5</td>\n",
       "      <td>So simple and so tasty!  I used a yellow capsi...</td>\n",
       "    </tr>\n",
       "    <tr>\n",
       "      <th>187037</th>\n",
       "      <td>400708</td>\n",
       "      <td>252013</td>\n",
       "      <td>2008-01-10</td>\n",
       "      <td>4</td>\n",
       "      <td>Very nice breakfast HH, easy to make and yummy...</td>\n",
       "    </tr>\n",
       "    <tr>\n",
       "      <th>706134</th>\n",
       "      <td>2001852463</td>\n",
       "      <td>404716</td>\n",
       "      <td>2017-12-11</td>\n",
       "      <td>5</td>\n",
       "      <td>These are a favorite for the holidays and so e...</td>\n",
       "    </tr>\n",
       "    <tr>\n",
       "      <th>312179</th>\n",
       "      <td>95810</td>\n",
       "      <td>129396</td>\n",
       "      <td>2008-03-14</td>\n",
       "      <td>5</td>\n",
       "      <td>Excellent soup!  The tomato flavor is just gre...</td>\n",
       "    </tr>\n",
       "  </tbody>\n",
       "</table>\n",
       "</div>"
      ],
      "text/plain": [
       "           user_id  recipe_id       date  rating  \\\n",
       "370476       21752      57993 2003-05-01       5   \n",
       "624300      431813     142201 2007-09-16       5   \n",
       "187037      400708     252013 2008-01-10       4   \n",
       "706134  2001852463     404716 2017-12-11       5   \n",
       "312179       95810     129396 2008-03-14       5   \n",
       "\n",
       "                                                   review  \n",
       "370476  Last week whole sides of frozen salmon fillet ...  \n",
       "624300  So simple and so tasty!  I used a yellow capsi...  \n",
       "187037  Very nice breakfast HH, easy to make and yummy...  \n",
       "706134  These are a favorite for the holidays and so e...  \n",
       "312179  Excellent soup!  The tomato flavor is just gre...  "
      ]
     },
     "execution_count": 64,
     "metadata": {},
     "output_type": "execute_result"
    }
   ],
   "source": [
    "reviews.head()"
   ]
  },
  {
   "cell_type": "markdown",
   "metadata": {},
   "source": [
    "## Измерение времени выполнения кода"
   ]
  },
  {
   "cell_type": "markdown",
   "metadata": {},
   "source": [
    "Назовем полным описанием рецепта строку, полученную путем конкатенации названия и описания рецепта через пробел. Удалите строки для рецептов, которые были добавлены не в 2010 году.\n",
    "\n",
    "Реализуйте несколько вариантов функции подсчета средней длины полного описания рецепта для рецептов, добавленных в 2010 году."
   ]
  },
  {
   "cell_type": "code",
   "execution_count": 243,
   "metadata": {},
   "outputs": [],
   "source": [
    "recipes_2010 = recipes.drop(recipes[recipes['submitted'].dt.year != 2010].index)"
   ]
  },
  {
   "cell_type": "code",
   "execution_count": 244,
   "metadata": {},
   "outputs": [
    {
     "data": {
      "text/html": [
       "<div>\n",
       "<style scoped>\n",
       "    .dataframe tbody tr th:only-of-type {\n",
       "        vertical-align: middle;\n",
       "    }\n",
       "\n",
       "    .dataframe tbody tr th {\n",
       "        vertical-align: top;\n",
       "    }\n",
       "\n",
       "    .dataframe thead th {\n",
       "        text-align: right;\n",
       "    }\n",
       "</style>\n",
       "<table border=\"1\" class=\"dataframe\">\n",
       "  <thead>\n",
       "    <tr style=\"text-align: right;\">\n",
       "      <th></th>\n",
       "      <th>name</th>\n",
       "      <th>id</th>\n",
       "      <th>minutes</th>\n",
       "      <th>contributor_id</th>\n",
       "      <th>submitted</th>\n",
       "      <th>n_steps</th>\n",
       "      <th>description</th>\n",
       "      <th>n_ingredients</th>\n",
       "    </tr>\n",
       "  </thead>\n",
       "  <tbody>\n",
       "    <tr>\n",
       "      <th>52</th>\n",
       "      <td>just peachy  cobbler</td>\n",
       "      <td>437637</td>\n",
       "      <td>70</td>\n",
       "      <td>1085867</td>\n",
       "      <td>2010-09-17</td>\n",
       "      <td>10</td>\n",
       "      <td>all i can say is yummmmmm . . . a simple to ma...</td>\n",
       "      <td>10</td>\n",
       "    </tr>\n",
       "    <tr>\n",
       "      <th>68</th>\n",
       "      <td>the heat  spicy party mix</td>\n",
       "      <td>437219</td>\n",
       "      <td>95</td>\n",
       "      <td>1682162</td>\n",
       "      <td>2010-09-13</td>\n",
       "      <td>0</td>\n",
       "      <td>a spicy chex mix that will really warm your gu...</td>\n",
       "      <td>11</td>\n",
       "    </tr>\n",
       "    <tr>\n",
       "      <th>81</th>\n",
       "      <td>iowa state fair  sweet dough caramel cinnamon ...</td>\n",
       "      <td>435816</td>\n",
       "      <td>80</td>\n",
       "      <td>17803</td>\n",
       "      <td>2010-08-24</td>\n",
       "      <td>29</td>\n",
       "      <td>this was the winning entry at the 2010 iowa st...</td>\n",
       "      <td>0</td>\n",
       "    </tr>\n",
       "    <tr>\n",
       "      <th>104</th>\n",
       "      <td>1 minute blueberries   cream</td>\n",
       "      <td>428566</td>\n",
       "      <td>2</td>\n",
       "      <td>1375473</td>\n",
       "      <td>2010-06-04</td>\n",
       "      <td>4</td>\n",
       "      <td>i was craving blueberry tonight but wanted non...</td>\n",
       "      <td>0</td>\n",
       "    </tr>\n",
       "    <tr>\n",
       "      <th>146</th>\n",
       "      <td>2 2 2 diet mocha</td>\n",
       "      <td>416599</td>\n",
       "      <td>5</td>\n",
       "      <td>789314</td>\n",
       "      <td>2010-03-15</td>\n",
       "      <td>5</td>\n",
       "      <td>while trying to come up with a satisfying \"sna...</td>\n",
       "      <td>7</td>\n",
       "    </tr>\n",
       "  </tbody>\n",
       "</table>\n",
       "</div>"
      ],
      "text/plain": [
       "                                                  name      id  minutes  \\\n",
       "52                                just peachy  cobbler  437637       70   \n",
       "68                           the heat  spicy party mix  437219       95   \n",
       "81   iowa state fair  sweet dough caramel cinnamon ...  435816       80   \n",
       "104                       1 minute blueberries   cream  428566        2   \n",
       "146                                   2 2 2 diet mocha  416599        5   \n",
       "\n",
       "     contributor_id  submitted  n_steps  \\\n",
       "52          1085867 2010-09-17       10   \n",
       "68          1682162 2010-09-13        0   \n",
       "81            17803 2010-08-24       29   \n",
       "104         1375473 2010-06-04        4   \n",
       "146          789314 2010-03-15        5   \n",
       "\n",
       "                                           description  n_ingredients  \n",
       "52   all i can say is yummmmmm . . . a simple to ma...             10  \n",
       "68   a spicy chex mix that will really warm your gu...             11  \n",
       "81   this was the winning entry at the 2010 iowa st...              0  \n",
       "104  i was craving blueberry tonight but wanted non...              0  \n",
       "146  while trying to come up with a satisfying \"sna...              7  "
      ]
     },
     "execution_count": 244,
     "metadata": {},
     "output_type": "execute_result"
    }
   ],
   "source": [
    "recipes_2010.head()"
   ]
  },
  {
   "cell_type": "markdown",
   "metadata": {},
   "source": [
    "1\\.1 С использованием метода `DataFrame.iterrows` таблицы:\n",
    "\n",
    "    - функция принимает на вход таблицу, содержащую рецепты за 2010 год;\n",
    "    \n",
    "    - нахождение полного описания рецепта осуществляется внутри цикла по `iterrows` для каждой строки по отдельности."
   ]
  },
  {
   "cell_type": "code",
   "execution_count": 245,
   "metadata": {},
   "outputs": [
    {
     "data": {
      "text/plain": [
       "265.501300390117"
      ]
     },
     "execution_count": 245,
     "metadata": {},
     "output_type": "execute_result"
    }
   ],
   "source": [
    "def get_mean_len_A(df: pd.DataFrame) -> float:\n",
    "    mean = 0\n",
    "    for num, row in df.iterrows():\n",
    "        mean += len(row['name'] + ' ' + row['description'])\n",
    "        \n",
    "    return(mean / df.shape[0])\n",
    "    \n",
    "get_mean_len_A(recipes_2010)"
   ]
  },
  {
   "cell_type": "markdown",
   "metadata": {},
   "source": [
    "1\\.2. С использованием метода `DataFrame.apply` таблицы:\n",
    "\n",
    "    - функция принимает на вход таблицу, содержащую рецепты за 2010 год;\n",
    "    \n",
    "    - вызываете метод apply у таблицы, в качестве аргумента передаете функцию, которая возвращает полное описание для каждой строки;\n",
    "    \n",
    "    - считаете среднюю длину описаний, вызвав соответствующий метод серии."
   ]
  },
  {
   "cell_type": "code",
   "execution_count": 246,
   "metadata": {},
   "outputs": [
    {
     "data": {
      "text/plain": [
       "265.501300390117"
      ]
     },
     "execution_count": 246,
     "metadata": {},
     "output_type": "execute_result"
    }
   ],
   "source": [
    "def get_mean_len_B(df: pd.DataFrame) -> float:\n",
    "    result = df.apply(lambda x: x['name'] + ' ' + x['description'], axis = 1)\n",
    "    return result.str.len().mean()\n",
    "\n",
    "get_mean_len_B(recipes_2010)"
   ]
  },
  {
   "cell_type": "markdown",
   "metadata": {},
   "source": [
    "1\\.3. С использованием векторизованных методов серий `pd.Series`:\n",
    "\n",
    "    - функция принимает на вход таблицу, содержащую рецепты за 2010 год;\n",
    "    \n",
    "    - при помощи векторизированных операций получаете столбец с полным описанием;\n",
    "    \n",
    "    - при помощи векторизированных операций получаете длины полного описания;\n",
    "    \n",
    "    - при помощи векторизированных операций получаете среднюю длину полных описаний. "
   ]
  },
  {
   "cell_type": "code",
   "execution_count": 247,
   "metadata": {},
   "outputs": [
    {
     "data": {
      "text/plain": [
       "265.501300390117"
      ]
     },
     "execution_count": 247,
     "metadata": {},
     "output_type": "execute_result"
    }
   ],
   "source": [
    "def get_mean_len_C(df: pd.DataFrame) -> float:\n",
    "    full_description = (df['name'] + ' ' + df['description']).str.len().mean()\n",
    "    return full_description\n",
    "\n",
    "get_mean_len_C(recipes_2010)"
   ]
  },
  {
   "cell_type": "markdown",
   "metadata": {},
   "source": [
    "1.4 Проверьте, что результаты работы всех написанных функций корректны и совпадают. Измерьте выполнения всех написанных функций при помощи магических команд `time` и `timeit`."
   ]
  },
  {
   "cell_type": "code",
   "execution_count": 248,
   "metadata": {},
   "outputs": [
    {
     "name": "stdout",
     "output_type": "stream",
     "text": [
      "225 ms ± 26.2 ms per loop (mean ± std. dev. of 7 runs, 1 loop each)\n"
     ]
    }
   ],
   "source": [
    "%timeit get_mean_len_A(recipes_2010)"
   ]
  },
  {
   "cell_type": "code",
   "execution_count": 249,
   "metadata": {},
   "outputs": [
    {
     "name": "stdout",
     "output_type": "stream",
     "text": [
      "57.3 ms ± 3.09 ms per loop (mean ± std. dev. of 7 runs, 10 loops each)\n"
     ]
    }
   ],
   "source": [
    "%timeit get_mean_len_B(recipes_2010)"
   ]
  },
  {
   "cell_type": "code",
   "execution_count": 250,
   "metadata": {},
   "outputs": [
    {
     "name": "stdout",
     "output_type": "stream",
     "text": [
      "3.63 ms ± 365 µs per loop (mean ± std. dev. of 7 runs, 100 loops each)\n"
     ]
    }
   ],
   "source": [
    "%timeit get_mean_len_C(recipes_2010)"
   ]
  },
  {
   "cell_type": "markdown",
   "metadata": {},
   "source": [
    "## Анализ пошагового выполнения кода "
   ]
  },
  {
   "cell_type": "markdown",
   "metadata": {},
   "source": [
    "Вам предлагается воспользоваться функцией, которая собирает статистику о том, сколько отзывов содержат то или иное слово. "
   ]
  },
  {
   "cell_type": "code",
   "execution_count": 102,
   "metadata": {},
   "outputs": [],
   "source": [
    "import re\n",
    "\n",
    "\n",
    "def get_word_reviews_count(df):\n",
    "    word_reviews = {}\n",
    "    for _, row in df.dropna(subset = [\"review\"]).iterrows():\n",
    "        recipe_id, review = row[\"recipe_id\"], row[\"review\"]\n",
    "        words = re.sub(\"[^A-Za-z\\s]\", \"\", review).split(\" \")\n",
    "        for word in words:\n",
    "            if word not in word_reviews:\n",
    "                word_reviews[word] = []\n",
    "            word_reviews[word].append(recipe_id)\n",
    "\n",
    "    word_reviews_count = {}\n",
    "    for _, row in df.dropna(subset=[\"review\"]).iterrows():\n",
    "        review = row[\"review\"]\n",
    "        words = re.sub(\"[^A-Za-z\\s]\", \"\", review).split(\" \")\n",
    "        for word in words:\n",
    "            word_reviews_count[word] = len(word_reviews[word])\n",
    "    return word_reviews_count"
   ]
  },
  {
   "cell_type": "code",
   "execution_count": 105,
   "metadata": {},
   "outputs": [],
   "source": [
    "%lprun -f get_word_reviews_count get_word_reviews_count(reviews)"
   ]
  },
  {
   "cell_type": "markdown",
   "metadata": {},
   "source": [
    "2.1 Найдите узкие места в коде, проанализировав код функции по шагам, используя профайлер. Сохраните результаты работы профайлера в отдельную текстовую ячейку. Выпишите (словами), что в имеющемся коде реализовано неоптимально. "
   ]
  },
  {
   "attachments": {
    "image.png": {
     "image/png": "[encoded data removed]"
    }
   },
   "cell_type": "markdown",
   "metadata": {},
   "source": [
    "![image.png](attachment:image.png)"
   ]
  },
  {
   "cell_type": "markdown",
   "metadata": {},
   "source": [
    "Так и не смог договориться с line_profiler, чтобы он вывоводил саму строку в отчёте("
   ]
  },
  {
   "cell_type": "markdown",
   "metadata": {},
   "source": [
    "## Неоптимально реализованные моменты кода\n",
    "\n",
    "1)Функция 2 раза итерируется по одному и тому же датафрейму, при этом 2 раза делая одно и то же удаление регулярных выражений для каждой строки.(при этом реализовать данную функцию можно вообще без циклов)\n",
    "\n",
    "2)Итерация по датафрейму идёт с помощью функции iterrows, которая занимает слишком много времени работы программы (причём из всей таблицы нужны всего 2 столбца, а итерация идёт по всей)\n",
    "\n",
    "3)По заданию требуется посчитать количество отзывов, в которых присутствует то или иное слово, а не количество упоминаний этого слова в отзывах"
   ]
  },
  {
   "cell_type": "markdown",
   "metadata": {},
   "source": [
    "2.2  Оптимизируйте функцию и добейтесь значительного (как минимум, в 5 раз) прироста в скорости выполнения. Для демонстрации результата измерьте скорость выполнения оригинальной функции и функции, написанной вами."
   ]
  },
  {
   "cell_type": "code",
   "execution_count": 251,
   "metadata": {},
   "outputs": [],
   "source": [
    "def count_word_freq(reviews):\n",
    "    res = reviews['review'].apply(lambda x: list(set(re.sub(\"[^A-Za-z\\s]\", \"\", str(x)).split()))).explode()\n",
    "    return (collections.Counter(res.values))"
   ]
  },
  {
   "cell_type": "code",
   "execution_count": 254,
   "metadata": {},
   "outputs": [
    {
     "name": "stdout",
     "output_type": "stream",
     "text": [
      "1min 2s ± 1.39 s per loop (mean ± std. dev. of 7 runs, 1 loop each)\n"
     ]
    }
   ],
   "source": [
    "%%timeit\n",
    "dict1 = get_word_reviews_count(reviews)"
   ]
  },
  {
   "cell_type": "code",
   "execution_count": 255,
   "metadata": {},
   "outputs": [
    {
     "name": "stdout",
     "output_type": "stream",
     "text": [
      "8.01 s ± 161 ms per loop (mean ± std. dev. of 7 runs, 1 loop each)\n"
     ]
    }
   ],
   "source": [
    "%%timeit\n",
    "dict2 = count_word_freq(reviews)"
   ]
  },
  {
   "cell_type": "code",
   "execution_count": 256,
   "metadata": {},
   "outputs": [
    {
     "data": {
      "text/plain": [
       "(109239, 61759)"
      ]
     },
     "execution_count": 256,
     "metadata": {},
     "output_type": "execute_result"
    }
   ],
   "source": [
    "dict1['of'], dict2['of']"
   ]
  },
  {
   "cell_type": "markdown",
   "metadata": {},
   "source": [
    "Расхождение обусловлено 3 пунктом в неоптимальной реализации кода (если реализация изначальной функции правильная) достаточно убрать удаление дубликатов в функции с помощью set(...)"
   ]
  },
  {
   "cell_type": "code",
   "execution_count": 257,
   "metadata": {},
   "outputs": [],
   "source": [
    "def count_word_freq_2(reviews):\n",
    "    res = reviews['review'].apply(lambda x: list(re.sub(\"[^A-Za-z\\s]\", \"\", str(x)).split())).explode()\n",
    "    return (collections.Counter(res.values))"
   ]
  },
  {
   "cell_type": "markdown",
   "metadata": {},
   "source": [
    "## Numba"
   ]
  },
  {
   "cell_type": "markdown",
   "metadata": {},
   "source": [
    "В файле `rating_predictions.json` хранятся данные о рейтингах рецептов и прогнозных значениях рейтингов для этого рецепта, полученных при помощи модели машинного обучения. \n",
    "\n",
    "Напишите несколько версий функции (см. [MAPE](https://en.wikipedia.org/wiki/Mean_absolute_percentage_error)) для расчета среднего абсолютного процентного отклонения значения рейтинга отзыва на рецепт от прогнозного значения рейтинга для данного рецепта. \n",
    "\n",
    "\n",
    "Замечание 1: в формуле MAPE под $A_t$ понимается рейтинг из отзыва $t$, под $F_t$ - прогнозное значения рейтинга отзыва $t$.\n",
    "\n",
    "Замечание 2: в результате работы функций должно получиться одно число - MAPE для всего набора данных."
   ]
  },
  {
   "cell_type": "code",
   "execution_count": 132,
   "metadata": {},
   "outputs": [
    {
     "data": {
      "text/html": [
       "<div>\n",
       "<style scoped>\n",
       "    .dataframe tbody tr th:only-of-type {\n",
       "        vertical-align: middle;\n",
       "    }\n",
       "\n",
       "    .dataframe tbody tr th {\n",
       "        vertical-align: top;\n",
       "    }\n",
       "\n",
       "    .dataframe thead th {\n",
       "        text-align: right;\n",
       "    }\n",
       "</style>\n",
       "<table border=\"1\" class=\"dataframe\">\n",
       "  <thead>\n",
       "    <tr style=\"text-align: right;\">\n",
       "      <th></th>\n",
       "      <th>A_type</th>\n",
       "      <th>F_type</th>\n",
       "    </tr>\n",
       "  </thead>\n",
       "  <tbody>\n",
       "    <tr>\n",
       "      <th>0</th>\n",
       "      <td>5.0</td>\n",
       "      <td>4.944444</td>\n",
       "    </tr>\n",
       "    <tr>\n",
       "      <th>1</th>\n",
       "      <td>5.0</td>\n",
       "      <td>4.437500</td>\n",
       "    </tr>\n",
       "    <tr>\n",
       "      <th>2</th>\n",
       "      <td>5.0</td>\n",
       "      <td>4.727273</td>\n",
       "    </tr>\n",
       "    <tr>\n",
       "      <th>3</th>\n",
       "      <td>5.0</td>\n",
       "      <td>4.354545</td>\n",
       "    </tr>\n",
       "    <tr>\n",
       "      <th>4</th>\n",
       "      <td>5.0</td>\n",
       "      <td>4.888889</td>\n",
       "    </tr>\n",
       "  </tbody>\n",
       "</table>\n",
       "</div>"
      ],
      "text/plain": [
       "   A_type    F_type\n",
       "0     5.0  4.944444\n",
       "1     5.0  4.437500\n",
       "2     5.0  4.727273\n",
       "3     5.0  4.354545\n",
       "4     5.0  4.888889"
      ]
     },
     "execution_count": 132,
     "metadata": {},
     "output_type": "execute_result"
    }
   ],
   "source": [
    "import json\n",
    "with open('rating_predictions.json', encoding = 'utf-8') as read_file:\n",
    "    rating_info = json.load(read_file)\n",
    "    \n",
    "df_rating = pd.DataFrame(rating_info)\n",
    "df_rating.columns = ['A_type', 'F_type']\n",
    "df_rating.head()"
   ]
  },
  {
   "cell_type": "markdown",
   "metadata": {},
   "source": [
    "3\\.1 Создайте два списка `A_list` и `F_list` на основе файла `rating_predictions.json`. Напишите функцию `mape_lists` без использования векторизованных операций и методов массивов `numpy` и без использования `numba` (проитерируйтесь по спискам и вычислите суммарное значение MAPE для всех элементов, а потом усредните результат).\n",
    "\n",
    "Измерьте время выполнения данной функции на входных данных `A_list` и `F_list`. Временем, затрачиваемым на создание списков, можно пренебречь.\n",
    "    "
   ]
  },
  {
   "cell_type": "code",
   "execution_count": 258,
   "metadata": {},
   "outputs": [],
   "source": [
    "A_list, F_list = list(df_rating['A_type'].values), list(df_rating['F_type'].values)"
   ]
  },
  {
   "cell_type": "code",
   "execution_count": 259,
   "metadata": {},
   "outputs": [
    {
     "data": {
      "text/plain": [
       "13.325265503992636"
      ]
     },
     "execution_count": 259,
     "metadata": {},
     "output_type": "execute_result"
    }
   ],
   "source": [
    "def mape_lists(A_list, F_list):\n",
    "    mean = 0\n",
    "    for cur_a, cur_f in zip(A_list, F_list):\n",
    "        mean += abs((cur_a - cur_f) / cur_a)\n",
    "    return (mean / len(A_list) * 100)\n",
    "\n",
    "mape_lists(A_list, F_list)"
   ]
  },
  {
   "cell_type": "markdown",
   "metadata": {},
   "source": [
    "3\\.2. Создайте массивы `numpy` `A_array` и `F_array` на основе списков `A_list` и `F_list`. Напишите функцию `mape_numpy` с использованием векторизованных операций и методов массивов `numpy`.\n",
    "\n",
    "Измерьте время выполнения данной функции на входных данных `A_array` и `F_array`. Временем, затрачиваемым на создание массивов, можно пренебречь."
   ]
  },
  {
   "cell_type": "code",
   "execution_count": 260,
   "metadata": {},
   "outputs": [],
   "source": [
    "A_array, F_array = np.array(A_list), np.array(F_list)"
   ]
  },
  {
   "cell_type": "code",
   "execution_count": 261,
   "metadata": {},
   "outputs": [
    {
     "data": {
      "text/plain": [
       "13.32526550399145"
      ]
     },
     "execution_count": 261,
     "metadata": {},
     "output_type": "execute_result"
    }
   ],
   "source": [
    "def mape_numpy(A_array, F_array):\n",
    "    return (abs((A_array - F_array) / A_array).sum() / A_array.shape[0] * 100)\n",
    "\n",
    "mape_numpy(A_array, F_array)"
   ]
  },
  {
   "cell_type": "markdown",
   "metadata": {},
   "source": [
    "3\\.3. Создайте объекты `numba.typed.List` `A_typed` и `F_typed` на основе списков `A_list` и `F_list`. Напишите функцию `mape_numba` без использования векторизованных операций и методов массивов `numpy`, но с использованием `numba`. \n",
    "\n",
    "Измерьте время выполнения данной функции на входных данных `A_typed` и `F_typed`. Временем, затрачиваемым на создание объектов `numba.typed.List`, можно пренебречь.\n",
    "\n",
    "Измерьте время выполнения данной функции на входных данных `A_numpy` и `F_numpy`."
   ]
  },
  {
   "cell_type": "code",
   "execution_count": 262,
   "metadata": {},
   "outputs": [],
   "source": [
    "A_typed, F_typed = numba.typed.List(A_list), numba.typed.List(F_list)"
   ]
  },
  {
   "cell_type": "code",
   "execution_count": 268,
   "metadata": {},
   "outputs": [
    {
     "data": {
      "text/plain": [
       "13.325265503992636"
      ]
     },
     "execution_count": 268,
     "metadata": {},
     "output_type": "execute_result"
    }
   ],
   "source": [
    "@njit\n",
    "def mape_numba(A_typed, F_typed):\n",
    "    mape_sum = 0\n",
    "    for cur in numba.prange(len(A_typed)):\n",
    "        mape_sum += abs((A_typed[cur] - F_typed[cur]) / A_typed[cur])\n",
    "    return (mape_sum / len(A_typed)) * 100\n",
    "\n",
    "mape_numba(A_typed, F_typed)"
   ]
  },
  {
   "cell_type": "markdown",
   "metadata": {},
   "source": [
    "# Сравнение эффективности функций по времени"
   ]
  },
  {
   "cell_type": "code",
   "execution_count": 264,
   "metadata": {},
   "outputs": [
    {
     "name": "stdout",
     "output_type": "stream",
     "text": [
      "133 ms ± 7.7 ms per loop (mean ± std. dev. of 7 runs, 10 loops each)\n"
     ]
    }
   ],
   "source": [
    "%timeit mape_lists(A_list, F_list)"
   ]
  },
  {
   "cell_type": "code",
   "execution_count": 265,
   "metadata": {},
   "outputs": [
    {
     "name": "stdout",
     "output_type": "stream",
     "text": [
      "684 µs ± 44.9 µs per loop (mean ± std. dev. of 7 runs, 1,000 loops each)\n"
     ]
    }
   ],
   "source": [
    "%timeit mape_numpy(A_array, F_array)"
   ]
  },
  {
   "cell_type": "code",
   "execution_count": 271,
   "metadata": {},
   "outputs": [
    {
     "name": "stdout",
     "output_type": "stream",
     "text": [
      "3.51 ms ± 344 µs per loop (mean ± std. dev. of 7 runs, 100 loops each)\n"
     ]
    }
   ],
   "source": [
    "%timeit mape_numba(A_typed, F_typed)"
   ]
  },
  {
   "cell_type": "code",
   "execution_count": 272,
   "metadata": {},
   "outputs": [
    {
     "name": "stdout",
     "output_type": "stream",
     "text": [
      "386 µs ± 19.4 µs per loop (mean ± std. dev. of 7 runs, 1,000 loops each)\n"
     ]
    }
   ],
   "source": [
    "%timeit mape_numba(A_array, F_array)"
   ]
  },
  {
   "cell_type": "markdown",
   "metadata": {},
   "source": [
    "## Векторизация"
   ]
  },
  {
   "cell_type": "markdown",
   "metadata": {},
   "source": [
    "Сайт-агрегатор устроил акцию: он дарит купоны на посещение ресторана тем пользователям, оставившим отзывы, идентификатор которых является _красивым числом_. Натуральное число называется _красивым_, если первая цифра числа совпадает с последней цифрой числа. \n",
    "\n"
   ]
  },
  {
   "cell_type": "markdown",
   "metadata": {},
   "source": [
    "4\\.1 Напишите функцию `is_pretty`, которая для каждого идентификатора пользователя из файла определяет, получит ли он подарок. Запрещается преобразовывать идентификатор пользователя к строке. Подтвердите корректность реализации, продемонстрировав примеры."
   ]
  },
  {
   "cell_type": "code",
   "execution_count": 177,
   "metadata": {},
   "outputs": [
    {
     "data": {
      "text/plain": [
       "array([ 57993, 142201, 252013, ..., 222001, 354979, 415599], dtype=int64)"
      ]
     },
     "execution_count": 177,
     "metadata": {},
     "output_type": "execute_result"
    }
   ],
   "source": [
    "ids = reviews[\"recipe_id\"].values\n",
    "ids"
   ]
  },
  {
   "cell_type": "code",
   "execution_count": 1,
   "metadata": {},
   "outputs": [],
   "source": [
    "def is_pretty(n: int) -> bool:\n",
    "    \n",
    "    pow_10 = 10 ** int(np.log10(n))\n",
    "    \n",
    "    return n // pow_10 == n % 10"
   ]
  },
  {
   "cell_type": "markdown",
   "metadata": {},
   "source": [
    "# Примеры"
   ]
  },
  {
   "cell_type": "code",
   "execution_count": 183,
   "metadata": {},
   "outputs": [
    {
     "data": {
      "text/plain": [
       "(52035, True)"
      ]
     },
     "execution_count": 183,
     "metadata": {},
     "output_type": "execute_result"
    }
   ],
   "source": [
    "ids[36], is_pretty(ids[36])"
   ]
  },
  {
   "cell_type": "code",
   "execution_count": 184,
   "metadata": {},
   "outputs": [
    {
     "data": {
      "text/plain": [
       "(25169, False)"
      ]
     },
     "execution_count": 184,
     "metadata": {},
     "output_type": "execute_result"
    }
   ],
   "source": [
    "ids[100], is_pretty(ids[100])"
   ]
  },
  {
   "cell_type": "markdown",
   "metadata": {},
   "source": [
    "4\\.2 Посчитайте с помощью функции `is_pretty` количество пользователей, которые получат подарок. Выведите это количество на экран. Измерьте время расчетов для входных данных `ids`."
   ]
  },
  {
   "cell_type": "code",
   "execution_count": 188,
   "metadata": {},
   "outputs": [
    {
     "name": "stdout",
     "output_type": "stream",
     "text": [
      "CPU times: total: 844 ms\n",
      "Wall time: 904 ms\n"
     ]
    },
    {
     "data": {
      "text/plain": [
       "11955"
      ]
     },
     "execution_count": 188,
     "metadata": {},
     "output_type": "execute_result"
    }
   ],
   "source": [
    "%%time\n",
    "\n",
    "counter = 0\n",
    "\n",
    "for cur_id in ids:\n",
    "    counter += is_pretty(cur_id)\n",
    "    \n",
    "counter"
   ]
  },
  {
   "cell_type": "markdown",
   "metadata": {},
   "source": [
    "4\\.3. При помощи `numpy` создайте векторизованную версию функции `is_pretty`. Посчитайте с помощью этой векторизованной функции количество пользователей, которые получат подарок. Выведите это количество на экран. Измерьте время расчетов для входных данных `ids`.\n"
   ]
  },
  {
   "cell_type": "code",
   "execution_count": 196,
   "metadata": {},
   "outputs": [],
   "source": [
    "np_is_pretty = np.vectorize(is_pretty)"
   ]
  },
  {
   "cell_type": "code",
   "execution_count": 207,
   "metadata": {},
   "outputs": [
    {
     "name": "stdout",
     "output_type": "stream",
     "text": [
      "CPU times: total: 750 ms\n",
      "Wall time: 754 ms\n"
     ]
    },
    {
     "data": {
      "text/plain": [
       "11955"
      ]
     },
     "execution_count": 207,
     "metadata": {},
     "output_type": "execute_result"
    }
   ],
   "source": [
    "%%time \n",
    "vect_is_pretty(ids).sum()"
   ]
  },
  {
   "cell_type": "markdown",
   "metadata": {},
   "source": [
    "4\\.4. При помощи `numba` создайте векторизованную версию функции `is_pretty`. Посчитайте с помощью этой векторизованной функции количество пользователей, которые получат подарок. Выведите это количество на экран. Измерьте время расчетов для входных данных `ids`.\n"
   ]
  },
  {
   "cell_type": "code",
   "execution_count": 203,
   "metadata": {},
   "outputs": [],
   "source": [
    "numba_is_pretty = numba.vectorize()(is_pretty)"
   ]
  },
  {
   "cell_type": "code",
   "execution_count": 209,
   "metadata": {},
   "outputs": [
    {
     "name": "stdout",
     "output_type": "stream",
     "text": [
      "CPU times: total: 0 ns\n",
      "Wall time: 4.09 ms\n"
     ]
    },
    {
     "data": {
      "text/plain": [
       "11955"
      ]
     },
     "execution_count": 209,
     "metadata": {},
     "output_type": "execute_result"
    }
   ],
   "source": [
    "%%time \n",
    "numba_is_pretty(ids).sum()"
   ]
  }
 ],
 "metadata": {
  "kernelspec": {
   "display_name": "Python 3 (ipykernel)",
   "language": "python",
   "name": "python3"
  },
  "language_info": {
   "codemirror_mode": {
    "name": "ipython",
    "version": 3
   },
   "file_extension": ".py",
   "mimetype": "text/x-python",
   "name": "python",
   "nbconvert_exporter": "python",
   "pygments_lexer": "ipython3",
   "version": "3.8.13"
  }
 },
 "nbformat": 4,
 "nbformat_minor": 4
}
