{
 "cells": [
  {
   "cell_type": "code",
   "execution_count": 86,
   "metadata": {},
   "outputs": [
    {
     "name": "stdout",
     "output_type": "stream",
     "text": [
      "3 3\n",
      "2000 1000\n",
      "2000 1000\n",
      "2000 1000\n",
      "Impossible\n"
     ]
    }
   ],
   "source": [
    "import sys\n",
    "sys.stdin = open('INPUT.TXT', 'r')\n",
    "sys.stdout = open('OUTPUT.TXT', 'w')\n",
    "\n",
    "n, r = map(int, input().split())\n",
    "ans = []\n",
    "a = [0] * (n + 1)\n",
    "w = [0] * (n + 1)\n",
    "d = [0] * (n + 1)\n",
    "fl = True\n",
    "for i in range(n):\n",
    "    w[i], d[i] = map(int, input().split())\n",
    "    if w[i] > d[i] and r == 1:\n",
    "        fl = False\n",
    "if not fl:\n",
    "    print('Impossible')\n",
    "kol, ch = 0, 0\n",
    "t = 0\n",
    "fl = True\n",
    "for i in range(n):\n",
    "    w[i] -= kol\n",
    "    d[i] -= kol\n",
    "    if w[i] > d[i]:\n",
    "        if t > d[i]:\n",
    "            fl = False\n",
    "        ans.append((t, i + 1))\n",
    "        kol = (w[i] - d[i] + r - 2) // (r - 1)\n",
    "        t += kol\n",
    "if not fl:\n",
    "    print('Impossible')\n",
    "else:\n",
    "    for i in ans:\n",
    "        print(i[0], i[1])"
   ]
  },
  {
   "cell_type": "code",
   "execution_count": 4,
   "metadata": {},
   "outputs": [
    {
     "name": "stdout",
     "output_type": "stream",
     "text": [
      "['2021', '05', '30']\n",
      "30/05/2021\n"
     ]
    }
   ],
   "source": [
    "from datetime import date\n",
    "\n",
    "d = str(date.today()).split('-')\n",
    "print(d)\n",
    "d_new = '/'.join(d[::-1])\n",
    "print(d_new)"
   ]
  },
  {
   "cell_type": "code",
   "execution_count": 3,
   "metadata": {},
   "outputs": [
    {
     "name": "stdout",
     "output_type": "stream",
     "text": [
      "Системная дата  2021-05-30\n",
      "Росс стандарт  30/05/2021\n"
     ]
    }
   ],
   "source": [
    "from datetime import date\n",
    "d1=date.today ()\n",
    "ds=str (d1)\n",
    "print(\"Системная дата \",ds)\n",
    "lst=ds.split('-')\n",
    "lst.reverse()\n",
    "rusdate=\"/\".join(lst)\n",
    "print(\"Росс стандарт \",rusdate)\n"
   ]
  },
  {
   "cell_type": "code",
   "execution_count": null,
   "metadata": {},
   "outputs": [],
   "source": []
  }
 ],
 "metadata": {
  "kernelspec": {
   "display_name": "Python 3",
   "language": "python",
   "name": "python3"
  },
  "language_info": {
   "codemirror_mode": {
    "name": "ipython",
    "version": 3
   },
   "file_extension": ".py",
   "mimetype": "text/x-python",
   "name": "python",
   "nbconvert_exporter": "python",
   "pygments_lexer": "ipython3",
   "version": "3.8.3"
  }
 },
 "nbformat": 4,
 "nbformat_minor": 4
}
