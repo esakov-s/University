{
 "cells": [
  {
   "cell_type": "code",
   "execution_count": 29,
   "metadata": {},
   "outputs": [
    {
     "name": "stdout",
     "output_type": "stream",
     "text": [
      "c a b\n",
      "5 4 3\n",
      "['b', 'a', 'c']\n"
     ]
    }
   ],
   "source": [
    "#2\n",
    "def psort(*names):\n",
    "    names = sorted(names, key = lambda x: x[1]) # Сортировка по второму элементу\n",
    "    return(names)\n",
    "\n",
    "\n",
    "a = list(input().split())  #Список названий параметров\n",
    "b = list(input().split())  #Список значений параметров\n",
    "res = list()\n",
    "for i in range(len(a)):\n",
    "    t = a[i], int(b[i])\n",
    "    res.append(t)          #Список пар параметров и их значений (пары сохранены в кортежах)\n",
    "    \n",
    "res = psort(*res)\n",
    "nam = list()\n",
    "for i in res:\n",
    "    nam.append(i[0])\n",
    "print(nam)"
   ]
  },
  {
   "cell_type": "code",
   "execution_count": 24,
   "metadata": {},
   "outputs": [
    {
     "name": "stdout",
     "output_type": "stream",
     "text": [
      "0\n",
      "[0]\n",
      "[0]\n"
     ]
    }
   ],
   "source": [
    "#3\n",
    "def shell_sort(d):\n",
    "    dif = len(d) // 2  #Длина промежутка сравнения\n",
    "    while dif > 0:\n",
    "        for i1 in range(dif, len(d)):\n",
    "            i2 = i1\n",
    "            delta = i2 - dif\n",
    "            while d[delta] > d[i2]: #меняем местами элементы, стоящие не по порядку\n",
    "                c = d[i2]\n",
    "                d[i2] = d[delta]\n",
    "                d[delta] = c\n",
    "                \n",
    "                i2 = delta\n",
    "                delta = i2 - dif\n",
    "                if  delta < 0:\n",
    "                    break\n",
    "        dif //= 2  #сокращение промежутка сравнений\n",
    "    return(d)\n",
    "\n",
    "\n",
    "a = list(input().split()) #Ввод данных\n",
    "for i in range(len(a)):\n",
    "    a[i] = int(a[i])\n",
    "    \n",
    "print(\"Изначальный массив: \", a)\n",
    "print(\"Отсортированный массив: \", shell_sort(a))"
   ]
  },
  {
   "cell_type": "code",
   "execution_count": null,
   "metadata": {},
   "outputs": [],
   "source": []
  },
  {
   "cell_type": "code",
   "execution_count": null,
   "metadata": {},
   "outputs": [],
   "source": []
  }
 ],
 "metadata": {
  "kernelspec": {
   "display_name": "Python 3",
   "language": "python",
   "name": "python3"
  },
  "language_info": {
   "codemirror_mode": {
    "name": "ipython",
    "version": 3
   },
   "file_extension": ".py",
   "mimetype": "text/x-python",
   "name": "python",
   "nbconvert_exporter": "python",
   "pygments_lexer": "ipython3",
   "version": "3.8.3"
  }
 },
 "nbformat": 4,
 "nbformat_minor": 4
}
