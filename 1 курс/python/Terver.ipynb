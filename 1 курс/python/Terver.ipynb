{
 "cells": [
  {
   "cell_type": "code",
   "execution_count": 4,
   "metadata": {},
   "outputs": [
    {
     "name": "stdout",
     "output_type": "stream",
     "text": [
      "Вероятность выбора правильной последовательности шариков: 0.037\n"
     ]
    }
   ],
   "source": [
    "#В корзине находятся 3 белых, 3 синих и 3 красных шара. \n",
    "#Последовательно выбираем шары из корзины без возвращения. \n",
    "#Построить модель процесса выбора шаров из корзины. \n",
    "#Оценить вероятность того, что первым будет выбран белый, вторым – синий, а третьим – красный шар. Оценку провести\n",
    "#на основании 1000 испытаний.\n",
    "\n",
    "import random as ra\n",
    "def gen_choosing(a, b, c):\n",
    "    res = ra.randint(1, 9 - a - b - c)\n",
    "    if 1 <= res <= 3 and a + b + c == 0:\n",
    "        return gen_choosing(a + 1, b, c)\n",
    "    if 3 <= res <= 5 and a == 1:\n",
    "        return gen_choosing(a, b + 1, c)\n",
    "    if 5 <= res <= 7 and a == b == 1:\n",
    "        return 1\n",
    "    return 0\n",
    "\n",
    "sum1 = 0\n",
    "for i in range(10000):\n",
    "    sum1 += gen_choosing(0, 0, 0)\n",
    "print(\"Вероятность выбора правильной последовательности шариков:\", round(sum1 / 10000, 3))\n",
    "\n",
    "#Результаты пяти испытаний\n",
    "# 0.038\n",
    "# 0.040\n",
    "# 0.045\n",
    "# 0.031\n",
    "# 0.028"
   ]
  },
  {
   "cell_type": "code",
   "execution_count": 5,
   "metadata": {},
   "outputs": [
    {
     "name": "stdout",
     "output_type": "stream",
     "text": [
      "Оценка вероятности опоздания ученика в школу: 0.173\n"
     ]
    }
   ],
   "source": [
    "# Ученик выходит из дома в школу за 40 минут до начала уроков.\n",
    "# Длительность интервала времени перехода от дома до остановки трамвая есть\n",
    "# нормально распределенная случайная величина с параметрами µ1 = 10 мин.\n",
    "# и σ = 1 мин. Длительность интервала времени от момента ожидания трамвая,\n",
    "# последующей поездки и до момента выхода из трамвая есть \n",
    "# нормально распределенная случайная величина с параметрами µ = 20 мин. и σ = 5 мин. \n",
    "# Длительность интервала времени перехода от остановки трамвая до школы есть\n",
    "# нормально распределенная случайная величина с параметрами µ3 = 5 мин.\n",
    "# и σ = 1 мин. Построить модель определения времени перехода ученика от дома до школы. \n",
    "# На основании 1000 испытаний с моделью оценить вероятность того, что ученик опоздает к началу уроков. \n",
    "\n",
    "import random as ra\n",
    "def normal_distr(u, s):\n",
    "    r = 0.0\n",
    "    for i in range (12):\n",
    "        r += ra.random()\n",
    "    x = u + s * (r - 6.0)\n",
    "    return (x)\n",
    "\n",
    "\n",
    "tmax = 40.0       #Время до опоздания в школу\n",
    "ver = 0           #Количество опоздаий\n",
    "\n",
    "# Параметры первого нормального распределения\n",
    "u1 = 10\n",
    "s1 = 1\n",
    "# Параметры второго нормального распределения\n",
    "u2 = 20\n",
    "s2 = 5\n",
    "# Параметры третьего нормального распределения\n",
    "u3 = 5\n",
    "s3 = 1\n",
    "\n",
    "for k in range(1000):\n",
    "    t1 = normal_distr(u1, s1)\n",
    "    t2 = normal_distr(u2, s2)\n",
    "    t3 = normal_distr(u3, s3)\n",
    "    if tmax < t1 + t2 + t3:\n",
    "        ver += 1\n",
    "print(\"Оценка вероятности опоздания ученика в школу:\", round(ver / 1000.0, 3))\n",
    "\n",
    "#Результаты 5 испытаний\n",
    "# 0.160\n",
    "# 0.171\n",
    "# 0.169\n",
    "# 0.174\n",
    "# 0.170"
   ]
  },
  {
   "cell_type": "code",
   "execution_count": 2,
   "metadata": {},
   "outputs": [
    {
     "name": "stdout",
     "output_type": "stream",
     "text": [
      "1000\n",
      "1\n",
      "2\n"
     ]
    },
    {
     "data": {
      "text/plain": [
       "(array([4., 3., 3., 1., 2., 1., 2., 1., 1., 2.]),\n",
       " array([0.0026 , 0.01443, 0.02626, 0.03809, 0.04992, 0.06175, 0.07358,\n",
       "        0.08541, 0.09724, 0.10907, 0.1209 ]),\n",
       " <a list of 10 Patch objects>)"
      ]
     },
     "execution_count": 2,
     "metadata": {},
     "output_type": "execute_result"
    },
    {
     "data": {
      "image/png": "[encoded data removed]",
      "text/plain": [
       "<Figure size 432x288 with 1 Axes>"
      ]
     },
     "metadata": {
      "needs_background": "light"
     },
     "output_type": "display_data"
    }
   ],
   "source": [
    "# Построить модель процесса слияния двух пуассоновских потоков \n",
    "# (с параметрами соответственно λ1 и λ2) частиц в один поток. \n",
    "# Построить выборочную функцию плотности распределения \n",
    "# длительности интервала времени между двумя частицами общего потока. \n",
    "import math as ma\n",
    "import random as ra\n",
    "import matplotlib.pyplot as py\n",
    "def function_density(l):\n",
    "    d = (l[len(l) - 1] - l[0]) / 20.0\n",
    "    kol = [0 for i in range(20)]\n",
    "    for i in range(len(l) - 1):\n",
    "        num = (l[i] - l[0]) // d\n",
    "        kol[int(num)] += 1\n",
    "    kol[19] += 1\n",
    "    \n",
    "    int_vers = list()\n",
    "    for i in range(20):\n",
    "        int_vers.append(float(kol[i] / len(l)))\n",
    "    return(int_vers)\n",
    "\n",
    "n = int(input())\n",
    "l1 = list()\n",
    "l2 = list()\n",
    "lam1 = float(input())\n",
    "lam2 = float(input())\n",
    "t1 = 0\n",
    "t2 = 0\n",
    "for i in range (n):\n",
    "    t1 += - (1.0 / lam1) * ma.log(ra.random())\n",
    "    t2 += - (1.0 / lam2) * ma.log(ra.random())\n",
    "    l1.append(t1)\n",
    "    l2.append(t2)\n",
    "    \n",
    "l1.extend(l2)\n",
    "l1 = sorted(l1)\n",
    "\n",
    "int_len = list()\n",
    "for i in range(2 * n):\n",
    "    for j in range(i):\n",
    "        int_len.append(l1[i] - l1[j])\n",
    "int_len = sorted(int_len)\n",
    "\n",
    "res = function_density(int_len)\n",
    "res = [round(res[i], 4) for i in range(len(res))]\n",
    "#print(res)\n",
    "py.hist(res, color = 'green', edgecolor = 'black')"
   ]
  },
  {
   "cell_type": "code",
   "execution_count": null,
   "metadata": {},
   "outputs": [],
   "source": []
  },
  {
   "cell_type": "code",
   "execution_count": null,
   "metadata": {},
   "outputs": [],
   "source": []
  }
 ],
 "metadata": {
  "kernelspec": {
   "display_name": "Python 3",
   "language": "python",
   "name": "python3"
  },
  "language_info": {
   "codemirror_mode": {
    "name": "ipython",
    "version": 3
   },
   "file_extension": ".py",
   "mimetype": "text/x-python",
   "name": "python",
   "nbconvert_exporter": "python",
   "pygments_lexer": "ipython3",
   "version": "3.8.3"
  }
 },
 "nbformat": 4,
 "nbformat_minor": 4
}
