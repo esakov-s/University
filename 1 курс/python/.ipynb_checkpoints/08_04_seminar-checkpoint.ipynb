{
 "cells": [
  {
   "cell_type": "code",
   "execution_count": 16,
   "metadata": {},
   "outputs": [],
   "source": [
    "#7 Создать модуль, содержащий указанные подпрограммы: \n",
    "#  1) ввода-вывода матриц на экран; \n",
    "#  2) сложения матриц;  \n",
    "#  3) умножения матриц; \n",
    "#  4) построение транспонированной матрицы. \n",
    "#  Привести пример на использование модуля.\n",
    "\n",
    "import matrix1 as ma\n",
    "import numpy as np\n",
    "def show_matr(a):   # Добавить ввод и вывод через файл\n",
    "    fout = open('output.txt', mode = 'w')\n",
    "    print(a, file = fout)\n",
    "    fout.close()\n",
    "\n",
    "def create_matr(n, m, z):\n",
    "    a = [[]]\n",
    "    i = 0\n",
    "    for line in z:\n",
    "        a.append(line.split())\n",
    "        if i == 0:\n",
    "            a = a[1:]\n",
    "        for j in range(len(a[i])):\n",
    "            a[i][j] = int(a[i][j])\n",
    "        i += 1\n",
    "    return (a)\n",
    "\n",
    "n, m = 1, 1\n",
    "fin = open('input1.txt', mode = 'r')\n",
    "a = create_matr(n, m, fin)\n",
    "fin.close()\n",
    "fin = open('input2.txt', mode = 'r')\n",
    "b = create_matr(n, m, fin)\n",
    "fin.close()\n",
    "\n",
    "\n",
    "#show_matr(ma.addition(np.array(a), np.array(b)))\n",
    "#show_matr(ma.multipl(np.array(a), np.array(b)))\n",
    "show_matr(ma.transpos(np.array(b)))"
   ]
  },
  {
   "cell_type": "code",
   "execution_count": null,
   "metadata": {},
   "outputs": [],
   "source": []
  }
 ],
 "metadata": {
  "kernelspec": {
   "display_name": "Python 3",
   "language": "python",
   "name": "python3"
  },
  "language_info": {
   "codemirror_mode": {
    "name": "ipython",
    "version": 3
   },
   "file_extension": ".py",
   "mimetype": "text/x-python",
   "name": "python",
   "nbconvert_exporter": "python",
   "pygments_lexer": "ipython3",
   "version": "3.8.3"
  }
 },
 "nbformat": 4,
 "nbformat_minor": 4
}
