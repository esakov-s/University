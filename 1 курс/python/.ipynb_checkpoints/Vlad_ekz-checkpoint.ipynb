{
 "cells": [
  {
   "cell_type": "code",
   "execution_count": 5,
   "metadata": {},
   "outputs": [
    {
     "name": "stdout",
     "output_type": "stream",
     "text": [
      "2.0\n"
     ]
    }
   ],
   "source": [
    "#Окно проверки"
   ]
  },
  {
   "cell_type": "code",
   "execution_count": 29,
   "metadata": {},
   "outputs": [
    {
     "name": "stdout",
     "output_type": "stream",
     "text": [
      "3 4 5\n",
      "1 2 1\n",
      "Теругольник с введёнными сторонами не может существовать\n",
      "a b c\n",
      "Сторона треугольника задана нечисловым аргументом\n",
      "Теругольник с введёнными сторонами не может существовать\n",
      "[(3.0, 4.0, 5.0)]\n"
     ]
    }
   ],
   "source": [
    "#Задача 2\n",
    "\n",
    "#По трём сторонам найти площадь, если не существует, ошибка\n",
    "import math as m\n",
    "\n",
    "#Проверка существоания треугольника с такими сторонами\n",
    "def check_triangle(a, b, c):\n",
    "    if a + b > c and a + c > b and b + c > a:\n",
    "        return(True)\n",
    "    return(False)\n",
    "\n",
    "#Функция нахождения площади треуголбника по 3 его сторонам\n",
    "def count_S(a, b, c):\n",
    "    if check_triangle(a, b, c) == False:\n",
    "        return (0)\n",
    "    p = (a + b + c) / 2.0\n",
    "    S = m.sqrt(p * (p - a) * (p - b) * (p - c)) #Формула Герона\n",
    "    return(S)\n",
    "\n",
    "#Критерий сортировки площадей\n",
    "def sort_key(s):\n",
    "    return(count_S(s[0], s[1], s[2]))\n",
    "\n",
    "#Ввод сторон\n",
    "tr = list() #Создание списка треугольников\n",
    "n = 3\n",
    "for i in range(n):\n",
    "    a, b, c = input().split()\n",
    "    \n",
    "    try: #Проверка возможности преобразования длин сторон к числовому \n",
    "        a = float(a)\n",
    "        b = float(b)\n",
    "        c = float(c)\n",
    "    except:\n",
    "        print('Сторона треугольника задана нечисловым аргументом')\n",
    "    else:\n",
    "        #если является числом, проверяем, существует ли этот треугольник\n",
    "        try:\n",
    "            assert(check_triangle(a, b, c))\n",
    "        except AssertionError:\n",
    "            print(\"Теругольник с введёнными сторонами не может существовать\")\n",
    "        else:\n",
    "            tr.append((a, b, c))\n",
    "\n",
    "#Сортировка списка векторов\n",
    "tr_new = sorted(tr, key = sort_key) \n",
    "tr_new = tr_new[::-1]\n",
    "print(tr_new)"
   ]
  },
  {
   "cell_type": "code",
   "execution_count": 56,
   "metadata": {},
   "outputs": [
    {
     "name": "stdout",
     "output_type": "stream",
     "text": [
      "a 3\n",
      "b 1\n",
      "c 1\n",
      "abc 0\n",
      "None\n"
     ]
    },
    {
     "ename": "NameError",
     "evalue": "name 'x' is not defined",
     "output_type": "error",
     "traceback": [
      "\u001b[1;31m---------------------------------------------------------------------------\u001b[0m",
      "\u001b[1;31mNameError\u001b[0m                                 Traceback (most recent call last)",
      "\u001b[1;32m<ipython-input-56-2a56fdc4b143>\u001b[0m in \u001b[0;36m<module>\u001b[1;34m\u001b[0m\n\u001b[0;32m      8\u001b[0m \u001b[0mcount_words\u001b[0m \u001b[1;33m=\u001b[0m \u001b[1;32mlambda\u001b[0m \u001b[0ma\u001b[0m\u001b[1;33m,\u001b[0m\u001b[0mb\u001b[0m\u001b[1;33m:\u001b[0m \u001b[1;33m{\u001b[0m\u001b[0mx\u001b[0m\u001b[1;33m:\u001b[0m \u001b[0mb\u001b[0m\u001b[1;33m.\u001b[0m\u001b[0mcount\u001b[0m\u001b[1;33m(\u001b[0m\u001b[0mi\u001b[0m\u001b[1;33m)\u001b[0m \u001b[1;32mfor\u001b[0m \u001b[0mi\u001b[0m \u001b[1;32min\u001b[0m \u001b[0mx\u001b[0m\u001b[1;33m.\u001b[0m\u001b[0msplit\u001b[0m\u001b[1;33m(\u001b[0m\u001b[1;33m)\u001b[0m\u001b[1;33m}\u001b[0m\u001b[1;33m\u001b[0m\u001b[1;33m\u001b[0m\u001b[0m\n\u001b[0;32m      9\u001b[0m \u001b[0mprint\u001b[0m\u001b[1;33m(\u001b[0m\u001b[0mfi\u001b[0m\u001b[1;33m(\u001b[0m\u001b[1;34m\"a b c abc\"\u001b[0m\u001b[1;33m,\u001b[0m \u001b[1;34m\"a a b c a acb\"\u001b[0m\u001b[1;33m)\u001b[0m\u001b[1;33m)\u001b[0m\u001b[1;33m\u001b[0m\u001b[1;33m\u001b[0m\u001b[0m\n\u001b[1;32m---> 10\u001b[1;33m \u001b[0mprint\u001b[0m\u001b[1;33m(\u001b[0m\u001b[0mcount_words\u001b[0m\u001b[1;33m(\u001b[0m\u001b[1;34m\"a b c abc\"\u001b[0m\u001b[1;33m,\u001b[0m \u001b[1;34m\"a a b c a acb\"\u001b[0m\u001b[1;33m)\u001b[0m\u001b[1;33m)\u001b[0m\u001b[1;33m\u001b[0m\u001b[1;33m\u001b[0m\u001b[0m\n\u001b[0m",
      "\u001b[1;32m<ipython-input-56-2a56fdc4b143>\u001b[0m in \u001b[0;36m<lambda>\u001b[1;34m(a, b)\u001b[0m\n\u001b[0;32m      6\u001b[0m     \u001b[1;31m#return (res)\u001b[0m\u001b[1;33m\u001b[0m\u001b[1;33m\u001b[0m\u001b[1;33m\u001b[0m\u001b[0m\n\u001b[0;32m      7\u001b[0m \u001b[1;33m\u001b[0m\u001b[0m\n\u001b[1;32m----> 8\u001b[1;33m \u001b[0mcount_words\u001b[0m \u001b[1;33m=\u001b[0m \u001b[1;32mlambda\u001b[0m \u001b[0ma\u001b[0m\u001b[1;33m,\u001b[0m\u001b[0mb\u001b[0m\u001b[1;33m:\u001b[0m \u001b[1;33m{\u001b[0m\u001b[0mx\u001b[0m\u001b[1;33m:\u001b[0m \u001b[0mb\u001b[0m\u001b[1;33m.\u001b[0m\u001b[0mcount\u001b[0m\u001b[1;33m(\u001b[0m\u001b[0mi\u001b[0m\u001b[1;33m)\u001b[0m \u001b[1;32mfor\u001b[0m \u001b[0mi\u001b[0m \u001b[1;32min\u001b[0m \u001b[0mx\u001b[0m\u001b[1;33m.\u001b[0m\u001b[0msplit\u001b[0m\u001b[1;33m(\u001b[0m\u001b[1;33m)\u001b[0m\u001b[1;33m}\u001b[0m\u001b[1;33m\u001b[0m\u001b[1;33m\u001b[0m\u001b[0m\n\u001b[0m\u001b[0;32m      9\u001b[0m \u001b[0mprint\u001b[0m\u001b[1;33m(\u001b[0m\u001b[0mfi\u001b[0m\u001b[1;33m(\u001b[0m\u001b[1;34m\"a b c abc\"\u001b[0m\u001b[1;33m,\u001b[0m \u001b[1;34m\"a a b c a acb\"\u001b[0m\u001b[1;33m)\u001b[0m\u001b[1;33m)\u001b[0m\u001b[1;33m\u001b[0m\u001b[1;33m\u001b[0m\u001b[0m\n\u001b[0;32m     10\u001b[0m \u001b[0mprint\u001b[0m\u001b[1;33m(\u001b[0m\u001b[0mcount_words\u001b[0m\u001b[1;33m(\u001b[0m\u001b[1;34m\"a b c abc\"\u001b[0m\u001b[1;33m,\u001b[0m \u001b[1;34m\"a a b c a acb\"\u001b[0m\u001b[1;33m)\u001b[0m\u001b[1;33m)\u001b[0m\u001b[1;33m\u001b[0m\u001b[1;33m\u001b[0m\u001b[0m\n",
      "\u001b[1;31mNameError\u001b[0m: name 'x' is not defined"
     ]
    }
   ],
   "source": [
    "#Задача 3\n",
    "def fi(a, b):\n",
    "\n",
    "    for i in list(a.split()):\n",
    "        print(i, list(b.split()).count(i))\n",
    "    #return (res)\n",
    "\n",
    "count_words = lambda a,b: {: b.count(i) for i in x.split()}\n",
    "print(fi(\"a b c abc\", \"a a b c a acb\"))\n",
    "print(count_words(\"a b c abc\", \"a a b c a acb\"))"
   ]
  },
  {
   "cell_type": "code",
   "execution_count": 52,
   "metadata": {},
   "outputs": [
    {
     "name": "stdout",
     "output_type": "stream",
     "text": [
      "{'слово1': 0, 'слово2': 1, 'слово3': 1}\n"
     ]
    }
   ],
   "source": [
    "f = lambda x, y: {a : b for a,b in zip(x.split(),[y.count(word) for word in x.split()])}\n",
    "\n",
    "print(f('слово1 слово2 слово3', 'слово3 слово2 слово5'))"
   ]
  },
  {
   "cell_type": "code",
   "execution_count": null,
   "metadata": {},
   "outputs": [],
   "source": [
    "### Отсюда начинается Маша\n"
   ]
  },
  {
   "cell_type": "code",
   "execution_count": 71,
   "metadata": {},
   "outputs": [
    {
     "name": "stdout",
     "output_type": "stream",
     "text": [
      "a 1\n",
      "b 2\n",
      "c 2\n",
      "['b', 'c'] самые дорогие товары, цена 2.0\n",
      "Товар -  a ; цена -  1.0\n"
     ]
    }
   ],
   "source": [
    "#Задание 2\n",
    "\n",
    "def max_cost(l):\n",
    "    res = list()\n",
    "    m_pr = 0.0\n",
    "    for i in range(len(l)):\n",
    "        if l[i][1] > m_pr:\n",
    "            m_pr = l[i][1]\n",
    "            res = list()\n",
    "        if l[i][1] == m_pr:\n",
    "            res.append(l[i][0])\n",
    "    return(res, m_pr)\n",
    "\n",
    "def gen_goods():\n",
    "    t, c = input().split()\n",
    "    try:\n",
    "        c = float(c)\n",
    "    except:\n",
    "        print(\"Неправильный формат ввода числа\")\n",
    "        с = 0\n",
    "    try:\n",
    "        t = str(t)\n",
    "    except:\n",
    "        print(\"Неправильный формат ввода товара\")\n",
    "        t = ''\n",
    "    return (t, c)\n",
    "        \n",
    "n = 3\n",
    "data = list()\n",
    "for i in range(n):\n",
    "    t, c = gen_goods()\n",
    "    data.append((t, c))\n",
    "\n",
    "\n",
    "price1, price2 = max_cost(data)\n",
    "print(price1, 'самые дорогие товары, цена', price2)\n",
    "for i in range(len(data)):\n",
    "    m = 0\n",
    "    for j in price1:\n",
    "        if j == data[i][0]:\n",
    "            m = 1\n",
    "            break\n",
    "    if m == 0:\n",
    "        print(\"Товар - \", data[i][0], \"; цена - \", data[i][1])"
   ]
  },
  {
   "cell_type": "code",
   "execution_count": null,
   "metadata": {},
   "outputs": [],
   "source": [
    "#Задание 3"
   ]
  }
 ],
 "metadata": {
  "kernelspec": {
   "display_name": "Python 3",
   "language": "python",
   "name": "python3"
  },
  "language_info": {
   "codemirror_mode": {
    "name": "ipython",
    "version": 3
   },
   "file_extension": ".py",
   "mimetype": "text/x-python",
   "name": "python",
   "nbconvert_exporter": "python",
   "pygments_lexer": "ipython3",
   "version": "3.8.3"
  }
 },
 "nbformat": 4,
 "nbformat_minor": 4
}
