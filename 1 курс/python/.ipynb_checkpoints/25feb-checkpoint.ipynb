{
 "cells": [
  {
   "cell_type": "code",
   "execution_count": 57,
   "metadata": {},
   "outputs": [
    {
     "name": "stdout",
     "output_type": "stream",
     "text": [
      "ABCDEFGHIJKLMNOPQRSTUVWXYZabcdefghijklmnopqrstuvwxyz\n",
      "Является ли F буквой английского алфавиита: Yes\n",
      "Является ли Щ буквой английского алфавиита: No\n",
      "Пример текста на английском:There is such a fine weather today\n"
     ]
    }
   ],
   "source": [
    "#Задача \"Алфавит\"\n",
    "import string\n",
    "\n",
    "class Alphabet:\n",
    "    def __init__(self, lang, letters):\n",
    "        self.lang = lang\n",
    "        self.letters = letters\n",
    "    def show_list(self):\n",
    "        return(self.letters)\n",
    "    def letters_num(self):\n",
    "        return (len(self.letters))\n",
    "\n",
    "class EngAlphabet(Alphabet):\n",
    "    __letters_num = 52\n",
    "    def __init__(self, lang = \"En\", letters = []):\n",
    "        letters = (\"abcdefghijklmnopqrstuvwxyz\".upper() + \"abcdefghijklmnopqrstuvwxyz\")\n",
    "        super().__init__(lang, letters)  \n",
    "    def is_en_letter(self, a):\n",
    "        if a in self.letters:\n",
    "            print(\"Yes\")\n",
    "        else:\n",
    "            print(\"No\")\n",
    "    def letters_num(self):\n",
    "        return (self.__letters_num)\n",
    "    def example(self):\n",
    "        return(\"There is such a fine weather today\")\n",
    "    \n",
    "        \n",
    "abc = EngAlphabet()\n",
    "print(abc.show_list())\n",
    "print(f'Является ли F буквой английского алфавиита:', end = ' ')\n",
    "abc.is_en_letter('F')\n",
    "print(f'Является ли Щ буквой английского алфавиита:', end = ' ')\n",
    "abc.is_en_letter('Щ')\n",
    "print(f'Пример текста на английском:', end = '')\n",
    "print(abc.example())"
   ]
  },
  {
   "cell_type": "code",
   "execution_count": null,
   "metadata": {},
   "outputs": [],
   "source": [
    "#Незаконченная версия, задание по классам в первом разделе\n",
    "\n",
    "class equation:\n",
    "    def __init__(self, a):\n",
    "        self.k = a\n",
    "        self.roots = []\n",
    "    def solve(self):\n",
    "        while len(self.a) > 3:\n",
    "            while a[0] == 0:\n",
    "                a = a[1:]\n",
    "            if a[len(a) - 1] == 0:\n",
    "                self.roots.append(0)\n",
    "                a = a[:len(a) - 1]\n",
    "                continue\n",
    "            for i in range(1, a[len(a) - 1] + 1):\n",
    "                for j in range(1, a[0]):\n",
    "                    new_root = False\n",
    "                    new_k = [a[0]]\n",
    "                    cur = i / j\n",
    "                    for l in range(1, len(a) - 1):\n",
    "                        new_k.append(new_k[l - 1] * cur + a[l])\n",
    "                    if a[len(a) - 1] == 0:\n",
    "                        new_root = True\n",
    "                        a = new_k\n",
    "                        self.roots.append(cur)\n",
    "                        break\n",
    "                if new_root == True:\n",
    "                    break\n",
    "                    \n",
    "                    \n",
    "class square_equation(equation):\n",
    "    type = \"Квадратное\"\n",
    "    def __init__(self, k1, k2, k3):\n",
    "        self.a = k1\n",
    "        self.b = k2\n",
    "        self.c = k3\n",
    "    def solve(self):\n",
    "        #Дискриминант уравнения\n",
    "        d = self.b * self.b - 4 * self.a * self.c\n",
    "        if d < 0:\n",
    "            print(\"Уравнение не имеет корней на множестве действительных чисел\")\n",
    "            #return(None, None)\n",
    "        else:\n",
    "            #Корни уравнения. x1 = x2 если уравнение является полным квадратом\n",
    "            self.x1 = (-self.b + d) / (2 * self.a)\n",
    "            self.x2 = (-self.b - d) / (2 * self.a)\n",
    "            \n",
    "#      \n",
    "a = input().split()\n",
    "a[0] = int(a[0])\n",
    "a[1] = int(a[1])\n",
    "a[2] = int(a[2])\n",
    "eq = square_equation(&a)\n",
    "eq.solve()\n",
    "print(eq.x1, eq.x2)"
   ]
  },
  {
   "cell_type": "code",
   "execution_count": 4,
   "metadata": {},
   "outputs": [
    {
     "name": "stdout",
     "output_type": "stream",
     "text": [
      "1 2 1\n",
      "-1.0 -1.0\n"
     ]
    }
   ],
   "source": [
    "# №16, Вариант 7\n",
    "import math\n",
    "class square_equation():\n",
    "    type = \"Квадратное\"\n",
    "    def __init__(self, k1, k2, k3):\n",
    "        self.a = k1\n",
    "        self.b = k2\n",
    "        self.c = k3\n",
    "    def solve(self):\n",
    "        #Дискриминант уравнения\n",
    "        d = self.b * self.b - 4 * self.a * self.c\n",
    "        d = math.sqrt(d)\n",
    "        if d < 0:\n",
    "            print(\"Уравнение не имеет корней на множестве действительных чисел\")\n",
    "            #return(None, None)\n",
    "        else:\n",
    "            #Корни уравнения. x1 = x2 если уравнение является полным квадратом\n",
    "            self.x1 = (-self.b + d) / (2 * self.a)\n",
    "            self.x2 = (-self.b - d) / (2 * self.a)\n",
    "            \n",
    "#      \n",
    "a, b, c = input().split()\n",
    "eq = square_equation(int(a), int(b), int(c))\n",
    "eq.solve()\n",
    "print(eq.x1, eq.x2)"
   ]
  },
  {
   "cell_type": "code",
   "execution_count": null,
   "metadata": {},
   "outputs": [],
   "source": []
  }
 ],
 "metadata": {
  "kernelspec": {
   "display_name": "Python 3",
   "language": "python",
   "name": "python3"
  },
  "language_info": {
   "codemirror_mode": {
    "name": "ipython",
    "version": 3
   },
   "file_extension": ".py",
   "mimetype": "text/x-python",
   "name": "python",
   "nbconvert_exporter": "python",
   "pygments_lexer": "ipython3",
   "version": "3.8.3"
  }
 },
 "nbformat": 4,
 "nbformat_minor": 4
}
