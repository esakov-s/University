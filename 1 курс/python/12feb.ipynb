{
 "cells": [
  {
   "cell_type": "code",
   "execution_count": null,
   "metadata": {},
   "outputs": [],
   "source": [
    "# 5, 7, 8, 12, 13"
   ]
  },
  {
   "cell_type": "code",
   "execution_count": 11,
   "metadata": {},
   "outputs": [
    {
     "name": "stdout",
     "output_type": "stream",
     "text": [
      "3\n",
      "0.5\n",
      "0.4166666666666667\n"
     ]
    },
    {
     "data": {
      "text/plain": [
       "0.5"
      ]
     },
     "execution_count": 11,
     "metadata": {},
     "output_type": "execute_result"
    }
   ],
   "source": [
    "#5   Для заданного натурального и действительного подсчитать сумму : x - 0,5 * x ^ 2 + ... + (-1) ^ n * x ^ n / n\n",
    "\n",
    "n = int(input())\n",
    "x = float(input())\n",
    "ans = 0.0\n",
    "p = x\n",
    "for i in range (1, n + 1):\n",
    "    ans += (-1) ** (i - 1) * p / i\n",
    "    p *= x\n",
    "print (ans)\n",
    "\n",
    "#пример теста\n",
    "#       3\n",
    "#       0.5\n",
    "#Ответ  0.4166666666666667"
   ]
  },
  {
   "cell_type": "code",
   "execution_count": 32,
   "metadata": {},
   "outputs": [
    {
     "name": "stdout",
     "output_type": "stream",
     "text": [
      "2 3\n",
      "1 2 3\n",
      "4 5 6\n",
      "[[3, 2, 1], [6, 5, 4]]\n"
     ]
    }
   ],
   "source": [
    "#7 Дана матрица размера M×N. Зеркально отразить ее элементы относительно вертикальной оси симметрии матрицы \n",
    "# (при этом поменяются местами столбцы с номерами 1 и N, 2 и N – 1 и т. д.).\n",
    "m, n = input().split()\n",
    "m = int(m)\n",
    "n = int(n)\n",
    "g = [[]]\n",
    "for i in range (m):\n",
    "    g[i].extend(list(map(int, input().split())))\n",
    "    if i < m - 1 :\n",
    "        g.append([])\n",
    "        \n",
    "for i in range(0, m):\n",
    "    g[i] = g[i][n - 1::-1]\n",
    "print(g)\n",
    "# Пример\n",
    "# 2 3\n",
    "# 1 2 3\n",
    "# 4 5 6\n",
    "#Результат [[3, 2, 1], [6, 5, 4]]"
   ]
  },
  {
   "cell_type": "code",
   "execution_count": 37,
   "metadata": {},
   "outputs": [
    {
     "name": "stdout",
     "output_type": "stream",
     "text": [
      "a\n",
      "abcdaefca\n",
      "zzz\n",
      "zzzabcdzzzaefczzza\n"
     ]
    }
   ],
   "source": [
    "#8 Дан символ C и строки S, S0. Перед каждым вхождением символа C в строку S вставить стро-ку S0.\n",
    "c = input()\n",
    "s = input()\n",
    "s0 = input()\n",
    "ans = \"\"\n",
    "while s.find(c) != -1:\n",
    "    a = s.find(c)\n",
    "    ans += s[:a] + s0 + c\n",
    "    s = s[a + 1:]\n",
    "ans += s\n",
    "print (ans)\n",
    "\n",
    "# Пример\n",
    "# a\n",
    "# abcdaefca\n",
    "# zzz\n",
    "#Результат zzzabcdzzzaefczzza"
   ]
  },
  {
   "cell_type": "code",
   "execution_count": 46,
   "metadata": {},
   "outputs": [
    {
     "name": "stdout",
     "output_type": "stream",
     "text": [
      "1 2 3 45 11 15\n",
      "[45, 15]\n"
     ]
    }
   ],
   "source": [
    "#12 Дан одномерный массив целых чисел. Выбрать из массива все числа кратные 5 и упорядо-чить их по убыванию.\n",
    "a = list(input().split())\n",
    "b = []\n",
    "for i in a:\n",
    "    if int(i) % 5 == 0:\n",
    "        b.append(int(i))\n",
    "b.sort()\n",
    "print (b[len(b) - 1::-1])\n",
    "\n",
    "# Пример\n",
    "# 1 2 3 45 11 15\n",
    "#Результат [45, 15]"
   ]
  },
  {
   "cell_type": "code",
   "execution_count": 57,
   "metadata": {},
   "outputs": [
    {
     "name": "stdout",
     "output_type": "stream",
     "text": [
      "123 235124 21 10 6543\n",
      "321 421532 12 1 3456\n"
     ]
    }
   ],
   "source": [
    "#13 Описать процедуру InvertDigits(K), меняющую порядок следования цифр целого положи-тельного числа K на обратный \n",
    "#   (K – параметр целого типа, являющийся одновременно вход-ным и выходным). \n",
    "#   С помощью этой процедуры поменять порядок следования цифр на обрат-ный для каждого из пяти данных целых чисел.\n",
    "\n",
    "def InvertDigits(a):\n",
    "    b = 0\n",
    "    while a > 0:\n",
    "        b = b * 10 + (a % 10)\n",
    "        a //= 10\n",
    "    return b\n",
    "\n",
    "a = list(input().split())\n",
    "b = []\n",
    "for i in a:\n",
    "    b.append(InvertDigits(int(i)))\n",
    "print(*b)\n",
    "\n",
    "# Пример\n",
    "# 123 235124 21 10 6543\n",
    "#Результат 321 421532 12 1 3456"
   ]
  },
  {
   "cell_type": "code",
   "execution_count": null,
   "metadata": {},
   "outputs": [],
   "source": []
  }
 ],
 "metadata": {
  "kernelspec": {
   "display_name": "Python 3",
   "language": "python",
   "name": "python3"
  },
  "language_info": {
   "codemirror_mode": {
    "name": "ipython",
    "version": 3
   },
   "file_extension": ".py",
   "mimetype": "text/x-python",
   "name": "python",
   "nbconvert_exporter": "python",
   "pygments_lexer": "ipython3",
   "version": "3.8.3"
  }
 },
 "nbformat": 4,
 "nbformat_minor": 4
}
