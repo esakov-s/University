{
 "cells": [
  {
   "cell_type": "code",
   "execution_count": 2,
   "metadata": {},
   "outputs": [
    {
     "name": "stdout",
     "output_type": "stream",
     "text": [
      "4\n",
      "1\n",
      "-7\n",
      "2\n",
      "5\n",
      "Минимальное значение:  -7\n"
     ]
    }
   ],
   "source": [
    "def min_val(values, v):\n",
    "    if len(values) == 0:\n",
    "        return(\"Введён пустой массив\")\n",
    "    if (v == len(values) - 1):\n",
    "        return values[v]\n",
    "    \n",
    "    return (min(values[v], min_val(values, v + 1)))\n",
    "\n",
    "n = int(input())\n",
    "values = []\n",
    "for i in range(n):\n",
    "    a = int(input())\n",
    "    values.append(a)\n",
    "print('Минимальное значение: ', min_val(values, 0))"
   ]
  },
  {
   "cell_type": "code",
   "execution_count": 2,
   "metadata": {},
   "outputs": [
    {
     "name": "stdout",
     "output_type": "stream",
     "text": [
      "1\n",
      "wer\n",
      "0\n"
     ]
    }
   ],
   "source": [
    "##Лямбда-функции\n",
    "#a. Используя лямбда-функцию, найти, начинается ли данная строка с заданного символа\n",
    "s = input()\n",
    "x = 'a'\n",
    "ch = lambda s1, b: b == s1[0]\n",
    "print(ch(s, x))"
   ]
  },
  {
   "cell_type": "code",
   "execution_count": 9,
   "metadata": {},
   "outputs": [
    {
     "name": "stdout",
     "output_type": "stream",
     "text": [
      "4\n",
      "Hew\n",
      "wgwrg\n",
      "Argus\n",
      "SSS\n",
      "11\n"
     ]
    }
   ],
   "source": [
    "#б. Суммируйте длину имён заданного списка после удаления имён, начинающихся со строчной буквы. Используйте лямбда-функцию.\n",
    "n = int(input())\n",
    "lis = []\n",
    "for i in range(n):\n",
    "    a = input()\n",
    "    lis.append(a)\n",
    "    \n",
    "print(sum(len(i) for i in list(filter(lambda x: x[0].isupper(), lis))))"
   ]
  },
  {
   "cell_type": "code",
   "execution_count": 8,
   "metadata": {},
   "outputs": [
    {
     "name": "stdout",
     "output_type": "stream",
     "text": [
      "4\n",
      "2\n",
      "Список предоставленных слов\n",
      "d\n",
      "e\n",
      "g\n",
      "t\n",
      "Список удаляемых слов\n",
      "de\n",
      "t\n",
      "['d', 'e', 'g']\n"
     ]
    }
   ],
   "source": [
    "#в. Удалите определённые слова из заданного списка с помощью лямбда-функции.\n",
    "n = int(input())\n",
    "lis = []\n",
    "er = []\n",
    "print('Список предоставленных слов:')\n",
    "for i in range(n):\n",
    "    a = input()\n",
    "    lis.append(a)\n",
    "    \n",
    "m = int(input())\n",
    "print('Список удаляемых слов:')\n",
    "for i in range(m):\n",
    "    a = input()\n",
    "    er.append(a)\n",
    "    \n",
    "print(list(filter(lambda x: x not in er, lis)))"
   ]
  },
  {
   "cell_type": "code",
   "execution_count": null,
   "metadata": {},
   "outputs": [],
   "source": []
  }
 ],
 "metadata": {
  "kernelspec": {
   "display_name": "Python 3",
   "language": "python",
   "name": "python3"
  },
  "language_info": {
   "codemirror_mode": {
    "name": "ipython",
    "version": 3
   },
   "file_extension": ".py",
   "mimetype": "text/x-python",
   "name": "python",
   "nbconvert_exporter": "python",
   "pygments_lexer": "ipython3",
   "version": "3.8.3"
  }
 },
 "nbformat": 4,
 "nbformat_minor": 4
}
