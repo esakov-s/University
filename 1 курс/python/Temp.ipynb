{
 "cells": [
  {
   "cell_type": "code",
   "execution_count": 6,
   "metadata": {},
   "outputs": [
    {
     "name": "stdout",
     "output_type": "stream",
     "text": [
      "1\n",
      "False\n"
     ]
    }
   ],
   "source": [
    "import math\n",
    "def is_simple(v):\n",
    "    if v == 1:\n",
    "        return False\n",
    "    for i in range (2, v):\n",
    "        if v % i == 0:\n",
    "            return False\n",
    "        \n",
    "    return True\n",
    "\n",
    "x = int(input())\n",
    "res = is_simple(x)\n",
    "print(res)"
   ]
  },
  {
   "cell_type": "code",
   "execution_count": 11,
   "metadata": {},
   "outputs": [
    {
     "name": "stdout",
     "output_type": "stream",
     "text": [
      "Введите год 2000\n",
      "True\n"
     ]
    }
   ],
   "source": [
    "def is_year_leap(year):\n",
    "    if (year % 4 == 0) and ((year % 100 != 0) or (year % 400 == 0)):\n",
    "        return True\n",
    "    return False\n",
    "year = int(input('Введите год '))\n",
    "print (is_year_leap(year))"
   ]
  },
  {
   "cell_type": "code",
   "execution_count": null,
   "metadata": {},
   "outputs": [],
   "source": []
  },
  {
   "cell_type": "code",
   "execution_count": null,
   "metadata": {},
   "outputs": [],
   "source": []
  }
 ],
 "metadata": {
  "kernelspec": {
   "display_name": "Python 3",
   "language": "python",
   "name": "python3"
  },
  "language_info": {
   "codemirror_mode": {
    "name": "ipython",
    "version": 3
   },
   "file_extension": ".py",
   "mimetype": "text/x-python",
   "name": "python",
   "nbconvert_exporter": "python",
   "pygments_lexer": "ipython3",
   "version": "3.8.3"
  }
 },
 "nbformat": 4,
 "nbformat_minor": 4
}
