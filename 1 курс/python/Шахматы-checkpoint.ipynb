{
 "cells": [
  {
   "cell_type": "code",
   "execution_count": 51,
   "metadata": {},
   "outputs": [
    {
     "name": "stdout",
     "output_type": "stream",
     "text": [
      "    A B C D E F G H\n",
      "\n",
      "8   r h b q k b h r\n",
      "7   p p p p p p p p\n",
      "6   . . . . . . . .\n",
      "5   . . . . . . . .\n",
      "4   . . . . . . . .\n",
      "3   . . . . . . . .\n",
      "2   P P P P P P P P\n",
      "1   R H B Q K B H R\n",
      "\n",
      "Ход белых:Rg7\n",
      "    A B C D E F G H\n",
      "\n",
      "8   r h b q k b h r\n",
      "7   p p p p p p p p\n",
      "6   . . . . . . . .\n",
      "5   . . . . . . . .\n",
      "4   . . . . . . . .\n",
      "3   . . . . . . . .\n",
      "2   P P P P P P P P\n",
      "1   R H B Q K B H R\n",
      "\n",
      "Ход чёрных:"
     ]
    }
   ],
   "source": [
    "class figure:\n",
    "    aser = 0\n",
    "\n",
    "class rook:\n",
    "    aser = 0\n",
    "\n",
    "class game_board:\n",
    "    cur = 0\n",
    "    def __init__(self):\n",
    "        cur = 0\n",
    "        self.desk = [['.'] * 8]\n",
    "        for i in range(0, 7):\n",
    "            self.desk.append(['.'] * 8)\n",
    "        self.desk[0][0], self.desk[0][7], self.desk[7][0], self.desk[7][7] = 'r', 'r', 'R', 'R'\n",
    "        self.desk[0][1], self.desk[0][6], self.desk[7][1], self.desk[7][6] = 'h', 'h', 'H', 'H'\n",
    "        self.desk[0][2], self.desk[0][5], self.desk[7][2], self.desk[7][5] = 'b', 'b', 'B', 'B'\n",
    "        self.desk[0][3], self.desk[7][3] = 'q', 'Q'\n",
    "        self.desk[0][4], self.desk[7][4] = 'k', 'K'\n",
    "        self.desk[1][0:8] = 'p' * 8\n",
    "        self.desk[6][0:8] = 'P' * 8\n",
    "        self.show()\n",
    "        \n",
    "    def make_move(self, move):\n",
    "        \n",
    "        self.cur = (self.cur + 1) % 2\n",
    "        self.show()\n",
    "    def show(self):\n",
    "        print(\"    A B C D E F G H\\n\")\n",
    "        j = 8\n",
    "        for i in self.desk:\n",
    "            print(j, \" \", *i)\n",
    "            j -= 1\n",
    "        print('\\nХод белых:' if self.cur == 0 else'\\nХод чёрных:', end = '')\n",
    "    def is_game_lost(self):\n",
    "        sd2 = 1\n",
    "        \n",
    "game = game_board()\n",
    "a = input()\n",
    "game.make_move(a)"
   ]
  },
  {
   "cell_type": "code",
   "execution_count": null,
   "metadata": {},
   "outputs": [],
   "source": []
  }
 ],
 "metadata": {
  "kernelspec": {
   "display_name": "Python 3",
   "language": "python",
   "name": "python3"
  },
  "language_info": {
   "codemirror_mode": {
    "name": "ipython",
    "version": 3
   },
   "file_extension": ".py",
   "mimetype": "text/x-python",
   "name": "python",
   "nbconvert_exporter": "python",
   "pygments_lexer": "ipython3",
   "version": "3.8.3"
  }
 },
 "nbformat": 4,
 "nbformat_minor": 4
}
